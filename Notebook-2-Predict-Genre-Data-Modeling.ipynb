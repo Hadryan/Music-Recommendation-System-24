{
 "cells": [
  {
   "cell_type": "markdown",
   "metadata": {},
   "source": [
    "### Notebook 2"
   ]
  },
  {
   "cell_type": "code",
   "execution_count": 1,
   "metadata": {},
   "outputs": [
    {
     "data": {
      "text/plain": [
       "True"
      ]
     },
     "execution_count": 1,
     "metadata": {},
     "output_type": "execute_result"
    }
   ],
   "source": [
    "# Import necessary libraries for spotify\n",
    "import spotipy\n",
    "from spotipy.oauth2 import SpotifyClientCredentials\n",
    "from spotipy.oauth2 import SpotifyOAuth\n",
    "from dotenv import load_dotenv\n",
    "load_dotenv()"
   ]
  },
  {
   "cell_type": "code",
   "execution_count": 2,
   "metadata": {},
   "outputs": [],
   "source": [
    "# Used to access spotify api\n",
    "scope = \"user-library-read\"\n",
    "sp = spotipy.Spotify(auth_manager=SpotifyOAuth(scope=scope))"
   ]
  },
  {
   "cell_type": "code",
   "execution_count": 3,
   "metadata": {},
   "outputs": [],
   "source": [
    "# Bring in the usual suspects\n",
    "import pickle\n",
    "import pandas as pd\n",
    "import numpy as np\n",
    "from sklearn.model_selection import train_test_split\n",
    "from sklearn.linear_model import LogisticRegression\n",
    "from sklearn.metrics import accuracy_score, f1_score, recall_score, precision_score\n",
    "from sklearn.preprocessing import StandardScaler, OneHotEncoder\n",
    "from sklearn.metrics import plot_confusion_matrix\n",
    "from sklearn.preprocessing import MinMaxScaler\n",
    "from sklearn.compose import ColumnTransformer"
   ]
  },
  {
   "cell_type": "markdown",
   "metadata": {},
   "source": [
    "#### Import the dataframe"
   ]
  },
  {
   "cell_type": "code",
   "execution_count": 4,
   "metadata": {},
   "outputs": [],
   "source": [
    "# Import model from notebook 1\n",
    "infile = open('pickled_files/df.pickle','rb')\n",
    "df = pickle.load(infile)\n",
    "infile.close()\n",
    "# Set index\n",
    "df.set_index('id', inplace = True)"
   ]
  },
  {
   "cell_type": "code",
   "execution_count": 5,
   "metadata": {
    "scrolled": true
   },
   "outputs": [
    {
     "name": "stdout",
     "output_type": "stream",
     "text": [
      "<class 'pandas.core.frame.DataFrame'>\n",
      "Index: 5257 entries, 4g6ulcIKVvL0IAyPIRhGBq to 76QLGx0NleOYqkDtL7HKIA\n",
      "Data columns (total 14 columns):\n",
      " #   Column            Non-Null Count  Dtype  \n",
      "---  ------            --------------  -----  \n",
      " 0   danceability      5257 non-null   float64\n",
      " 1   energy            5257 non-null   float64\n",
      " 2   key               5257 non-null   object \n",
      " 3   loudness          5257 non-null   float64\n",
      " 4   mode              5257 non-null   object \n",
      " 5   speechiness       5257 non-null   float64\n",
      " 6   acousticness      5257 non-null   float64\n",
      " 7   instrumentalness  5257 non-null   float64\n",
      " 8   liveness          5257 non-null   float64\n",
      " 9   valence           5257 non-null   float64\n",
      " 10  tempo             5257 non-null   float64\n",
      " 11  duration_ms       5257 non-null   float64\n",
      " 12  time_signature    5257 non-null   object \n",
      " 13  genre             5257 non-null   object \n",
      "dtypes: float64(10), object(4)\n",
      "memory usage: 616.1+ KB\n"
     ]
    }
   ],
   "source": [
    "df.info()"
   ]
  },
  {
   "cell_type": "code",
   "execution_count": 6,
   "metadata": {},
   "outputs": [
    {
     "data": {
      "text/plain": [
       "94"
      ]
     },
     "execution_count": 6,
     "metadata": {},
     "output_type": "execute_result"
    }
   ],
   "source": [
    "# The likelihood of a song having the same exact attributes of another song is extremely low \n",
    "# Bye bye duplicate songs\n",
    "df.duplicated().sum()"
   ]
  },
  {
   "cell_type": "code",
   "execution_count": 7,
   "metadata": {},
   "outputs": [],
   "source": [
    "# Drop in place and keep the first one\n",
    "df.drop_duplicates(inplace=True)"
   ]
  },
  {
   "cell_type": "code",
   "execution_count": 8,
   "metadata": {},
   "outputs": [
    {
     "data": {
      "text/plain": [
       "0"
      ]
     },
     "execution_count": 8,
     "metadata": {},
     "output_type": "execute_result"
    }
   ],
   "source": [
    "df.duplicated().sum()"
   ]
  },
  {
   "cell_type": "code",
   "execution_count": 9,
   "metadata": {},
   "outputs": [],
   "source": [
    "# Split the columns to easily use later\n",
    "categorical_columns = list(df.drop('genre', axis = 1).select_dtypes('object').columns)\n",
    "numerical_columns = list(df.drop('genre', axis = 1).select_dtypes(exclude = 'object').columns)"
   ]
  },
  {
   "cell_type": "markdown",
   "metadata": {},
   "source": [
    "### Modeling"
   ]
  },
  {
   "cell_type": "code",
   "execution_count": 10,
   "metadata": {},
   "outputs": [],
   "source": [
    "# Train test split \n",
    "X_train, X_test, y_train, y_test = train_test_split(df.drop(['genre'], axis=1),\n",
    "                                                    df.genre,\n",
    "                                                   random_state=9)"
   ]
  },
  {
   "cell_type": "code",
   "execution_count": 11,
   "metadata": {
    "scrolled": true
   },
   "outputs": [
    {
     "data": {
      "text/plain": [
       "hip-hop      0.413740\n",
       "alt-metal    0.245351\n",
       "rock         0.205320\n",
       "pop          0.135589\n",
       "Name: genre, dtype: float64"
      ]
     },
     "execution_count": 11,
     "metadata": {},
     "output_type": "execute_result"
    }
   ],
   "source": [
    "# See the percentage of each genre in the whole set\n",
    "y_train.value_counts(normalize=True)"
   ]
  },
  {
   "cell_type": "code",
   "execution_count": 12,
   "metadata": {},
   "outputs": [],
   "source": [
    "# Function to easily view results\n",
    "def evaluation_report(model, X_test, y_test):\n",
    "    \"\"\"\n",
    "    Function to easily view results of models.\n",
    "\n",
    "    Parameters:\n",
    "    model: Model you want to results for\n",
    "    X_test (DataFrame): X-Test set for scoring\n",
    "    y_test (DataFrame): Y-Test set for scoring\n",
    "\n",
    "\n",
    "    Returns:\n",
    "    Returns confusion matrix and F1-Score of model\n",
    "    \"\"\"\n",
    "    y_pred = model.predict(X_test)\n",
    "    print(f\"F1 Score: {f1_score(y_test, model.predict(X_test), average = 'macro')}\")\n",
    "    plot_confusion_matrix(model, X_test, y_test, cmap='GnBu',xticks_rotation='vertical')"
   ]
  },
  {
   "cell_type": "markdown",
   "metadata": {},
   "source": [
    "Going to use f1-score as our metric to compare since the severity of us getting a false negative or a false positive isn't high, but just in general get a great idea of what each genre may be. "
   ]
  },
  {
   "cell_type": "markdown",
   "metadata": {},
   "source": [
    "**First Simple Model**\n",
    "\n",
    "Give us a base model to compare future models to."
   ]
  },
  {
   "cell_type": "code",
   "execution_count": 13,
   "metadata": {},
   "outputs": [
    {
     "data": {
      "text/plain": [
       "LogisticRegression(random_state=9)"
      ]
     },
     "execution_count": 13,
     "metadata": {},
     "output_type": "execute_result"
    }
   ],
   "source": [
    "lr = LogisticRegression(random_state=9)\n",
    "ss = StandardScaler()\n",
    "lr.fit(ss.fit_transform(X_train), y_train)"
   ]
  },
  {
   "cell_type": "code",
   "execution_count": 14,
   "metadata": {},
   "outputs": [
    {
     "data": {
      "text/plain": [
       "array(['alt-metal', 'hip-hop', 'pop', 'rock'], dtype=object)"
      ]
     },
     "execution_count": 14,
     "metadata": {},
     "output_type": "execute_result"
    }
   ],
   "source": [
    "lr.classes_"
   ]
  },
  {
   "cell_type": "code",
   "execution_count": 15,
   "metadata": {},
   "outputs": [
    {
     "name": "stdout",
     "output_type": "stream",
     "text": [
      "Training\n",
      "F1 Score: 0.6338172695047991\n"
     ]
    },
    {
     "data": {
      "image/png": "[encoded data removed]",
      "text/plain": [
       "<Figure size 432x288 with 2 Axes>"
      ]
     },
     "metadata": {
      "needs_background": "light"
     },
     "output_type": "display_data"
    }
   ],
   "source": [
    "print('Training')\n",
    "evaluation_report(lr, ss.fit_transform(X_train), y_train)"
   ]
  },
  {
   "cell_type": "code",
   "execution_count": 16,
   "metadata": {
    "scrolled": true
   },
   "outputs": [
    {
     "name": "stdout",
     "output_type": "stream",
     "text": [
      "Testing\n",
      "F1 Score: 0.6194752480261612\n"
     ]
    },
    {
     "data": {
      "image/png": "[encoded data removed]",
      "text/plain": [
       "<Figure size 432x288 with 2 Axes>"
      ]
     },
     "metadata": {
      "needs_background": "light"
     },
     "output_type": "display_data"
    }
   ],
   "source": [
    "print('Testing')\n",
    "evaluation_report(lr, ss.transform(X_test), y_test)"
   ]
  },
  {
   "cell_type": "markdown",
   "metadata": {},
   "source": [
    "Training F1 Score: 0.6338172695047991<br>\n",
    "Testing F1 Score: 0.6194752480261612<br>"
   ]
  },
  {
   "cell_type": "markdown",
   "metadata": {},
   "source": [
    "- For not addressing the scaling or the class imbalance.. that's pretty good. \n",
    "- For the most part, the model generalized well for alternative metal, hip-hop, and rock but seemed to struggle with pop music, which makes sense since pop music encompasses a lot of styles. "
   ]
  },
  {
   "cell_type": "code",
   "execution_count": 17,
   "metadata": {},
   "outputs": [],
   "source": [
    "# Import imbalanced pipeline since you can't use SMOTE with the regular python pipeline\n",
    "from imblearn.pipeline import Pipeline as imbpipeline\n",
    "from sklearn.model_selection import GridSearchCV"
   ]
  },
  {
   "cell_type": "markdown",
   "metadata": {},
   "source": [
    "Create pipelines for preprocessing. One for numerical data, one for categorical data and a column transformer to do both."
   ]
  },
  {
   "cell_type": "code",
   "execution_count": 18,
   "metadata": {},
   "outputs": [],
   "source": [
    "#Create pipelines\n",
    "numerical_pipeline = imbpipeline(verbose=False,steps=[\n",
    "                                ('ss', StandardScaler())\n",
    "                            ])\n",
    "\n",
    "categorical_pipeline = imbpipeline(verbose=False,steps=[\n",
    "                            ('ohe', OneHotEncoder(drop='first',\n",
    "                                                 sparse=False,))\n",
    "                            ])\n",
    "\n",
    "col_trans = ColumnTransformer(verbose=False,transformers=[\n",
    "    ('numerical', numerical_pipeline, numerical_columns),\n",
    "    ('categorical', categorical_pipeline, categorical_columns)\n",
    "])\n",
    "\n",
    "col_ohe_solo = ColumnTransformer(verbose=False,transformers=[\n",
    "    ('categorical', categorical_pipeline, categorical_columns)\n",
    "])\n"
   ]
  },
  {
   "cell_type": "markdown",
   "metadata": {},
   "source": [
    "<hl>"
   ]
  },
  {
   "cell_type": "markdown",
   "metadata": {},
   "source": [
    "For the following models, I gridsearched the edge cases within the cells rather than creating new cells. "
   ]
  },
  {
   "cell_type": "markdown",
   "metadata": {},
   "source": [
    "**Second Model**"
   ]
  },
  {
   "cell_type": "markdown",
   "metadata": {},
   "source": [
    "- Column transform categorical and numerical\n",
    "- Address the class imbalance through a balanced class weight\n",
    "- And lets grid search for best params"
   ]
  },
  {
   "cell_type": "code",
   "execution_count": 19,
   "metadata": {},
   "outputs": [
    {
     "name": "stdout",
     "output_type": "stream",
     "text": [
      "Fitting 5 folds for each of 18 candidates, totalling 90 fits\n"
     ]
    },
    {
     "name": "stderr",
     "output_type": "stream",
     "text": [
      "[Parallel(n_jobs=-1)]: Using backend LokyBackend with 4 concurrent workers.\n",
      "[Parallel(n_jobs=-1)]: Done  42 tasks      | elapsed:   10.0s\n",
      "[Parallel(n_jobs=-1)]: Done  90 out of  90 | elapsed:   14.1s finished\n"
     ]
    },
    {
     "data": {
      "text/plain": [
       "GridSearchCV(estimator=Pipeline(steps=[('col_trans',\n",
       "                                        ColumnTransformer(transformers=[('numerical',\n",
       "                                                                         Pipeline(steps=[('ss',\n",
       "                                                                                          StandardScaler())]),\n",
       "                                                                         ['danceability',\n",
       "                                                                          'energy',\n",
       "                                                                          'loudness',\n",
       "                                                                          'speechiness',\n",
       "                                                                          'acousticness',\n",
       "                                                                          'instrumentalness',\n",
       "                                                                          'liveness',\n",
       "                                                                          'valence',\n",
       "                                                                          'tempo',\n",
       "                                                                          'duration_ms']),\n",
       "                                                                        ('categorical',\n",
       "                                                                         Pipeline(steps=[('ohe',\n",
       "                                                                                          OneHotEncoder(drop='first',\n",
       "                                                                                                        sparse=False))]),\n",
       "                                                                         ['key',\n",
       "                                                                          'mode',\n",
       "                                                                          'time_signature'])])),\n",
       "                                       ('lr',\n",
       "                                        LogisticRegression(class_weight='balanced',\n",
       "                                                           max_iter=10000,\n",
       "                                                           random_state=9))]),\n",
       "             n_jobs=-1,\n",
       "             param_grid=[{'lr__C': [0.75, 0.5, 0.25],\n",
       "                          'lr__penalty': ['l1', 'l2'],\n",
       "                          'lr__solver': ['saga', 'sag', 'lbfgs']}],\n",
       "             scoring='f1_macro', verbose=True)"
      ]
     },
     "execution_count": 19,
     "metadata": {},
     "output_type": "execute_result"
    }
   ],
   "source": [
    "pipe_log = imbpipeline(verbose=False, steps=[\n",
    "    ('col_trans', col_trans),\n",
    "    ('lr', LogisticRegression(max_iter = 10000, random_state=9, class_weight='balanced'))\n",
    "])\n",
    "\n",
    "param_grid = [\n",
    "    {\n",
    "     'lr__penalty' : ['l1','l2'],\n",
    "     'lr__C' : [.75,.5,.25],\n",
    "     'lr__solver' : ['saga','sag', 'lbfgs']\n",
    "    }, \n",
    "]\n",
    "\n",
    "gs_lr = GridSearchCV(pipe_log, param_grid = param_grid, \n",
    "                        scoring = 'f1_macro', n_jobs=-1, verbose=True)\n",
    "gs_lr.fit(X_train, y_train)"
   ]
  },
  {
   "cell_type": "code",
   "execution_count": 20,
   "metadata": {},
   "outputs": [
    {
     "data": {
      "text/plain": [
       "{'lr__C': 0.5, 'lr__penalty': 'l1', 'lr__solver': 'saga'}"
      ]
     },
     "execution_count": 20,
     "metadata": {},
     "output_type": "execute_result"
    }
   ],
   "source": [
    "gs_lr.best_params_"
   ]
  },
  {
   "cell_type": "code",
   "execution_count": 21,
   "metadata": {},
   "outputs": [
    {
     "name": "stdout",
     "output_type": "stream",
     "text": [
      "Training\n",
      "F1 Score: 0.6550664372965799\n"
     ]
    },
    {
     "data": {
      "image/png": "[encoded data removed]",
      "text/plain": [
       "<Figure size 432x288 with 2 Axes>"
      ]
     },
     "metadata": {
      "needs_background": "light"
     },
     "output_type": "display_data"
    }
   ],
   "source": [
    "print('Training')\n",
    "evaluation_report(gs_lr, X_train, y_train)"
   ]
  },
  {
   "cell_type": "code",
   "execution_count": 22,
   "metadata": {},
   "outputs": [
    {
     "name": "stdout",
     "output_type": "stream",
     "text": [
      "Testing\n",
      "F1 Score: 0.6378232353611454\n"
     ]
    },
    {
     "data": {
      "image/png": "[encoded data removed]",
      "text/plain": [
       "<Figure size 432x288 with 2 Axes>"
      ]
     },
     "metadata": {
      "needs_background": "light"
     },
     "output_type": "display_data"
    }
   ],
   "source": [
    "print('Testing')\n",
    "evaluation_report(gs_lr, X_test, y_test)"
   ]
  },
  {
   "cell_type": "markdown",
   "metadata": {},
   "source": [
    "Best params : {'lr__C': 0.5, <br>\n",
    "'lr__penalty': 'l1', <br>\n",
    "'lr__solver': 'saga'}<br>\n",
    "Training F1 Score: 0.6550664372965799<br>\n",
    "Testing F1 Score: 0.6378232353611454<br>"
   ]
  },
  {
   "cell_type": "code",
   "execution_count": 84,
   "metadata": {},
   "outputs": [
    {
     "data": {
      "text/plain": [
       "0.22941176470588234"
      ]
     },
     "execution_count": 84,
     "metadata": {},
     "output_type": "execute_result"
    }
   ],
   "source": [
    "39/(39+21+18+92)"
   ]
  },
  {
   "cell_type": "code",
   "execution_count": 87,
   "metadata": {},
   "outputs": [
    {
     "data": {
      "text/plain": [
       "0.03861003861003861"
      ]
     },
     "execution_count": 87,
     "metadata": {},
     "output_type": "execute_result"
    }
   ],
   "source": [
    "10/(59+10+52+138)"
   ]
  },
  {
   "cell_type": "markdown",
   "metadata": {},
   "source": [
    "- A higher score than our base model and continued low variance. \n",
    "\n",
    "- The model predicted alternative-metal correct for the most part but also considers some rock songs and some pop songs as alternative metal. Kind of suprised about the pop songs, but not surprised about the rock songs.\n",
    "\n",
    "- The model predicted that 70 hip-hop songs were pop songs, and that seems reasonable to me. I've gotten into many arguments about what is considered hip-hop haha. \n",
    "\n",
    "- The model predicted pop correctly for the most part but did misclassify some as rock. 22% of true pop songs were predicted as rock \n",
    "\n",
    "- The model confused rock songs alot, 43% of them were predicted a different genre.  But to be honest, many can make arguements for rock vs alt metal as well as rock vs pop confusions \n",
    "\n",
    "Lets keep going"
   ]
  },
  {
   "cell_type": "code",
   "execution_count": 23,
   "metadata": {},
   "outputs": [],
   "source": [
    "from imblearn.over_sampling import SMOTE\n",
    "from sklearn.ensemble import GradientBoostingClassifier"
   ]
  },
  {
   "cell_type": "code",
   "execution_count": 24,
   "metadata": {},
   "outputs": [],
   "source": [
    "ohe = OneHotEncoder(drop='first', sparse=False)\n",
    "sm = SMOTE(random_state = 9)\n"
   ]
  },
  {
   "cell_type": "markdown",
   "metadata": {},
   "source": [
    "At this point, I realized something was going wrong when I used the pipelines so in turn, I decided to drop the pipeline and transform the data manually."
   ]
  },
  {
   "cell_type": "code",
   "execution_count": 25,
   "metadata": {},
   "outputs": [
    {
     "data": {
      "text/plain": [
       "['key', 'mode', 'time_signature']"
      ]
     },
     "execution_count": 25,
     "metadata": {},
     "output_type": "execute_result"
    }
   ],
   "source": [
    "categorical_columns"
   ]
  },
  {
   "cell_type": "code",
   "execution_count": 26,
   "metadata": {},
   "outputs": [],
   "source": [
    "train_ohe = ohe.fit_transform(X_train[categorical_columns])"
   ]
  },
  {
   "cell_type": "code",
   "execution_count": 27,
   "metadata": {},
   "outputs": [],
   "source": [
    "test_ohe = ohe.transform(X_test[categorical_columns])"
   ]
  },
  {
   "cell_type": "code",
   "execution_count": 28,
   "metadata": {},
   "outputs": [],
   "source": [
    "train_ohe = X_train[numerical_columns].reset_index().join(pd.DataFrame(train_ohe)).set_index('id')"
   ]
  },
  {
   "cell_type": "code",
   "execution_count": 29,
   "metadata": {},
   "outputs": [],
   "source": [
    "train_sm = sm.fit_resample(train_ohe, y_train)"
   ]
  },
  {
   "cell_type": "code",
   "execution_count": 30,
   "metadata": {},
   "outputs": [],
   "source": [
    "test_ohe = X_test[numerical_columns].reset_index().join(pd.DataFrame(test_ohe)).set_index('id')"
   ]
  },
  {
   "cell_type": "markdown",
   "metadata": {},
   "source": [
    "**Model 3**"
   ]
  },
  {
   "cell_type": "markdown",
   "metadata": {},
   "source": [
    "Since we have a mixture of categorical and numerical features and a large amount of training samples, lets try XGBoost. Combine that with one hot encoder, smote, and gridsearch and let us see what happens. "
   ]
  },
  {
   "cell_type": "code",
   "execution_count": 31,
   "metadata": {},
   "outputs": [],
   "source": [
    "from xgboost import XGBClassifier"
   ]
  },
  {
   "cell_type": "code",
   "execution_count": 32,
   "metadata": {},
   "outputs": [],
   "source": [
    "#Make sure not to over fit\n",
    "xgbc = XGBClassifier(random_state = 9, n_jobs = -1)\n",
    "params = {\n",
    "    'max_depth': [1,2],\n",
    "    'learning_rate': [.1,.05,.01,.005],\n",
    "    'n_estimators': range(180,220,20),\n",
    "    'booster': ['gbtree', 'dart']\n",
    "}\n",
    "#Run gridsearch\n",
    "gs_xgbc = GridSearchCV(xgbc, param_grid=params, scoring='f1_macro', n_jobs =-1 )"
   ]
  },
  {
   "cell_type": "code",
   "execution_count": 33,
   "metadata": {
    "scrolled": true
   },
   "outputs": [
    {
     "data": {
      "text/plain": [
       "GridSearchCV(estimator=XGBClassifier(base_score=None, booster=None,\n",
       "                                     colsample_bylevel=None,\n",
       "                                     colsample_bynode=None,\n",
       "                                     colsample_bytree=None, gamma=None,\n",
       "                                     gpu_id=None, importance_type='gain',\n",
       "                                     interaction_constraints=None,\n",
       "                                     learning_rate=None, max_delta_step=None,\n",
       "                                     max_depth=None, min_child_weight=None,\n",
       "                                     missing=nan, monotone_constraints=None,\n",
       "                                     n_estimators=100, n_jobs=-1,\n",
       "                                     num_parallel_tree=None, random_state=9,\n",
       "                                     reg_alpha=None, reg_lambda=None,\n",
       "                                     scale_pos_weight=None, subsample=None,\n",
       "                                     tree_method=None, validate_parameters=None,\n",
       "                                     verbosity=None),\n",
       "             n_jobs=-1,\n",
       "             param_grid={'booster': ['gbtree', 'dart'],\n",
       "                         'learning_rate': [0.1, 0.05, 0.01, 0.005],\n",
       "                         'max_depth': [1, 2],\n",
       "                         'n_estimators': range(180, 220, 20)},\n",
       "             scoring='f1_macro')"
      ]
     },
     "execution_count": 33,
     "metadata": {},
     "output_type": "execute_result"
    }
   ],
   "source": [
    "gs_xgbc.fit(train_sm[0], train_sm[1])"
   ]
  },
  {
   "cell_type": "code",
   "execution_count": 34,
   "metadata": {},
   "outputs": [
    {
     "data": {
      "text/plain": [
       "{'booster': 'gbtree',\n",
       " 'learning_rate': 0.1,\n",
       " 'max_depth': 2,\n",
       " 'n_estimators': 200}"
      ]
     },
     "execution_count": 34,
     "metadata": {},
     "output_type": "execute_result"
    }
   ],
   "source": [
    "gs_xgbc.best_params_"
   ]
  },
  {
   "cell_type": "code",
   "execution_count": 35,
   "metadata": {},
   "outputs": [
    {
     "name": "stdout",
     "output_type": "stream",
     "text": [
      "Training\n",
      "F1 Score: 0.792061039474918\n"
     ]
    },
    {
     "data": {
      "image/png": "[encoded data removed]",
      "text/plain": [
       "<Figure size 432x288 with 2 Axes>"
      ]
     },
     "metadata": {
      "needs_background": "light"
     },
     "output_type": "display_data"
    }
   ],
   "source": [
    "print('Training')\n",
    "evaluation_report(gs_xgbc, train_sm[0], train_sm[1])"
   ]
  },
  {
   "cell_type": "code",
   "execution_count": 36,
   "metadata": {},
   "outputs": [
    {
     "name": "stdout",
     "output_type": "stream",
     "text": [
      "Testing\n",
      "F1 Score: 0.6644101633750323\n"
     ]
    },
    {
     "data": {
      "image/png": "[encoded data removed]",
      "text/plain": [
       "<Figure size 432x288 with 2 Axes>"
      ]
     },
     "metadata": {
      "needs_background": "light"
     },
     "output_type": "display_data"
    }
   ],
   "source": [
    "print('Testing')\n",
    "evaluation_report(gs_xgbc, test_ohe, y_test)"
   ]
  },
  {
   "cell_type": "markdown",
   "metadata": {},
   "source": [
    "Best Params: {'booster': 'gbtree',<br>\n",
    " 'learning_rate': 0.1, <br>\n",
    " 'max_depth': 2,<br>\n",
    " 'n_estimators': 200}<br>\n",
    " \n",
    " Training F1 Score: 0.792061039474918<br>\n",
    " Testing F1 Score: 0.6644101633750323<br>"
   ]
  },
  {
   "cell_type": "markdown",
   "metadata": {},
   "source": [
    "Predominantly, the model is predicting the correct genres. \n",
    "\n",
    "- Hip-hop and Alternative metal seem to be predicted correctly for the most part\n",
    "- Rock and Pop seems to be misclassified a lot\n",
    "- Pop songs are predicted as Pop, Rock, and Hip-hop... unsurprisingly\n",
    "- Rock songs are predicted as Rock, alternative-metal, and pop... unsurprisngly\n",
    "\n",
    "Still believe that these are predictions that make sense since one can make an argument about a song and its genre classification. \n",
    "\n",
    "High score, but high variance. Let's try to find a balance."
   ]
  },
  {
   "cell_type": "markdown",
   "metadata": {},
   "source": [
    "**Model 4**"
   ]
  },
  {
   "cell_type": "markdown",
   "metadata": {},
   "source": [
    "Here I wanted to try the logistic regression without the pipeline just to do a quick logic check as well as see if it made a difference. "
   ]
  },
  {
   "cell_type": "code",
   "execution_count": 37,
   "metadata": {},
   "outputs": [],
   "source": [
    "lr_col_trans = ColumnTransformer(verbose=False,transformers=[\n",
    "    ('numerical', numerical_pipeline, numerical_columns),\n",
    "    ('categorical', categorical_pipeline, categorical_columns)\n",
    "])\n",
    "\n",
    "lr_train_transf = lr_col_trans.fit_transform(X_train)\n",
    "lr_test_transf = lr_col_trans.transform(X_test)"
   ]
  },
  {
   "cell_type": "code",
   "execution_count": 38,
   "metadata": {},
   "outputs": [
    {
     "name": "stdout",
     "output_type": "stream",
     "text": [
      "Fitting 5 folds for each of 18 candidates, totalling 90 fits\n"
     ]
    },
    {
     "name": "stderr",
     "output_type": "stream",
     "text": [
      "[Parallel(n_jobs=-1)]: Using backend LokyBackend with 4 concurrent workers.\n",
      "[Parallel(n_jobs=-1)]: Done  42 tasks      | elapsed:    3.7s\n",
      "[Parallel(n_jobs=-1)]: Done  90 out of  90 | elapsed:    7.1s finished\n"
     ]
    },
    {
     "data": {
      "text/plain": [
       "GridSearchCV(estimator=LogisticRegression(class_weight='balanced',\n",
       "                                          max_iter=10000, random_state=9),\n",
       "             n_jobs=-1,\n",
       "             param_grid=[{'C': [0.75, 0.5, 0.25], 'penalty': ['l1', 'l2'],\n",
       "                          'solver': ['saga', 'sag', 'lbfgs']}],\n",
       "             scoring='f1_macro', verbose=True)"
      ]
     },
     "execution_count": 38,
     "metadata": {},
     "output_type": "execute_result"
    }
   ],
   "source": [
    "lr2 = LogisticRegression(max_iter = 10000, random_state=9, class_weight='balanced')\n",
    "\n",
    "param_grid = [\n",
    "    {\n",
    "     'penalty' : ['l1','l2'],\n",
    "     'C' : [.75,.5,.25],\n",
    "     'solver' : ['saga','sag', 'lbfgs']\n",
    "    }, \n",
    "]\n",
    "\n",
    "gs_lr2 = GridSearchCV(lr2, param_grid = param_grid, \n",
    "                        scoring = 'f1_macro', n_jobs=-1, verbose=True)\n",
    "gs_lr2.fit(lr_train_transf, y_train)"
   ]
  },
  {
   "cell_type": "code",
   "execution_count": 39,
   "metadata": {},
   "outputs": [
    {
     "data": {
      "text/plain": [
       "{'C': 0.5, 'penalty': 'l1', 'solver': 'saga'}"
      ]
     },
     "execution_count": 39,
     "metadata": {},
     "output_type": "execute_result"
    }
   ],
   "source": [
    "gs_lr2.best_params_"
   ]
  },
  {
   "cell_type": "code",
   "execution_count": 40,
   "metadata": {
    "scrolled": true
   },
   "outputs": [
    {
     "name": "stdout",
     "output_type": "stream",
     "text": [
      "Training\n",
      "F1 Score: 0.6550664372965799\n"
     ]
    },
    {
     "data": {
      "image/png": "[encoded data removed]",
      "text/plain": [
       "<Figure size 432x288 with 2 Axes>"
      ]
     },
     "metadata": {
      "needs_background": "light"
     },
     "output_type": "display_data"
    }
   ],
   "source": [
    "print('Training')\n",
    "evaluation_report(gs_lr2, lr_train_transf, y_train)"
   ]
  },
  {
   "cell_type": "code",
   "execution_count": 41,
   "metadata": {
    "scrolled": true
   },
   "outputs": [
    {
     "name": "stdout",
     "output_type": "stream",
     "text": [
      "Testing\n",
      "F1 Score: 0.6378232353611454\n"
     ]
    },
    {
     "data": {
      "image/png": "[encoded data removed]",
      "text/plain": [
       "<Figure size 432x288 with 2 Axes>"
      ]
     },
     "metadata": {
      "needs_background": "light"
     },
     "output_type": "display_data"
    }
   ],
   "source": [
    "print('Testing')\n",
    "evaluation_report(gs_lr2, lr_test_transf, y_test)"
   ]
  },
  {
   "cell_type": "markdown",
   "metadata": {},
   "source": [
    "- No difference, same scores as the inital logistic regression"
   ]
  },
  {
   "cell_type": "markdown",
   "metadata": {},
   "source": [
    "**Model 5**"
   ]
  },
  {
   "cell_type": "markdown",
   "metadata": {},
   "source": [
    "Let's try gradient boosting classifier. "
   ]
  },
  {
   "cell_type": "code",
   "execution_count": 42,
   "metadata": {},
   "outputs": [
    {
     "name": "stdout",
     "output_type": "stream",
     "text": [
      "Fitting 5 folds for each of 12 candidates, totalling 60 fits\n"
     ]
    },
    {
     "name": "stderr",
     "output_type": "stream",
     "text": [
      "[Parallel(n_jobs=-1)]: Using backend LokyBackend with 4 concurrent workers.\n",
      "[Parallel(n_jobs=-1)]: Done  42 tasks      | elapsed:  1.8min\n",
      "[Parallel(n_jobs=-1)]: Done  60 out of  60 | elapsed:  2.4min finished\n"
     ]
    },
    {
     "data": {
      "text/plain": [
       "GridSearchCV(estimator=GradientBoostingClassifier(random_state=9), n_jobs=-1,\n",
       "             param_grid=[{'learning_rate': [0.2, 0.21, 0.22], 'max_depth': [2],\n",
       "                          'max_leaf_nodes': [2, 3],\n",
       "                          'n_estimators': [120, 125]}],\n",
       "             scoring='f1_macro', verbose=True)"
      ]
     },
     "execution_count": 42,
     "metadata": {},
     "output_type": "execute_result"
    }
   ],
   "source": [
    "gbclf = GradientBoostingClassifier(random_state = 9)\n",
    "\n",
    "param_grid = [\n",
    "    {\n",
    "     'n_estimators' : [120,125],\n",
    "     'learning_rate' : [.20,.21,.22,],\n",
    "     'max_depth': [2],\n",
    "     'max_leaf_nodes': [2,3]\n",
    "    }, \n",
    "]\n",
    "\n",
    "gs_gbclf = GridSearchCV(gbclf, param_grid = param_grid, \n",
    "                        scoring = 'f1_macro', n_jobs=-1, verbose=True)\n",
    "gs_gbclf.fit(train_sm[0], train_sm[1])"
   ]
  },
  {
   "cell_type": "code",
   "execution_count": 43,
   "metadata": {},
   "outputs": [
    {
     "data": {
      "text/plain": [
       "{'learning_rate': 0.2,\n",
       " 'max_depth': 2,\n",
       " 'max_leaf_nodes': 3,\n",
       " 'n_estimators': 125}"
      ]
     },
     "execution_count": 43,
     "metadata": {},
     "output_type": "execute_result"
    }
   ],
   "source": [
    "gs_gbclf.best_params_"
   ]
  },
  {
   "cell_type": "code",
   "execution_count": 44,
   "metadata": {},
   "outputs": [
    {
     "name": "stdout",
     "output_type": "stream",
     "text": [
      "Training\n",
      "F1 Score: 0.8101436686297417\n"
     ]
    },
    {
     "data": {
      "image/png": "[encoded data removed]",
      "text/plain": [
       "<Figure size 432x288 with 2 Axes>"
      ]
     },
     "metadata": {
      "needs_background": "light"
     },
     "output_type": "display_data"
    }
   ],
   "source": [
    "print('Training')\n",
    "evaluation_report(gs_gbclf, train_sm[0], train_sm[1])"
   ]
  },
  {
   "cell_type": "code",
   "execution_count": 45,
   "metadata": {
    "scrolled": false
   },
   "outputs": [
    {
     "name": "stdout",
     "output_type": "stream",
     "text": [
      "Testing\n",
      "F1 Score: 0.6644712946812644\n"
     ]
    },
    {
     "data": {
      "image/png": "[encoded data removed]",
      "text/plain": [
       "<Figure size 432x288 with 2 Axes>"
      ]
     },
     "metadata": {
      "needs_background": "light"
     },
     "output_type": "display_data"
    }
   ],
   "source": [
    "print('Testing')\n",
    "evaluation_report(gs_gbclf, test_ohe, y_test)"
   ]
  },
  {
   "cell_type": "markdown",
   "metadata": {},
   "source": [
    "Best Params:<br> {'learning_rate': 0.2,<br>\n",
    "'max_depth': 2,<br>\n",
    "'n_estimators': 125,<br>\n",
    "'max_leaf_nodes': 3}<br><br>\n",
    "Training F1 Score: 0.8101436686297417<br>\n",
    "Testing F1 Score: 0.6644712946812644<br>"
   ]
  },
  {
   "cell_type": "markdown",
   "metadata": {},
   "source": [
    "- Same usual suspects of misclassification. \n",
    "- To be completely honest, just as long as hip-hop and alternative metal doesn't get confused, I'll be happy. I don't think there'll be a strong argument to confuse the two except on the rare occasion. \n",
    "\n",
    "- But again, high score but high variance. It's not the best best yet. "
   ]
  },
  {
   "cell_type": "markdown",
   "metadata": {},
   "source": [
    "**Model 6**"
   ]
  },
  {
   "cell_type": "markdown",
   "metadata": {},
   "source": [
    "Try XGBoost with an added class_weight attribute instead of SMOTE to account for the class imbalance. "
   ]
  },
  {
   "cell_type": "code",
   "execution_count": 46,
   "metadata": {},
   "outputs": [],
   "source": [
    "from sklearn.utils import class_weight\n",
    "classes_weights = class_weight.compute_sample_weight(\n",
    "    class_weight='balanced',\n",
    "    y=y_train\n",
    ")"
   ]
  },
  {
   "cell_type": "code",
   "execution_count": 47,
   "metadata": {},
   "outputs": [
    {
     "data": {
      "text/plain": [
       "array([0.60424469, 1.01894737, 0.60424469, ..., 0.60424469, 0.60424469,\n",
       "       0.60424469])"
      ]
     },
     "execution_count": 47,
     "metadata": {},
     "output_type": "execute_result"
    }
   ],
   "source": [
    "classes_weights"
   ]
  },
  {
   "cell_type": "code",
   "execution_count": 48,
   "metadata": {},
   "outputs": [
    {
     "data": {
      "text/plain": [
       "GridSearchCV(estimator=XGBClassifier(base_score=None, booster=None,\n",
       "                                     colsample_bylevel=None,\n",
       "                                     colsample_bynode=None,\n",
       "                                     colsample_bytree=None, gamma=None,\n",
       "                                     gpu_id=None, importance_type='gain',\n",
       "                                     interaction_constraints=None,\n",
       "                                     learning_rate=None, max_delta_step=None,\n",
       "                                     max_depth=None, min_child_weight=None,\n",
       "                                     missing=nan, monotone_constraints=None,\n",
       "                                     n_estimators=100, n_jobs=-1,\n",
       "                                     num_parallel_tree=None, random_state=9,\n",
       "                                     reg_alpha=None, reg_lambda=None,\n",
       "                                     scale_pos_weight=None, subsample=None,\n",
       "                                     tree_method=None, validate_parameters=None,\n",
       "                                     verbosity=None),\n",
       "             n_jobs=-1,\n",
       "             param_grid={'booster': ['gbtree', 'dart'],\n",
       "                         'learning_rate': [0.1, 0.05, 0.01, 0.005],\n",
       "                         'max_depth': [1, 2],\n",
       "                         'n_estimators': range(180, 220, 20)},\n",
       "             scoring='f1_macro')"
      ]
     },
     "execution_count": 48,
     "metadata": {},
     "output_type": "execute_result"
    }
   ],
   "source": [
    "xgbc2 = XGBClassifier(random_state = 9, n_jobs = -1)\n",
    "params = {\n",
    "    'max_depth': [1,2],\n",
    "    'learning_rate': [.1,.05,.01,.005],\n",
    "    'n_estimators': range(180,220,20),\n",
    "    'booster': ['gbtree','dart'],\n",
    "#     'weight': classes_weights\n",
    "}\n",
    "#Run gridsearch\n",
    "gs_xgbc2 = GridSearchCV(xgbc2, param_grid=params, scoring='f1_macro', n_jobs =-1 )\n",
    "gs_xgbc2.fit(train_ohe, y_train, sample_weight=classes_weights)"
   ]
  },
  {
   "cell_type": "code",
   "execution_count": 49,
   "metadata": {},
   "outputs": [
    {
     "data": {
      "text/plain": [
       "{'booster': 'gbtree',\n",
       " 'learning_rate': 0.1,\n",
       " 'max_depth': 2,\n",
       " 'n_estimators': 200}"
      ]
     },
     "execution_count": 49,
     "metadata": {},
     "output_type": "execute_result"
    }
   ],
   "source": [
    "gs_xgbc2.best_params_"
   ]
  },
  {
   "cell_type": "code",
   "execution_count": 50,
   "metadata": {},
   "outputs": [
    {
     "name": "stdout",
     "output_type": "stream",
     "text": [
      "Training\n",
      "F1 Score: 0.7498658011964736\n"
     ]
    },
    {
     "data": {
      "image/png": "[encoded data removed]",
      "text/plain": [
       "<Figure size 432x288 with 2 Axes>"
      ]
     },
     "metadata": {
      "needs_background": "light"
     },
     "output_type": "display_data"
    }
   ],
   "source": [
    "print('Training')\n",
    "evaluation_report(gs_xgbc2, train_ohe, y_train)"
   ]
  },
  {
   "cell_type": "code",
   "execution_count": 51,
   "metadata": {},
   "outputs": [
    {
     "name": "stdout",
     "output_type": "stream",
     "text": [
      "Testing\n",
      "F1 Score: 0.6703911125508744\n"
     ]
    },
    {
     "data": {
      "image/png": "[encoded data removed]",
      "text/plain": [
       "<Figure size 432x288 with 2 Axes>"
      ]
     },
     "metadata": {
      "needs_background": "light"
     },
     "output_type": "display_data"
    }
   ],
   "source": [
    "print('Testing')\n",
    "evaluation_report(gs_xgbc2, test_ohe, y_test)"
   ]
  },
  {
   "cell_type": "markdown",
   "metadata": {},
   "source": [
    "Best Params: <br>\n",
    "{'booster': 'gbtree',<br>\n",
    " 'learning_rate': 0.1,<br>\n",
    " 'max_depth': 2,<br>\n",
    " 'n_estimators': 200}<br>\n",
    "\n",
    "Training\n",
    "F1 Score: 0.7498658011964736<br>\n",
    "\n",
    "Testing\n",
    "F1 Score: 0.6703911125508744<br>"
   ]
  },
  {
   "cell_type": "markdown",
   "metadata": {},
   "source": [
    "- Passes the eye test. \n",
    "- Getting most of the true labels correct and arguments can be made about the misclassifications. \n",
    "- Glad to see few songs predicted as hip-hop when their true label is alternative-metal or rock. \n",
    "\n",
    "- High test score, low variance"
   ]
  },
  {
   "cell_type": "markdown",
   "metadata": {},
   "source": [
    "**Model 7**"
   ]
  },
  {
   "cell_type": "code",
   "execution_count": 52,
   "metadata": {},
   "outputs": [],
   "source": [
    "from sklearn.ensemble import RandomForestClassifier"
   ]
  },
  {
   "cell_type": "code",
   "execution_count": 53,
   "metadata": {},
   "outputs": [],
   "source": [
    "rf = RandomForestClassifier(n_jobs = -1, random_state = 9, class_weight = 'balanced')"
   ]
  },
  {
   "cell_type": "code",
   "execution_count": 54,
   "metadata": {},
   "outputs": [
    {
     "data": {
      "text/plain": [
       "GridSearchCV(estimator=RandomForestClassifier(class_weight='balanced',\n",
       "                                              n_jobs=-1, random_state=9),\n",
       "             n_jobs=-1,\n",
       "             param_grid={'criterion': ['gini', 'entropy'], 'max_depth': [6, 7],\n",
       "                         'n_estimators': [197, 198, 199, 300]},\n",
       "             scoring='f1_macro')"
      ]
     },
     "execution_count": 54,
     "metadata": {},
     "output_type": "execute_result"
    }
   ],
   "source": [
    "params = {\n",
    "    'max_depth': [6,7],\n",
    "    'n_estimators': [197,198,199,300],\n",
    "    'criterion': ['gini', 'entropy'],\n",
    "}\n",
    "\n",
    "#Run gridsearch\n",
    "gs_rf = GridSearchCV(rf, param_grid=params, scoring='f1_macro', n_jobs =-1 )\n",
    "gs_rf.fit(train_ohe, y_train)"
   ]
  },
  {
   "cell_type": "code",
   "execution_count": 55,
   "metadata": {},
   "outputs": [
    {
     "data": {
      "text/plain": [
       "{'criterion': 'entropy', 'max_depth': 7, 'n_estimators': 300}"
      ]
     },
     "execution_count": 55,
     "metadata": {},
     "output_type": "execute_result"
    }
   ],
   "source": [
    "gs_rf.best_params_"
   ]
  },
  {
   "cell_type": "code",
   "execution_count": 56,
   "metadata": {},
   "outputs": [
    {
     "name": "stdout",
     "output_type": "stream",
     "text": [
      "Training\n",
      "F1 Score: 0.7639927331391803\n"
     ]
    },
    {
     "data": {
      "image/png": "[encoded data removed]",
      "text/plain": [
       "<Figure size 432x288 with 2 Axes>"
      ]
     },
     "metadata": {
      "needs_background": "light"
     },
     "output_type": "display_data"
    }
   ],
   "source": [
    "print('Training')\n",
    "evaluation_report(gs_rf, train_ohe, y_train)"
   ]
  },
  {
   "cell_type": "code",
   "execution_count": 57,
   "metadata": {},
   "outputs": [
    {
     "name": "stdout",
     "output_type": "stream",
     "text": [
      "F1 Score: 0.6676533512109555\n"
     ]
    },
    {
     "data": {
      "image/png": "[encoded data removed]",
      "text/plain": [
       "<Figure size 432x288 with 2 Axes>"
      ]
     },
     "metadata": {
      "needs_background": "light"
     },
     "output_type": "display_data"
    }
   ],
   "source": [
    "evaluation_report(gs_rf, test_ohe, y_test)"
   ]
  },
  {
   "cell_type": "markdown",
   "metadata": {},
   "source": [
    "Best Params:<br>\n",
    "{'criterion': 'entropy',<br> 'max_depth': 7,<br> 'n_estimators': 198}<br>\n",
    "- Training F1 Score: 0.7639927331391803\n",
    "- Testing Score: 0.6676533512109555"
   ]
  },
  {
   "cell_type": "markdown",
   "metadata": {},
   "source": [
    "- To be honest, it doesn't seem like the model can get any better at predicting the true label of pop and rock. Maybe if we add more songs for both but its seems to have hit a wall. "
   ]
  },
  {
   "cell_type": "markdown",
   "metadata": {},
   "source": [
    "**Model 8**"
   ]
  },
  {
   "cell_type": "code",
   "execution_count": 58,
   "metadata": {},
   "outputs": [],
   "source": [
    "from sklearn.ensemble import VotingClassifier\n"
   ]
  },
  {
   "cell_type": "code",
   "execution_count": 59,
   "metadata": {},
   "outputs": [
    {
     "data": {
      "text/plain": [
       "VotingClassifier(estimators=[('xgb',\n",
       "                              XGBClassifier(base_score=0.5, booster='gbtree',\n",
       "                                            colsample_bylevel=1,\n",
       "                                            colsample_bynode=1,\n",
       "                                            colsample_bytree=1, gamma=0,\n",
       "                                            gpu_id=-1, importance_type='gain',\n",
       "                                            interaction_constraints='',\n",
       "                                            learning_rate=0.1, max_delta_step=0,\n",
       "                                            max_depth=2, min_child_weight=1,\n",
       "                                            missing=nan,\n",
       "                                            monotone_constraints='()',\n",
       "                                            n_estimators=200, n_jobs=-1,\n",
       "                                            num_paralle...\n",
       "                                            reg_lambda=1, scale_pos_weight=None,\n",
       "                                            subsample=1, tree_method='exact',\n",
       "                                            validate_parameters=1,\n",
       "                                            verbosity=None)),\n",
       "                             ('gbclf',\n",
       "                              GradientBoostingClassifier(learning_rate=0.2,\n",
       "                                                         max_depth=2,\n",
       "                                                         max_leaf_nodes=3,\n",
       "                                                         n_estimators=125,\n",
       "                                                         random_state=9)),\n",
       "                             ('rf',\n",
       "                              RandomForestClassifier(class_weight='balanced',\n",
       "                                                     criterion='entropy',\n",
       "                                                     max_depth=7,\n",
       "                                                     n_estimators=300,\n",
       "                                                     n_jobs=-1,\n",
       "                                                     random_state=9))])"
      ]
     },
     "execution_count": 59,
     "metadata": {},
     "output_type": "execute_result"
    }
   ],
   "source": [
    "voting_clf = VotingClassifier(\n",
    "                estimators=[('xgb', gs_xgbc2.best_estimator_), \n",
    "                            ('gbclf', gs_gbclf.best_estimator_),\n",
    "                             ('rf', gs_rf.best_estimator_)], \n",
    "                voting='hard')\n",
    "\n",
    "voting_clf.fit(train_ohe, y_train)"
   ]
  },
  {
   "cell_type": "code",
   "execution_count": 60,
   "metadata": {},
   "outputs": [
    {
     "name": "stdout",
     "output_type": "stream",
     "text": [
      "Training\n",
      "F1 Score: 0.7610323336264708\n"
     ]
    },
    {
     "data": {
      "image/png": "[encoded data removed]",
      "text/plain": [
       "<Figure size 432x288 with 2 Axes>"
      ]
     },
     "metadata": {
      "needs_background": "light"
     },
     "output_type": "display_data"
    }
   ],
   "source": [
    "print(\"Training\")\n",
    "evaluation_report(voting_clf, train_ohe, y_train)"
   ]
  },
  {
   "cell_type": "code",
   "execution_count": 61,
   "metadata": {},
   "outputs": [
    {
     "name": "stdout",
     "output_type": "stream",
     "text": [
      "Testing\n",
      "F1 Score: 0.6772983997732586\n"
     ]
    },
    {
     "data": {
      "image/png": "[encoded data removed]",
      "text/plain": [
       "<Figure size 432x288 with 2 Axes>"
      ]
     },
     "metadata": {
      "needs_background": "light"
     },
     "output_type": "display_data"
    }
   ],
   "source": [
    "print(\"Testing\")\n",
    "evaluation_report(voting_clf, test_ohe, y_test)"
   ]
  },
  {
   "cell_type": "markdown",
   "metadata": {},
   "source": [
    "Training F1 Score: 0.7610323336264708<br>\n",
    "Testing F1 Score: 0.6772983997732586"
   ]
  },
  {
   "cell_type": "markdown",
   "metadata": {},
   "source": [
    "- Definitely the model that best predicted the true values correctly. \n",
    "- It definitely gets confused with pop but it isn't outrageous where it's predicting alternative metal songs as pop a lot, which would be outrageous, and thats okay. \n",
    "\n",
    "- Highest testing score with the lowest variance!"
   ]
  },
  {
   "cell_type": "markdown",
   "metadata": {},
   "source": [
    "### Evaluation"
   ]
  },
  {
   "cell_type": "markdown",
   "metadata": {},
   "source": [
    "#### Pick the best model "
   ]
  },
  {
   "cell_type": "code",
   "execution_count": 62,
   "metadata": {},
   "outputs": [],
   "source": [
    "best_model = voting_clf"
   ]
  },
  {
   "cell_type": "code",
   "execution_count": 63,
   "metadata": {},
   "outputs": [],
   "source": [
    "X_final = df.drop('genre', axis = 1)\n",
    "y_final = df.genre"
   ]
  },
  {
   "cell_type": "code",
   "execution_count": 64,
   "metadata": {},
   "outputs": [],
   "source": [
    "# Follow the same transformation on the initial model and do the same to whole dataframe\n",
    "final_ohe = ohe.transform(X_final[categorical_columns])\n",
    "final_ohe = X_final[numerical_columns].reset_index().join(pd.DataFrame(final_ohe)).set_index('id')"
   ]
  },
  {
   "cell_type": "code",
   "execution_count": 65,
   "metadata": {
    "scrolled": true
   },
   "outputs": [
    {
     "data": {
      "text/html": [
       "<div>\n",
       "<style scoped>\n",
       "    .dataframe tbody tr th:only-of-type {\n",
       "        vertical-align: middle;\n",
       "    }\n",
       "\n",
       "    .dataframe tbody tr th {\n",
       "        vertical-align: top;\n",
       "    }\n",
       "\n",
       "    .dataframe thead th {\n",
       "        text-align: right;\n",
       "    }\n",
       "</style>\n",
       "<table border=\"1\" class=\"dataframe\">\n",
       "  <thead>\n",
       "    <tr style=\"text-align: right;\">\n",
       "      <th></th>\n",
       "      <th>danceability</th>\n",
       "      <th>energy</th>\n",
       "      <th>loudness</th>\n",
       "      <th>speechiness</th>\n",
       "      <th>acousticness</th>\n",
       "      <th>instrumentalness</th>\n",
       "      <th>liveness</th>\n",
       "      <th>valence</th>\n",
       "      <th>tempo</th>\n",
       "      <th>duration_ms</th>\n",
       "      <th>...</th>\n",
       "      <th>5</th>\n",
       "      <th>6</th>\n",
       "      <th>7</th>\n",
       "      <th>8</th>\n",
       "      <th>9</th>\n",
       "      <th>10</th>\n",
       "      <th>11</th>\n",
       "      <th>12</th>\n",
       "      <th>13</th>\n",
       "      <th>14</th>\n",
       "    </tr>\n",
       "    <tr>\n",
       "      <th>id</th>\n",
       "      <th></th>\n",
       "      <th></th>\n",
       "      <th></th>\n",
       "      <th></th>\n",
       "      <th></th>\n",
       "      <th></th>\n",
       "      <th></th>\n",
       "      <th></th>\n",
       "      <th></th>\n",
       "      <th></th>\n",
       "      <th></th>\n",
       "      <th></th>\n",
       "      <th></th>\n",
       "      <th></th>\n",
       "      <th></th>\n",
       "      <th></th>\n",
       "      <th></th>\n",
       "      <th></th>\n",
       "      <th></th>\n",
       "      <th></th>\n",
       "      <th></th>\n",
       "    </tr>\n",
       "  </thead>\n",
       "  <tbody>\n",
       "    <tr>\n",
       "      <th>4g6ulcIKVvL0IAyPIRhGBq</th>\n",
       "      <td>0.353</td>\n",
       "      <td>0.499</td>\n",
       "      <td>-5.830</td>\n",
       "      <td>0.0330</td>\n",
       "      <td>0.00144</td>\n",
       "      <td>0.721000</td>\n",
       "      <td>0.1600</td>\n",
       "      <td>0.191</td>\n",
       "      <td>143.568</td>\n",
       "      <td>247667.0</td>\n",
       "      <td>...</td>\n",
       "      <td>0.0</td>\n",
       "      <td>1.0</td>\n",
       "      <td>0.0</td>\n",
       "      <td>0.0</td>\n",
       "      <td>0.0</td>\n",
       "      <td>0.0</td>\n",
       "      <td>1.0</td>\n",
       "      <td>0.0</td>\n",
       "      <td>1.0</td>\n",
       "      <td>0.0</td>\n",
       "    </tr>\n",
       "    <tr>\n",
       "      <th>0R7Gz7fHik0A9kklCAzAWj</th>\n",
       "      <td>0.495</td>\n",
       "      <td>0.791</td>\n",
       "      <td>-5.532</td>\n",
       "      <td>0.0372</td>\n",
       "      <td>0.02410</td>\n",
       "      <td>0.000079</td>\n",
       "      <td>0.1640</td>\n",
       "      <td>0.127</td>\n",
       "      <td>128.062</td>\n",
       "      <td>241447.0</td>\n",
       "      <td>...</td>\n",
       "      <td>0.0</td>\n",
       "      <td>0.0</td>\n",
       "      <td>0.0</td>\n",
       "      <td>0.0</td>\n",
       "      <td>1.0</td>\n",
       "      <td>0.0</td>\n",
       "      <td>1.0</td>\n",
       "      <td>0.0</td>\n",
       "      <td>1.0</td>\n",
       "      <td>0.0</td>\n",
       "    </tr>\n",
       "    <tr>\n",
       "      <th>2MNQMtZbOb7rBWli3TSok0</th>\n",
       "      <td>0.788</td>\n",
       "      <td>0.594</td>\n",
       "      <td>-4.864</td>\n",
       "      <td>0.3360</td>\n",
       "      <td>0.02490</td>\n",
       "      <td>0.000017</td>\n",
       "      <td>0.0534</td>\n",
       "      <td>0.691</td>\n",
       "      <td>83.840</td>\n",
       "      <td>228907.0</td>\n",
       "      <td>...</td>\n",
       "      <td>1.0</td>\n",
       "      <td>0.0</td>\n",
       "      <td>0.0</td>\n",
       "      <td>0.0</td>\n",
       "      <td>0.0</td>\n",
       "      <td>0.0</td>\n",
       "      <td>0.0</td>\n",
       "      <td>0.0</td>\n",
       "      <td>1.0</td>\n",
       "      <td>0.0</td>\n",
       "    </tr>\n",
       "    <tr>\n",
       "      <th>3muBQDekYAg7jm6hDu6R0Z</th>\n",
       "      <td>0.587</td>\n",
       "      <td>0.711</td>\n",
       "      <td>-6.330</td>\n",
       "      <td>0.4200</td>\n",
       "      <td>0.17100</td>\n",
       "      <td>0.000000</td>\n",
       "      <td>0.1250</td>\n",
       "      <td>0.381</td>\n",
       "      <td>98.008</td>\n",
       "      <td>254694.0</td>\n",
       "      <td>...</td>\n",
       "      <td>0.0</td>\n",
       "      <td>0.0</td>\n",
       "      <td>0.0</td>\n",
       "      <td>0.0</td>\n",
       "      <td>0.0</td>\n",
       "      <td>0.0</td>\n",
       "      <td>1.0</td>\n",
       "      <td>0.0</td>\n",
       "      <td>1.0</td>\n",
       "      <td>0.0</td>\n",
       "    </tr>\n",
       "    <tr>\n",
       "      <th>73F87Sqh6jQWucOOvz1WFx</th>\n",
       "      <td>0.622</td>\n",
       "      <td>0.621</td>\n",
       "      <td>-4.924</td>\n",
       "      <td>0.1290</td>\n",
       "      <td>0.08640</td>\n",
       "      <td>0.000098</td>\n",
       "      <td>0.1210</td>\n",
       "      <td>0.567</td>\n",
       "      <td>158.946</td>\n",
       "      <td>213040.0</td>\n",
       "      <td>...</td>\n",
       "      <td>0.0</td>\n",
       "      <td>0.0</td>\n",
       "      <td>0.0</td>\n",
       "      <td>0.0</td>\n",
       "      <td>0.0</td>\n",
       "      <td>1.0</td>\n",
       "      <td>0.0</td>\n",
       "      <td>0.0</td>\n",
       "      <td>1.0</td>\n",
       "      <td>0.0</td>\n",
       "    </tr>\n",
       "  </tbody>\n",
       "</table>\n",
       "<p>5 rows × 25 columns</p>\n",
       "</div>"
      ],
      "text/plain": [
       "                        danceability  energy  loudness  speechiness  \\\n",
       "id                                                                    \n",
       "4g6ulcIKVvL0IAyPIRhGBq         0.353   0.499    -5.830       0.0330   \n",
       "0R7Gz7fHik0A9kklCAzAWj         0.495   0.791    -5.532       0.0372   \n",
       "2MNQMtZbOb7rBWli3TSok0         0.788   0.594    -4.864       0.3360   \n",
       "3muBQDekYAg7jm6hDu6R0Z         0.587   0.711    -6.330       0.4200   \n",
       "73F87Sqh6jQWucOOvz1WFx         0.622   0.621    -4.924       0.1290   \n",
       "\n",
       "                        acousticness  instrumentalness  liveness  valence  \\\n",
       "id                                                                          \n",
       "4g6ulcIKVvL0IAyPIRhGBq       0.00144          0.721000    0.1600    0.191   \n",
       "0R7Gz7fHik0A9kklCAzAWj       0.02410          0.000079    0.1640    0.127   \n",
       "2MNQMtZbOb7rBWli3TSok0       0.02490          0.000017    0.0534    0.691   \n",
       "3muBQDekYAg7jm6hDu6R0Z       0.17100          0.000000    0.1250    0.381   \n",
       "73F87Sqh6jQWucOOvz1WFx       0.08640          0.000098    0.1210    0.567   \n",
       "\n",
       "                          tempo  duration_ms  ...    5    6    7    8    9  \\\n",
       "id                                            ...                            \n",
       "4g6ulcIKVvL0IAyPIRhGBq  143.568     247667.0  ...  0.0  1.0  0.0  0.0  0.0   \n",
       "0R7Gz7fHik0A9kklCAzAWj  128.062     241447.0  ...  0.0  0.0  0.0  0.0  1.0   \n",
       "2MNQMtZbOb7rBWli3TSok0   83.840     228907.0  ...  1.0  0.0  0.0  0.0  0.0   \n",
       "3muBQDekYAg7jm6hDu6R0Z   98.008     254694.0  ...  0.0  0.0  0.0  0.0  0.0   \n",
       "73F87Sqh6jQWucOOvz1WFx  158.946     213040.0  ...  0.0  0.0  0.0  0.0  0.0   \n",
       "\n",
       "                         10   11   12   13   14  \n",
       "id                                               \n",
       "4g6ulcIKVvL0IAyPIRhGBq  0.0  1.0  0.0  1.0  0.0  \n",
       "0R7Gz7fHik0A9kklCAzAWj  0.0  1.0  0.0  1.0  0.0  \n",
       "2MNQMtZbOb7rBWli3TSok0  0.0  0.0  0.0  1.0  0.0  \n",
       "3muBQDekYAg7jm6hDu6R0Z  0.0  1.0  0.0  1.0  0.0  \n",
       "73F87Sqh6jQWucOOvz1WFx  1.0  0.0  0.0  1.0  0.0  \n",
       "\n",
       "[5 rows x 25 columns]"
      ]
     },
     "execution_count": 65,
     "metadata": {},
     "output_type": "execute_result"
    }
   ],
   "source": [
    "final_ohe.head()"
   ]
  },
  {
   "cell_type": "markdown",
   "metadata": {},
   "source": [
    "#### Fit the best model on whole dataset"
   ]
  },
  {
   "cell_type": "code",
   "execution_count": 66,
   "metadata": {},
   "outputs": [
    {
     "data": {
      "text/plain": [
       "VotingClassifier(estimators=[('xgb',\n",
       "                              XGBClassifier(base_score=0.5, booster='gbtree',\n",
       "                                            colsample_bylevel=1,\n",
       "                                            colsample_bynode=1,\n",
       "                                            colsample_bytree=1, gamma=0,\n",
       "                                            gpu_id=-1, importance_type='gain',\n",
       "                                            interaction_constraints='',\n",
       "                                            learning_rate=0.1, max_delta_step=0,\n",
       "                                            max_depth=2, min_child_weight=1,\n",
       "                                            missing=nan,\n",
       "                                            monotone_constraints='()',\n",
       "                                            n_estimators=200, n_jobs=-1,\n",
       "                                            num_paralle...\n",
       "                                            reg_lambda=1, scale_pos_weight=None,\n",
       "                                            subsample=1, tree_method='exact',\n",
       "                                            validate_parameters=1,\n",
       "                                            verbosity=None)),\n",
       "                             ('gbclf',\n",
       "                              GradientBoostingClassifier(learning_rate=0.2,\n",
       "                                                         max_depth=2,\n",
       "                                                         max_leaf_nodes=3,\n",
       "                                                         n_estimators=125,\n",
       "                                                         random_state=9)),\n",
       "                             ('rf',\n",
       "                              RandomForestClassifier(class_weight='balanced',\n",
       "                                                     criterion='entropy',\n",
       "                                                     max_depth=7,\n",
       "                                                     n_estimators=300,\n",
       "                                                     n_jobs=-1,\n",
       "                                                     random_state=9))])"
      ]
     },
     "execution_count": 66,
     "metadata": {},
     "output_type": "execute_result"
    }
   ],
   "source": [
    "#Fit best model on whole dataset\n",
    "best_model.fit(final_ohe, y_final)"
   ]
  },
  {
   "cell_type": "code",
   "execution_count": 67,
   "metadata": {
    "scrolled": true
   },
   "outputs": [
    {
     "name": "stdout",
     "output_type": "stream",
     "text": [
      "F1 Score: 0.7492299453412237\n"
     ]
    },
    {
     "data": {
      "image/png": "[encoded data removed]",
      "text/plain": [
       "<Figure size 432x288 with 2 Axes>"
      ]
     },
     "metadata": {
      "needs_background": "light"
     },
     "output_type": "display_data"
    }
   ],
   "source": [
    "# See how well it does\n",
    "evaluation_report(best_model, final_ohe, y_final)"
   ]
  },
  {
   "cell_type": "markdown",
   "metadata": {},
   "source": [
    "Pretty high score for the test score for the set it trained on "
   ]
  },
  {
   "cell_type": "markdown",
   "metadata": {},
   "source": [
    "#### See which features are most important in predicting genre"
   ]
  },
  {
   "cell_type": "code",
   "execution_count": 68,
   "metadata": {},
   "outputs": [],
   "source": [
    "vclf_xgbc = best_model.estimators_[0]"
   ]
  },
  {
   "cell_type": "code",
   "execution_count": 69,
   "metadata": {},
   "outputs": [
    {
     "data": {
      "image/png": "[encoded data removed]",
      "text/plain": [
       "<Figure size 432x288 with 1 Axes>"
      ]
     },
     "metadata": {
      "needs_background": "light"
     },
     "output_type": "display_data"
    }
   ],
   "source": [
    "# Plot feature importance from gradient boosting classifier\n",
    "pd.DataFrame([final_ohe.columns,vclf_xgbc.feature_importances_]).T.set_index(0).sort_values(by=1, \n",
    "                                                                                           ascending = False)[:10].sort_values(by=1, \n",
    "                                                                                                                               ascending = True).plot(kind=\"barh\", width=.2, grid=True,\n",
    "                                                                                                                                                      title = \"XGB Feature Importance\");\n"
   ]
  },
  {
   "cell_type": "markdown",
   "metadata": {},
   "source": [
    "Add unsurprisingly, the features that had clear differences in the EDA are the features that have the most importance. We won't be able to tell the gravitas of each feature or which feature predicts which genre more but cool to see. No surprises.  "
   ]
  },
  {
   "cell_type": "code",
   "execution_count": 70,
   "metadata": {},
   "outputs": [],
   "source": [
    "vclf_gbc = best_model.estimators_[1]"
   ]
  },
  {
   "cell_type": "code",
   "execution_count": 71,
   "metadata": {},
   "outputs": [
    {
     "data": {
      "image/png": "[encoded data removed]",
      "text/plain": [
       "<Figure size 432x288 with 1 Axes>"
      ]
     },
     "metadata": {
      "needs_background": "light"
     },
     "output_type": "display_data"
    }
   ],
   "source": [
    "# Plot feature importance from gradient boosting classifier\n",
    "pd.DataFrame([final_ohe.columns,vclf_gbc.feature_importances_]).T.set_index(0).sort_values(by=1, \n",
    "                                                                                           ascending = False)[:10].sort_values(by=1, \n",
    "                                                                                                                               ascending = True).plot(kind=\"barh\", width=.2, grid=True,\n",
    "                                                                                                                                                      title = \"GBC Feature Importance\");\n"
   ]
  },
  {
   "cell_type": "markdown",
   "metadata": {},
   "source": [
    "And with gradient boosting classifier, the feature importance is relatively the same as the XGBoost classifier with few differences but with the GBC, we can see the impact of each feature. "
   ]
  },
  {
   "cell_type": "code",
   "execution_count": 72,
   "metadata": {
    "scrolled": true
   },
   "outputs": [
    {
     "data": {
      "image/png": "[encoded data removed]",
      "text/plain": [
       "<Figure size 432x288 with 1 Axes>"
      ]
     },
     "metadata": {
      "needs_background": "light"
     },
     "output_type": "display_data"
    }
   ],
   "source": [
    "vclf_rf = best_model.estimators_[2]\n",
    "pd.DataFrame([final_ohe.columns,vclf_rf.feature_importances_]).T.set_index(0).sort_values(by=1, \n",
    "                                                                                           ascending = False)[:10].sort_values(by=1, \n",
    "                                                                                                                               ascending = True).plot(kind=\"barh\", width=.2, grid=True,\n",
    "                                                                                                                                                      title = \"RF Feature Importance\");"
   ]
  },
  {
   "cell_type": "markdown",
   "metadata": {},
   "source": [
    "Just as the above two, similar top 3 feature importance across the models with varying differences afterwards.  "
   ]
  },
  {
   "cell_type": "code",
   "execution_count": 73,
   "metadata": {},
   "outputs": [],
   "source": [
    "import shap"
   ]
  },
  {
   "cell_type": "code",
   "execution_count": 74,
   "metadata": {},
   "outputs": [
    {
     "data": {
      "text/plain": [
       "array(['alt-metal', 'hip-hop', 'pop', 'rock'], dtype=object)"
      ]
     },
     "execution_count": 74,
     "metadata": {},
     "output_type": "execute_result"
    }
   ],
   "source": [
    "voting_clf.classes_"
   ]
  },
  {
   "cell_type": "code",
   "execution_count": 75,
   "metadata": {},
   "outputs": [
    {
     "data": {
      "image/png": "[encoded data removed]",
      "text/plain": [
       "<Figure size 576x252 with 1 Axes>"
      ]
     },
     "metadata": {
      "needs_background": "light"
     },
     "output_type": "display_data"
    }
   ],
   "source": [
    "explainer = shap.TreeExplainer(vclf_xgbc)\n",
    "shap_values = explainer.shap_values(final_ohe)\n",
    "shap.summary_plot(shap_values, features=final_ohe, \n",
    "                  feature_names=final_ohe.columns, \n",
    "                  class_names = voting_clf.classes_,\n",
    "                  title = \"XGBC Feature Importance\", \n",
    "                  max_display = 5)"
   ]
  },
  {
   "cell_type": "code",
   "execution_count": 76,
   "metadata": {},
   "outputs": [
    {
     "data": {
      "image/png": "[encoded data removed]",
      "text/plain": [
       "<Figure size 576x252 with 1 Axes>"
      ]
     },
     "metadata": {
      "needs_background": "light"
     },
     "output_type": "display_data"
    }
   ],
   "source": [
    "explainer = shap.TreeExplainer(vclf_rf)\n",
    "shap_values = explainer.shap_values(final_ohe)\n",
    "shap.summary_plot(shap_values, features=final_ohe, \n",
    "                  feature_names=final_ohe.columns, \n",
    "                  class_names = voting_clf.classes_,\n",
    "                 max_display = 5)"
   ]
  },
  {
   "cell_type": "code",
   "execution_count": 77,
   "metadata": {},
   "outputs": [
    {
     "data": {
      "text/plain": [
       "GradientBoostingClassifier(learning_rate=0.2, max_depth=2, max_leaf_nodes=3,\n",
       "                           n_estimators=125, random_state=9)"
      ]
     },
     "execution_count": 77,
     "metadata": {},
     "output_type": "execute_result"
    }
   ],
   "source": [
    "vclf_gbc"
   ]
  },
  {
   "cell_type": "code",
   "execution_count": 78,
   "metadata": {},
   "outputs": [],
   "source": [
    "#Doesn't seem to work\n",
    "\n",
    "# explainer = shap.TreeExplainer(vclf_gbc)\n",
    "# shap_values = explainer.shap_values(final_ohe)\n",
    "# shap.summary_plot(shap_values, features=final_ohe, \n",
    "#                   feature_names=final_ohe.columns, \n",
    "#                   class_names = voting_clf.classes_)\n",
    "\n",
    "\n",
    "# AssertionError: GradientBoostingClassifier is only supported for binary classification right now!"
   ]
  },
  {
   "cell_type": "markdown",
   "metadata": {},
   "source": [
    "#### Modify the dataset with the results"
   ]
  },
  {
   "cell_type": "code",
   "execution_count": 79,
   "metadata": {},
   "outputs": [],
   "source": [
    "all_songs = df"
   ]
  },
  {
   "cell_type": "markdown",
   "metadata": {},
   "source": [
    "Add the predicted genre as the genre for each song to use in our content based recommender system and drop the intial genre column pulled by the playlist. "
   ]
  },
  {
   "cell_type": "code",
   "execution_count": 80,
   "metadata": {},
   "outputs": [],
   "source": [
    "all_songs['predicted_genre'] = best_model.predict(final_ohe)\n",
    "all_songs.drop(['genre'], axis = 1, inplace = True)"
   ]
  },
  {
   "cell_type": "markdown",
   "metadata": {},
   "source": [
    "#### Export the model"
   ]
  },
  {
   "cell_type": "code",
   "execution_count": 81,
   "metadata": {},
   "outputs": [],
   "source": [
    "#Export the best model to be used in the other notebooks.\n",
    "# pickle_out = open('pickled_files/all_songs_genre_predicted.pickle',\"wb\")\n",
    "# pickle.dump([all_songs, best_model, ohe], pickle_out)\n",
    "# pickle_out.close()"
   ]
  },
  {
   "cell_type": "code",
   "execution_count": 82,
   "metadata": {},
   "outputs": [
    {
     "data": {
      "text/html": [
       "<div>\n",
       "<style scoped>\n",
       "    .dataframe tbody tr th:only-of-type {\n",
       "        vertical-align: middle;\n",
       "    }\n",
       "\n",
       "    .dataframe tbody tr th {\n",
       "        vertical-align: top;\n",
       "    }\n",
       "\n",
       "    .dataframe thead th {\n",
       "        text-align: right;\n",
       "    }\n",
       "</style>\n",
       "<table border=\"1\" class=\"dataframe\">\n",
       "  <thead>\n",
       "    <tr style=\"text-align: right;\">\n",
       "      <th></th>\n",
       "      <th>danceability</th>\n",
       "      <th>energy</th>\n",
       "      <th>key</th>\n",
       "      <th>loudness</th>\n",
       "      <th>mode</th>\n",
       "      <th>speechiness</th>\n",
       "      <th>acousticness</th>\n",
       "      <th>instrumentalness</th>\n",
       "      <th>liveness</th>\n",
       "      <th>valence</th>\n",
       "      <th>tempo</th>\n",
       "      <th>duration_ms</th>\n",
       "      <th>time_signature</th>\n",
       "      <th>predicted_genre</th>\n",
       "    </tr>\n",
       "    <tr>\n",
       "      <th>id</th>\n",
       "      <th></th>\n",
       "      <th></th>\n",
       "      <th></th>\n",
       "      <th></th>\n",
       "      <th></th>\n",
       "      <th></th>\n",
       "      <th></th>\n",
       "      <th></th>\n",
       "      <th></th>\n",
       "      <th></th>\n",
       "      <th></th>\n",
       "      <th></th>\n",
       "      <th></th>\n",
       "      <th></th>\n",
       "    </tr>\n",
       "  </thead>\n",
       "  <tbody>\n",
       "    <tr>\n",
       "      <th>4g6ulcIKVvL0IAyPIRhGBq</th>\n",
       "      <td>0.353</td>\n",
       "      <td>0.499</td>\n",
       "      <td>7</td>\n",
       "      <td>-5.830</td>\n",
       "      <td>1</td>\n",
       "      <td>0.0330</td>\n",
       "      <td>0.00144</td>\n",
       "      <td>0.721000</td>\n",
       "      <td>0.1600</td>\n",
       "      <td>0.191</td>\n",
       "      <td>143.568</td>\n",
       "      <td>247667.0</td>\n",
       "      <td>4</td>\n",
       "      <td>alt-metal</td>\n",
       "    </tr>\n",
       "    <tr>\n",
       "      <th>0R7Gz7fHik0A9kklCAzAWj</th>\n",
       "      <td>0.495</td>\n",
       "      <td>0.791</td>\n",
       "      <td>10</td>\n",
       "      <td>-5.532</td>\n",
       "      <td>1</td>\n",
       "      <td>0.0372</td>\n",
       "      <td>0.02410</td>\n",
       "      <td>0.000079</td>\n",
       "      <td>0.1640</td>\n",
       "      <td>0.127</td>\n",
       "      <td>128.062</td>\n",
       "      <td>241447.0</td>\n",
       "      <td>4</td>\n",
       "      <td>pop</td>\n",
       "    </tr>\n",
       "    <tr>\n",
       "      <th>2MNQMtZbOb7rBWli3TSok0</th>\n",
       "      <td>0.788</td>\n",
       "      <td>0.594</td>\n",
       "      <td>6</td>\n",
       "      <td>-4.864</td>\n",
       "      <td>0</td>\n",
       "      <td>0.3360</td>\n",
       "      <td>0.02490</td>\n",
       "      <td>0.000017</td>\n",
       "      <td>0.0534</td>\n",
       "      <td>0.691</td>\n",
       "      <td>83.840</td>\n",
       "      <td>228907.0</td>\n",
       "      <td>4</td>\n",
       "      <td>hip-hop</td>\n",
       "    </tr>\n",
       "    <tr>\n",
       "      <th>3muBQDekYAg7jm6hDu6R0Z</th>\n",
       "      <td>0.587</td>\n",
       "      <td>0.711</td>\n",
       "      <td>1</td>\n",
       "      <td>-6.330</td>\n",
       "      <td>1</td>\n",
       "      <td>0.4200</td>\n",
       "      <td>0.17100</td>\n",
       "      <td>0.000000</td>\n",
       "      <td>0.1250</td>\n",
       "      <td>0.381</td>\n",
       "      <td>98.008</td>\n",
       "      <td>254694.0</td>\n",
       "      <td>4</td>\n",
       "      <td>hip-hop</td>\n",
       "    </tr>\n",
       "    <tr>\n",
       "      <th>73F87Sqh6jQWucOOvz1WFx</th>\n",
       "      <td>0.622</td>\n",
       "      <td>0.621</td>\n",
       "      <td>11</td>\n",
       "      <td>-4.924</td>\n",
       "      <td>0</td>\n",
       "      <td>0.1290</td>\n",
       "      <td>0.08640</td>\n",
       "      <td>0.000098</td>\n",
       "      <td>0.1210</td>\n",
       "      <td>0.567</td>\n",
       "      <td>158.946</td>\n",
       "      <td>213040.0</td>\n",
       "      <td>4</td>\n",
       "      <td>hip-hop</td>\n",
       "    </tr>\n",
       "  </tbody>\n",
       "</table>\n",
       "</div>"
      ],
      "text/plain": [
       "                        danceability  energy key  loudness mode  speechiness  \\\n",
       "id                                                                             \n",
       "4g6ulcIKVvL0IAyPIRhGBq         0.353   0.499   7    -5.830    1       0.0330   \n",
       "0R7Gz7fHik0A9kklCAzAWj         0.495   0.791  10    -5.532    1       0.0372   \n",
       "2MNQMtZbOb7rBWli3TSok0         0.788   0.594   6    -4.864    0       0.3360   \n",
       "3muBQDekYAg7jm6hDu6R0Z         0.587   0.711   1    -6.330    1       0.4200   \n",
       "73F87Sqh6jQWucOOvz1WFx         0.622   0.621  11    -4.924    0       0.1290   \n",
       "\n",
       "                        acousticness  instrumentalness  liveness  valence  \\\n",
       "id                                                                          \n",
       "4g6ulcIKVvL0IAyPIRhGBq       0.00144          0.721000    0.1600    0.191   \n",
       "0R7Gz7fHik0A9kklCAzAWj       0.02410          0.000079    0.1640    0.127   \n",
       "2MNQMtZbOb7rBWli3TSok0       0.02490          0.000017    0.0534    0.691   \n",
       "3muBQDekYAg7jm6hDu6R0Z       0.17100          0.000000    0.1250    0.381   \n",
       "73F87Sqh6jQWucOOvz1WFx       0.08640          0.000098    0.1210    0.567   \n",
       "\n",
       "                          tempo  duration_ms time_signature predicted_genre  \n",
       "id                                                                           \n",
       "4g6ulcIKVvL0IAyPIRhGBq  143.568     247667.0              4       alt-metal  \n",
       "0R7Gz7fHik0A9kklCAzAWj  128.062     241447.0              4             pop  \n",
       "2MNQMtZbOb7rBWli3TSok0   83.840     228907.0              4         hip-hop  \n",
       "3muBQDekYAg7jm6hDu6R0Z   98.008     254694.0              4         hip-hop  \n",
       "73F87Sqh6jQWucOOvz1WFx  158.946     213040.0              4         hip-hop  "
      ]
     },
     "execution_count": 82,
     "metadata": {},
     "output_type": "execute_result"
    }
   ],
   "source": [
    "all_songs.head()"
   ]
  },
  {
   "cell_type": "code",
   "execution_count": null,
   "metadata": {},
   "outputs": [],
   "source": []
  }
 ],
 "metadata": {
  "kernelspec": {
   "display_name": "learn-env",
   "language": "python",
   "name": "learn-env"
  },
  "language_info": {
   "codemirror_mode": {
    "name": "ipython",
    "version": 3
   },
   "file_extension": ".py",
   "mimetype": "text/x-python",
   "name": "python",
   "nbconvert_exporter": "python",
   "pygments_lexer": "ipython3",
   "version": "3.8.5"
  }
 },
 "nbformat": 4,
 "nbformat_minor": 4
}
