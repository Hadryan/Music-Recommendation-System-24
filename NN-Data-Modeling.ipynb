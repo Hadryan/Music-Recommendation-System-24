{
 "cells": [
  {
   "cell_type": "markdown",
   "metadata": {},
   "source": [
    "### Notebook 3"
   ]
  },
  {
   "cell_type": "code",
   "execution_count": 35,
   "metadata": {},
   "outputs": [],
   "source": [
    "import spotipy\n",
    "from spotipy.oauth2 import SpotifyClientCredentials\n",
    "from spotipy.oauth2 import SpotifyOAuth\n",
    "from dotenv import load_dotenv\n",
    "load_dotenv()\n",
    "import pickle\n",
    "import pandas as pd\n",
    "import numpy as np\n",
    "from sklearn.preprocessing import OneHotEncoder\n",
    "from sklearn.neighbors import NearestNeighbors\n",
    "from sklearn import preprocessing\n",
    "import xgboost\n",
    "\n",
    "scope = \"user-library-read\"\n",
    "sp = spotipy.Spotify(auth_manager=SpotifyOAuth(scope=scope))"
   ]
  },
  {
   "cell_type": "code",
   "execution_count": 59,
   "metadata": {},
   "outputs": [],
   "source": [
    "def song_to_df (sp, key):\n",
    "    cat_cols = ['key', 'mode', 'time_signature']\n",
    "    num_cols = ['danceability','energy','loudness','speechiness','acousticness',\n",
    "                'instrumentalness','liveness','valence','tempo','duration_ms']\n",
    "    \n",
    "    row = pd.DataFrame(sp.audio_features(key)).drop(['type','uri',\n",
    "                                               'track_href','analysis_url'], axis=1).set_index('id')\n",
    "    return row\n",
    "\n",
    "def make_genre_prediction(sp,key, ohe, model):\n",
    "    cat_cols = ['key', 'mode', 'time_signature']\n",
    "    num_cols = ['danceability','energy','loudness','speechiness','acousticness',\n",
    "                'instrumentalness','liveness','valence','tempo','duration_ms']\n",
    "    row = song_to_df(sp,key)\n",
    "    temp_ohe = ohe.transform(row[cat_cols])\n",
    "    returning_obj = row[num_cols].reset_index().join(pd.DataFrame(temp_ohe)).set_index('id')\n",
    "    return model.predict(returning_obj)\n",
    "\n",
    "def song_artist_from_key(sp,key):\n",
    "    theTrack = sp.track(key)\n",
    "    song_title = theTrack['name']\n",
    "    artist_title = theTrack['artists'][0]['name']\n",
    "    return (song_title, artist_title)\n",
    "\n",
    "def song_id_from_query(sp, query):\n",
    "    q = query\n",
    "    if(sp.search(q, limit=1, offset=0, type='track')['tracks']['total']>0):\n",
    "        return sp.search( q, limit=1, offset=0, type='track')['tracks']['items'][0]['id']\n",
    "    else:\n",
    "        return None"
   ]
  },
  {
   "cell_type": "code",
   "execution_count": 37,
   "metadata": {},
   "outputs": [],
   "source": [
    "infile = open('pickled_files/all_songs_genre_predicted.pickle','rb')\n",
    "all_files = pickle.load(infile)\n",
    "infile.close()\n",
    "# df.set_index('id', inplace = True)\n",
    "all_songs = all_files[0]\n",
    "best_model = all_files[1]\n",
    "ohe_make_genre_pred = all_files[2]"
   ]
  },
  {
   "cell_type": "code",
   "execution_count": 38,
   "metadata": {},
   "outputs": [],
   "source": [
    "categorical_columns = list(all_songs.select_dtypes('object').columns)\n",
    "numerical_columns = list(all_songs.select_dtypes(exclude = 'object').columns)"
   ]
  },
  {
   "cell_type": "code",
   "execution_count": 39,
   "metadata": {
    "scrolled": true
   },
   "outputs": [
    {
     "data": {
      "text/html": [
       "<div>\n",
       "<style scoped>\n",
       "    .dataframe tbody tr th:only-of-type {\n",
       "        vertical-align: middle;\n",
       "    }\n",
       "\n",
       "    .dataframe tbody tr th {\n",
       "        vertical-align: top;\n",
       "    }\n",
       "\n",
       "    .dataframe thead th {\n",
       "        text-align: right;\n",
       "    }\n",
       "</style>\n",
       "<table border=\"1\" class=\"dataframe\">\n",
       "  <thead>\n",
       "    <tr style=\"text-align: right;\">\n",
       "      <th></th>\n",
       "      <th>danceability</th>\n",
       "      <th>energy</th>\n",
       "      <th>key</th>\n",
       "      <th>loudness</th>\n",
       "      <th>mode</th>\n",
       "      <th>speechiness</th>\n",
       "      <th>acousticness</th>\n",
       "      <th>instrumentalness</th>\n",
       "      <th>liveness</th>\n",
       "      <th>valence</th>\n",
       "      <th>tempo</th>\n",
       "      <th>duration_ms</th>\n",
       "      <th>time_signature</th>\n",
       "      <th>predicted_genre</th>\n",
       "    </tr>\n",
       "    <tr>\n",
       "      <th>id</th>\n",
       "      <th></th>\n",
       "      <th></th>\n",
       "      <th></th>\n",
       "      <th></th>\n",
       "      <th></th>\n",
       "      <th></th>\n",
       "      <th></th>\n",
       "      <th></th>\n",
       "      <th></th>\n",
       "      <th></th>\n",
       "      <th></th>\n",
       "      <th></th>\n",
       "      <th></th>\n",
       "      <th></th>\n",
       "    </tr>\n",
       "  </thead>\n",
       "  <tbody>\n",
       "    <tr>\n",
       "      <th>2JCHrnxgfagUZQeJRAx7Hc</th>\n",
       "      <td>0.671</td>\n",
       "      <td>0.522</td>\n",
       "      <td>0</td>\n",
       "      <td>-8.144</td>\n",
       "      <td>0</td>\n",
       "      <td>0.0779</td>\n",
       "      <td>0.542000</td>\n",
       "      <td>0.000278</td>\n",
       "      <td>0.3350</td>\n",
       "      <td>0.134</td>\n",
       "      <td>79.975</td>\n",
       "      <td>262533.0</td>\n",
       "      <td>4</td>\n",
       "      <td>hip-hop</td>\n",
       "    </tr>\n",
       "    <tr>\n",
       "      <th>2G7woUgHMt6QBU7esQ5rsL</th>\n",
       "      <td>0.564</td>\n",
       "      <td>0.932</td>\n",
       "      <td>11</td>\n",
       "      <td>-10.068</td>\n",
       "      <td>1</td>\n",
       "      <td>0.0554</td>\n",
       "      <td>0.013000</td>\n",
       "      <td>0.169000</td>\n",
       "      <td>0.3490</td>\n",
       "      <td>0.619</td>\n",
       "      <td>112.937</td>\n",
       "      <td>146250.0</td>\n",
       "      <td>4</td>\n",
       "      <td>rock</td>\n",
       "    </tr>\n",
       "    <tr>\n",
       "      <th>4eqrNsKy9Mvg1fvfsTVIAE</th>\n",
       "      <td>0.791</td>\n",
       "      <td>0.583</td>\n",
       "      <td>1</td>\n",
       "      <td>-5.247</td>\n",
       "      <td>1</td>\n",
       "      <td>0.3690</td>\n",
       "      <td>0.039300</td>\n",
       "      <td>0.000000</td>\n",
       "      <td>0.0577</td>\n",
       "      <td>0.694</td>\n",
       "      <td>149.693</td>\n",
       "      <td>169147.0</td>\n",
       "      <td>4</td>\n",
       "      <td>hip-hop</td>\n",
       "    </tr>\n",
       "    <tr>\n",
       "      <th>5PU9EPOh36Cw0f5VGcAacw</th>\n",
       "      <td>0.458</td>\n",
       "      <td>0.819</td>\n",
       "      <td>0</td>\n",
       "      <td>-5.957</td>\n",
       "      <td>0</td>\n",
       "      <td>0.2630</td>\n",
       "      <td>0.174000</td>\n",
       "      <td>0.000000</td>\n",
       "      <td>0.4070</td>\n",
       "      <td>0.712</td>\n",
       "      <td>83.326</td>\n",
       "      <td>281053.0</td>\n",
       "      <td>4</td>\n",
       "      <td>hip-hop</td>\n",
       "    </tr>\n",
       "    <tr>\n",
       "      <th>66ace8nbTVjgHTed107cDn</th>\n",
       "      <td>0.431</td>\n",
       "      <td>0.947</td>\n",
       "      <td>11</td>\n",
       "      <td>-5.067</td>\n",
       "      <td>1</td>\n",
       "      <td>0.0649</td>\n",
       "      <td>0.000027</td>\n",
       "      <td>0.794000</td>\n",
       "      <td>0.3490</td>\n",
       "      <td>0.422</td>\n",
       "      <td>96.243</td>\n",
       "      <td>215627.0</td>\n",
       "      <td>4</td>\n",
       "      <td>alt-metal</td>\n",
       "    </tr>\n",
       "  </tbody>\n",
       "</table>\n",
       "</div>"
      ],
      "text/plain": [
       "                        danceability  energy key  loudness mode  speechiness  \\\n",
       "id                                                                             \n",
       "2JCHrnxgfagUZQeJRAx7Hc         0.671   0.522   0    -8.144    0       0.0779   \n",
       "2G7woUgHMt6QBU7esQ5rsL         0.564   0.932  11   -10.068    1       0.0554   \n",
       "4eqrNsKy9Mvg1fvfsTVIAE         0.791   0.583   1    -5.247    1       0.3690   \n",
       "5PU9EPOh36Cw0f5VGcAacw         0.458   0.819   0    -5.957    0       0.2630   \n",
       "66ace8nbTVjgHTed107cDn         0.431   0.947  11    -5.067    1       0.0649   \n",
       "\n",
       "                        acousticness  instrumentalness  liveness  valence  \\\n",
       "id                                                                          \n",
       "2JCHrnxgfagUZQeJRAx7Hc      0.542000          0.000278    0.3350    0.134   \n",
       "2G7woUgHMt6QBU7esQ5rsL      0.013000          0.169000    0.3490    0.619   \n",
       "4eqrNsKy9Mvg1fvfsTVIAE      0.039300          0.000000    0.0577    0.694   \n",
       "5PU9EPOh36Cw0f5VGcAacw      0.174000          0.000000    0.4070    0.712   \n",
       "66ace8nbTVjgHTed107cDn      0.000027          0.794000    0.3490    0.422   \n",
       "\n",
       "                          tempo  duration_ms time_signature predicted_genre  \n",
       "id                                                                           \n",
       "2JCHrnxgfagUZQeJRAx7Hc   79.975     262533.0              4         hip-hop  \n",
       "2G7woUgHMt6QBU7esQ5rsL  112.937     146250.0              4            rock  \n",
       "4eqrNsKy9Mvg1fvfsTVIAE  149.693     169147.0              4         hip-hop  \n",
       "5PU9EPOh36Cw0f5VGcAacw   83.326     281053.0              4         hip-hop  \n",
       "66ace8nbTVjgHTed107cDn   96.243     215627.0              4       alt-metal  "
      ]
     },
     "execution_count": 39,
     "metadata": {},
     "output_type": "execute_result"
    }
   ],
   "source": [
    "all_songs.head()"
   ]
  },
  {
   "cell_type": "code",
   "execution_count": 85,
   "metadata": {},
   "outputs": [],
   "source": [
    "neigh = NearestNeighbors(n_neighbors=10, radius=0.4, metric='cosine')"
   ]
  },
  {
   "cell_type": "code",
   "execution_count": 76,
   "metadata": {},
   "outputs": [],
   "source": [
    "X_knn = all_songs"
   ]
  },
  {
   "cell_type": "code",
   "execution_count": 77,
   "metadata": {},
   "outputs": [],
   "source": [
    "MMScaler = preprocessing.MinMaxScaler()\n",
    "MinMaxScaler = preprocessing.MinMaxScaler()\n",
    "X_knn[numerical_columns] = MinMaxScaler.fit_transform(X_knn[numerical_columns])\n"
   ]
  },
  {
   "cell_type": "code",
   "execution_count": 78,
   "metadata": {},
   "outputs": [],
   "source": [
    "ohe_knn = OneHotEncoder(drop='first', sparse=False)\n",
    "X_knn_ohe = ohe_knn.fit_transform(X_knn[categorical_columns])\n",
    "X_knn_transformed = X_knn[numerical_columns].reset_index().join(pd.DataFrame(X_knn_ohe, columns = ohe_knn.get_feature_names(categorical_columns))).set_index('id')\n"
   ]
  },
  {
   "cell_type": "code",
   "execution_count": 79,
   "metadata": {},
   "outputs": [
    {
     "data": {
      "text/plain": [
       "NearestNeighbors(metric='cosine', n_neighbors=10, radius=0.25)"
      ]
     },
     "execution_count": 79,
     "metadata": {},
     "output_type": "execute_result"
    }
   ],
   "source": [
    "neigh.fit(X_knn_transformed)"
   ]
  },
  {
   "cell_type": "code",
   "execution_count": 80,
   "metadata": {},
   "outputs": [
    {
     "data": {
      "text/plain": [
       "['key', 'mode', 'time_signature', 'predicted_genre']"
      ]
     },
     "execution_count": 80,
     "metadata": {},
     "output_type": "execute_result"
    }
   ],
   "source": [
    "categorical_columns"
   ]
  },
  {
   "cell_type": "code",
   "execution_count": 81,
   "metadata": {},
   "outputs": [],
   "source": [
    "def knn_preprocessing(sp, key, num_col = numerical_columns, \n",
    "                      cat_col = categorical_columns,\n",
    "                      mmScaler = MinMaxScaler, bm = best_model,\n",
    "                      ohe_knn = ohe_knn, ohe_make_genre_pred = ohe_make_genre_pred):\n",
    "    row = song_to_df(sp, key)\n",
    "    genre = make_genre_prediction(sp,key, ohe_make_genre_pred, bm)\n",
    "    row['predicted_genre'] = genre[0]\n",
    "    row_dummied = ohe_knn.transform(row[cat_col])\n",
    "    row[num_col] = mmScaler.transform(row[num_col])\n",
    "\n",
    "    row = row[num_col].reset_index().join(pd.DataFrame(row_dummied, columns = ohe_knn.get_feature_names(cat_col))).set_index('id')\n",
    "    return row"
   ]
  },
  {
   "cell_type": "code",
   "execution_count": 82,
   "metadata": {},
   "outputs": [],
   "source": [
    "def make_song_recommendations(sp, kneighs, query):\n",
    "    if(query.isspace() or not query):\n",
    "        return \"No results found\"\n",
    "    song_id = song_id_from_query(sp, query)\n",
    "    if(song_id == None):\n",
    "        return \"No results found\"\n",
    "    song_plus_artist = song_artist_from_key(sp, song_id)\n",
    "    song_to_rec = knn_preprocessing(sp, song_id)\n",
    "    nbrs = neigh.kneighbors(\n",
    "       song_to_rec, 15, return_distance=False\n",
    "    )\n",
    "    playlist = []\n",
    "    for each in nbrs[0]:\n",
    "        if ((song_artist_from_key(sp, X_knn_transformed.iloc[each].name) != song_plus_artist) and\n",
    "           ((song_artist_from_key(sp, X_knn_transformed.iloc[each].name)) not in playlist)):\n",
    "            playlist.append(song_artist_from_key(sp, X_knn_transformed.iloc[each].name))\n",
    "    return (playlist)"
   ]
  },
  {
   "cell_type": "code",
   "execution_count": 84,
   "metadata": {
    "scrolled": false
   },
   "outputs": [
    {
     "data": {
      "text/plain": [
       "[('Dark Charade', 'Rishloo'),\n",
       " ('Thrown Away', 'Papa Roach'),\n",
       " ('Wasp / Behind the Wall of Sleep / Bassically / N.I.B. - 2014 Remaster',\n",
       "  'Black Sabbath'),\n",
       " ('Pink Maggit - Squarepusher Remix', 'Deftones'),\n",
       " ('Mountain Cry', 'Blues Traveler'),\n",
       " ('Lateralus', 'Tool'),\n",
       " ('A New Nite / Rosecrans Groove', 'DJ Quik'),\n",
       " ('Universe', 'Alien Ant Farm'),\n",
       " ('Care Not - Demo', 'Drowning Pool'),\n",
       " ('Free Bird', 'Lynyrd Skynyrd'),\n",
       " ('Runaway', 'Kanye West'),\n",
       " ('Yacha - Peaking Lights Dub Mix', 'Sinkane'),\n",
       " ('Shout - Live At The Richfield Coliseum/1983',\n",
       "  'Tom Petty and the Heartbreakers')]"
      ]
     },
     "execution_count": 84,
     "metadata": {},
     "output_type": "execute_result"
    }
   ],
   "source": [
    "make_song_recommendations(sp, neigh, \"yellow submarine the beatles\")"
   ]
  },
  {
   "cell_type": "code",
   "execution_count": null,
   "metadata": {},
   "outputs": [],
   "source": []
  }
 ],
 "metadata": {
  "kernelspec": {
   "display_name": "learn-env",
   "language": "python",
   "name": "learn-env"
  },
  "language_info": {
   "codemirror_mode": {
    "name": "ipython",
    "version": 3
   },
   "file_extension": ".py",
   "mimetype": "text/x-python",
   "name": "python",
   "nbconvert_exporter": "python",
   "pygments_lexer": "ipython3",
   "version": "3.8.5"
  }
 },
 "nbformat": 4,
 "nbformat_minor": 4
}
