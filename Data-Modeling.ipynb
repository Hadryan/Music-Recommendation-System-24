{
 "cells": [
  {
   "cell_type": "code",
   "execution_count": 1,
   "metadata": {},
   "outputs": [
    {
     "data": {
      "text/plain": [
       "True"
      ]
     },
     "execution_count": 1,
     "metadata": {},
     "output_type": "execute_result"
    }
   ],
   "source": [
    "import spotipy\n",
    "from spotipy.oauth2 import SpotifyClientCredentials\n",
    "from spotipy.oauth2 import SpotifyOAuth\n",
    "from dotenv import load_dotenv\n",
    "load_dotenv()"
   ]
  },
  {
   "cell_type": "code",
   "execution_count": 2,
   "metadata": {},
   "outputs": [],
   "source": [
    "scope = \"user-library-read\"\n",
    "sp = spotipy.Spotify(auth_manager=SpotifyOAuth(scope=scope))"
   ]
  },
  {
   "cell_type": "code",
   "execution_count": 3,
   "metadata": {},
   "outputs": [],
   "source": [
    "import pickle\n",
    "import pandas as pd\n",
    "import numpy as np\n",
    "from sklearn.model_selection import train_test_split\n",
    "from sklearn.linear_model import LogisticRegression\n",
    "from sklearn.metrics import accuracy_score, f1_score, recall_score, precision_score\n",
    "from sklearn.preprocessing import StandardScaler, OneHotEncoder\n",
    "from sklearn.metrics import plot_confusion_matrix\n",
    "from sklearn.preprocessing import MinMaxScaler\n",
    "from sklearn.compose import ColumnTransformer"
   ]
  },
  {
   "cell_type": "code",
   "execution_count": 4,
   "metadata": {},
   "outputs": [],
   "source": [
    "infile = open('pickled_files/df.pickle','rb')\n",
    "df = pickle.load(infile)\n",
    "infile.close()\n",
    "df.set_index('id', inplace = True)"
   ]
  },
  {
   "cell_type": "code",
   "execution_count": 5,
   "metadata": {},
   "outputs": [
    {
     "name": "stdout",
     "output_type": "stream",
     "text": [
      "<class 'pandas.core.frame.DataFrame'>\n",
      "Index: 5268 entries, 1gyee1JuFFiP476LQpRMYU to 0SfpnyHLyrUlBTgGxgmKVR\n",
      "Data columns (total 14 columns):\n",
      " #   Column            Non-Null Count  Dtype  \n",
      "---  ------            --------------  -----  \n",
      " 0   danceability      5268 non-null   float64\n",
      " 1   energy            5268 non-null   float64\n",
      " 2   key               5268 non-null   object \n",
      " 3   loudness          5268 non-null   float64\n",
      " 4   mode              5268 non-null   object \n",
      " 5   speechiness       5268 non-null   float64\n",
      " 6   acousticness      5268 non-null   float64\n",
      " 7   instrumentalness  5268 non-null   float64\n",
      " 8   liveness          5268 non-null   float64\n",
      " 9   valence           5268 non-null   float64\n",
      " 10  tempo             5268 non-null   float64\n",
      " 11  duration_ms       5268 non-null   float64\n",
      " 12  time_signature    5268 non-null   object \n",
      " 13  genre             5268 non-null   object \n",
      "dtypes: float64(10), object(4)\n",
      "memory usage: 617.3+ KB\n"
     ]
    }
   ],
   "source": [
    "df.info()"
   ]
  },
  {
   "cell_type": "code",
   "execution_count": 6,
   "metadata": {},
   "outputs": [],
   "source": [
    "categorical_columns = list(df.drop('genre', axis = 1).select_dtypes('object').columns)\n",
    "numerical_columns = list(df.drop('genre', axis = 1).select_dtypes(exclude = 'object').columns)"
   ]
  },
  {
   "cell_type": "code",
   "execution_count": 7,
   "metadata": {},
   "outputs": [],
   "source": [
    "X_train, X_test, y_train, y_test = train_test_split(df.drop(['genre'], axis=1),\n",
    "                                                    df.genre,\n",
    "                                                   random_state=9)"
   ]
  },
  {
   "cell_type": "code",
   "execution_count": 8,
   "metadata": {
    "scrolled": true
   },
   "outputs": [
    {
     "data": {
      "text/plain": [
       "hip-hop      0.418881\n",
       "alt-metal    0.240445\n",
       "rock         0.209567\n",
       "pop          0.131106\n",
       "Name: genre, dtype: float64"
      ]
     },
     "execution_count": 8,
     "metadata": {},
     "output_type": "execute_result"
    }
   ],
   "source": [
    "y_train.value_counts(normalize=True)"
   ]
  },
  {
   "cell_type": "code",
   "execution_count": 9,
   "metadata": {},
   "outputs": [],
   "source": [
    "def evaluation_report(model, X_test, y_test):\n",
    "    y_pred = model.predict(X_test)\n",
    "    print(f\"F1 Score: {f1_score(y_test, model.predict(X_test), average = 'macro')}\")\n",
    "    plot_confusion_matrix(model, X_test, y_test, cmap='GnBu',xticks_rotation='vertical')"
   ]
  },
  {
   "cell_type": "markdown",
   "metadata": {},
   "source": [
    "**First Simple Model**"
   ]
  },
  {
   "cell_type": "code",
   "execution_count": 10,
   "metadata": {},
   "outputs": [
    {
     "data": {
      "text/plain": [
       "LogisticRegression(random_state=9)"
      ]
     },
     "execution_count": 10,
     "metadata": {},
     "output_type": "execute_result"
    }
   ],
   "source": [
    "lr = LogisticRegression(random_state=9)\n",
    "ss = StandardScaler()\n",
    "lr.fit(ss.fit_transform(X_train), y_train)"
   ]
  },
  {
   "cell_type": "code",
   "execution_count": 11,
   "metadata": {},
   "outputs": [
    {
     "data": {
      "text/plain": [
       "array(['alt-metal', 'hip-hop', 'pop', 'rock'], dtype=object)"
      ]
     },
     "execution_count": 11,
     "metadata": {},
     "output_type": "execute_result"
    }
   ],
   "source": [
    "lr.classes_"
   ]
  },
  {
   "cell_type": "code",
   "execution_count": 12,
   "metadata": {},
   "outputs": [
    {
     "name": "stdout",
     "output_type": "stream",
     "text": [
      "Training\n",
      "F1 Score: 0.6263683742501592\n"
     ]
    },
    {
     "data": {
      "image/png": "[encoded data removed]",
      "text/plain": [
       "<Figure size 432x288 with 2 Axes>"
      ]
     },
     "metadata": {
      "needs_background": "light"
     },
     "output_type": "display_data"
    }
   ],
   "source": [
    "print('Training')\n",
    "evaluation_report(lr, ss.fit_transform(X_train), y_train)"
   ]
  },
  {
   "cell_type": "code",
   "execution_count": 13,
   "metadata": {},
   "outputs": [
    {
     "name": "stdout",
     "output_type": "stream",
     "text": [
      "Testing\n",
      "F1 Score: 0.6399862672407418\n"
     ]
    },
    {
     "data": {
      "image/png": "[encoded data removed]",
      "text/plain": [
       "<Figure size 432x288 with 2 Axes>"
      ]
     },
     "metadata": {
      "needs_background": "light"
     },
     "output_type": "display_data"
    }
   ],
   "source": [
    "print('Testing')\n",
    "evaluation_report(lr, ss.transform(X_test), y_test)"
   ]
  },
  {
   "cell_type": "markdown",
   "metadata": {},
   "source": [
    "<hl>"
   ]
  },
  {
   "cell_type": "code",
   "execution_count": 14,
   "metadata": {},
   "outputs": [],
   "source": [
    "from imblearn.pipeline import Pipeline as imbpipeline\n",
    "from sklearn.model_selection import GridSearchCV"
   ]
  },
  {
   "cell_type": "code",
   "execution_count": 15,
   "metadata": {},
   "outputs": [],
   "source": [
    "#Create pipelines\n",
    "numerical_pipeline = imbpipeline(verbose=False,steps=[\n",
    "                                ('ss', StandardScaler())\n",
    "                            ])\n",
    "\n",
    "categorical_pipeline = imbpipeline(verbose=False,steps=[\n",
    "                            ('ohe', OneHotEncoder(drop='first',\n",
    "                                                 sparse=False,))\n",
    "                            ])\n",
    "\n",
    "col_trans = ColumnTransformer(verbose=False,transformers=[\n",
    "    ('numerical', numerical_pipeline, numerical_columns),\n",
    "    ('categorical', categorical_pipeline, categorical_columns)\n",
    "])\n",
    "\n",
    "col_ohe_solo = ColumnTransformer(verbose=False,transformers=[\n",
    "    ('categorical', categorical_pipeline, categorical_columns)\n",
    "])\n"
   ]
  },
  {
   "cell_type": "markdown",
   "metadata": {},
   "source": [
    "<hl>"
   ]
  },
  {
   "cell_type": "markdown",
   "metadata": {},
   "source": [
    "**Second Model**"
   ]
  },
  {
   "cell_type": "code",
   "execution_count": 16,
   "metadata": {},
   "outputs": [
    {
     "name": "stdout",
     "output_type": "stream",
     "text": [
      "Fitting 5 folds for each of 18 candidates, totalling 90 fits\n"
     ]
    },
    {
     "name": "stderr",
     "output_type": "stream",
     "text": [
      "[Parallel(n_jobs=-1)]: Using backend LokyBackend with 4 concurrent workers.\n",
      "[Parallel(n_jobs=-1)]: Done  42 tasks      | elapsed:   18.3s\n",
      "[Parallel(n_jobs=-1)]: Done  90 out of  90 | elapsed:   28.4s finished\n"
     ]
    },
    {
     "data": {
      "text/plain": [
       "GridSearchCV(estimator=Pipeline(steps=[('col_trans',\n",
       "                                        ColumnTransformer(transformers=[('numerical',\n",
       "                                                                         Pipeline(steps=[('ss',\n",
       "                                                                                          StandardScaler())]),\n",
       "                                                                         ['danceability',\n",
       "                                                                          'energy',\n",
       "                                                                          'loudness',\n",
       "                                                                          'speechiness',\n",
       "                                                                          'acousticness',\n",
       "                                                                          'instrumentalness',\n",
       "                                                                          'liveness',\n",
       "                                                                          'valence',\n",
       "                                                                          'tempo',\n",
       "                                                                          'duration_ms']),\n",
       "                                                                        ('categorical',\n",
       "                                                                         Pipeline(steps=[('ohe',\n",
       "                                                                                          OneHotEncoder(drop='first',\n",
       "                                                                                                        sparse=False))]),\n",
       "                                                                         ['key',\n",
       "                                                                          'mode',\n",
       "                                                                          'time_signature'])])),\n",
       "                                       ('lr',\n",
       "                                        LogisticRegression(class_weight='balanced',\n",
       "                                                           max_iter=10000,\n",
       "                                                           random_state=9))]),\n",
       "             n_jobs=-1,\n",
       "             param_grid=[{'lr__C': [0.75, 0.5, 0.25],\n",
       "                          'lr__penalty': ['l1', 'l2'],\n",
       "                          'lr__solver': ['saga', 'sag', 'lbfgs']}],\n",
       "             scoring='f1_macro', verbose=True)"
      ]
     },
     "execution_count": 16,
     "metadata": {},
     "output_type": "execute_result"
    }
   ],
   "source": [
    "pipe_log = imbpipeline(verbose=False, steps=[\n",
    "    ('col_trans', col_trans),\n",
    "    ('lr', LogisticRegression(max_iter = 10000, random_state=9, class_weight='balanced'))\n",
    "])\n",
    "\n",
    "param_grid = [\n",
    "    {\n",
    "     'lr__penalty' : ['l1','l2'],\n",
    "     'lr__C' : [.75,.5,.25],\n",
    "     'lr__solver' : ['saga','sag', 'lbfgs']\n",
    "    }, \n",
    "]\n",
    "\n",
    "gs_lr = GridSearchCV(pipe_log, param_grid = param_grid, \n",
    "                        scoring = 'f1_macro', n_jobs=-1, verbose=True)\n",
    "gs_lr.fit(X_train, y_train)"
   ]
  },
  {
   "cell_type": "code",
   "execution_count": 17,
   "metadata": {},
   "outputs": [
    {
     "data": {
      "text/plain": [
       "{'lr__C': 0.5, 'lr__penalty': 'l1', 'lr__solver': 'saga'}"
      ]
     },
     "execution_count": 17,
     "metadata": {},
     "output_type": "execute_result"
    }
   ],
   "source": [
    "gs_lr.best_params_"
   ]
  },
  {
   "cell_type": "code",
   "execution_count": 18,
   "metadata": {},
   "outputs": [
    {
     "name": "stdout",
     "output_type": "stream",
     "text": [
      "Training\n",
      "F1 Score: 0.6458631282387632\n"
     ]
    },
    {
     "data": {
      "image/png": "[encoded data removed]",
      "text/plain": [
       "<Figure size 432x288 with 2 Axes>"
      ]
     },
     "metadata": {
      "needs_background": "light"
     },
     "output_type": "display_data"
    }
   ],
   "source": [
    "print('Training')\n",
    "evaluation_report(gs_lr, X_train, y_train)"
   ]
  },
  {
   "cell_type": "code",
   "execution_count": 19,
   "metadata": {},
   "outputs": [
    {
     "name": "stdout",
     "output_type": "stream",
     "text": [
      "Testing\n",
      "F1 Score: 0.6480539045484064\n"
     ]
    },
    {
     "data": {
      "image/png": "[encoded data removed]",
      "text/plain": [
       "<Figure size 432x288 with 2 Axes>"
      ]
     },
     "metadata": {
      "needs_background": "light"
     },
     "output_type": "display_data"
    }
   ],
   "source": [
    "print('Testing')\n",
    "evaluation_report(gs_lr, X_test, y_test)"
   ]
  },
  {
   "cell_type": "code",
   "execution_count": 20,
   "metadata": {},
   "outputs": [],
   "source": [
    "from imblearn.over_sampling import SMOTE\n",
    "from sklearn.ensemble import GradientBoostingClassifier"
   ]
  },
  {
   "cell_type": "code",
   "execution_count": 21,
   "metadata": {},
   "outputs": [],
   "source": [
    "ohe = OneHotEncoder(drop='first', sparse=False)\n",
    "sm = SMOTE(random_state = 9)\n"
   ]
  },
  {
   "cell_type": "code",
   "execution_count": 30,
   "metadata": {},
   "outputs": [],
   "source": [
    "train_ohe = ohe.fit_transform(X_train[categorical_columns])\n",
    "test_ohe = ohe.transform(X_test[categorical_columns])\n",
    "train_ohe = X_train[numerical_columns].reset_index().join(pd.DataFrame(train_ohe)).set_index('id')\n",
    "\n",
    "train_sm = sm.fit_resample(train_ohe, y_train)\n",
    "test_ohe = X_test[numerical_columns].reset_index().join(pd.DataFrame(test_ohe)).set_index('id')"
   ]
  },
  {
   "cell_type": "markdown",
   "metadata": {},
   "source": [
    "**Model 3**"
   ]
  },
  {
   "cell_type": "code",
   "execution_count": 31,
   "metadata": {},
   "outputs": [],
   "source": [
    "from xgboost import XGBClassifier"
   ]
  },
  {
   "cell_type": "code",
   "execution_count": 32,
   "metadata": {},
   "outputs": [],
   "source": [
    "xgbc = XGBClassifier(random_state = 9, n_jobs = -1)\n",
    "params = {\n",
    "    'max_depth': [1,2],\n",
    "    'learning_rate': [.1,.05,.01,.005],\n",
    "    'n_estimators': range(180,220,20),\n",
    "    'booster': ['gbtree', 'dart']\n",
    "}\n",
    "#Run gridsearch\n",
    "gs_xgbc = GridSearchCV(xgbc, param_grid=params, scoring='f1_macro', n_jobs =-1 )"
   ]
  },
  {
   "cell_type": "code",
   "execution_count": 33,
   "metadata": {
    "scrolled": true
   },
   "outputs": [
    {
     "data": {
      "text/plain": [
       "GridSearchCV(estimator=XGBClassifier(base_score=None, booster=None,\n",
       "                                     colsample_bylevel=None,\n",
       "                                     colsample_bynode=None,\n",
       "                                     colsample_bytree=None, gamma=None,\n",
       "                                     gpu_id=None, importance_type='gain',\n",
       "                                     interaction_constraints=None,\n",
       "                                     learning_rate=None, max_delta_step=None,\n",
       "                                     max_depth=None, min_child_weight=None,\n",
       "                                     missing=nan, monotone_constraints=None,\n",
       "                                     n_estimators=100, n_jobs=-1,\n",
       "                                     num_parallel_tree=None, random_state=9,\n",
       "                                     reg_alpha=None, reg_lambda=None,\n",
       "                                     scale_pos_weight=None, subsample=None,\n",
       "                                     tree_method=None, validate_parameters=None,\n",
       "                                     verbosity=None),\n",
       "             n_jobs=-1,\n",
       "             param_grid={'booster': ['gbtree', 'dart'],\n",
       "                         'learning_rate': [0.1, 0.05, 0.01, 0.005],\n",
       "                         'max_depth': [1, 2],\n",
       "                         'n_estimators': range(180, 220, 20)},\n",
       "             scoring='f1_macro')"
      ]
     },
     "execution_count": 33,
     "metadata": {},
     "output_type": "execute_result"
    }
   ],
   "source": [
    "gs_xgbc.fit(train_sm[0], train_sm[1])"
   ]
  },
  {
   "cell_type": "code",
   "execution_count": 34,
   "metadata": {},
   "outputs": [
    {
     "data": {
      "text/plain": [
       "{'booster': 'gbtree',\n",
       " 'learning_rate': 0.1,\n",
       " 'max_depth': 2,\n",
       " 'n_estimators': 200}"
      ]
     },
     "execution_count": 34,
     "metadata": {},
     "output_type": "execute_result"
    }
   ],
   "source": [
    "gs_xgbc.best_params_"
   ]
  },
  {
   "cell_type": "code",
   "execution_count": 35,
   "metadata": {},
   "outputs": [
    {
     "name": "stdout",
     "output_type": "stream",
     "text": [
      "Training\n",
      "F1 Score: 0.7890777792693433\n"
     ]
    },
    {
     "data": {
      "image/png": "[encoded data removed]",
      "text/plain": [
       "<Figure size 432x288 with 2 Axes>"
      ]
     },
     "metadata": {
      "needs_background": "light"
     },
     "output_type": "display_data"
    }
   ],
   "source": [
    "print('Training')\n",
    "evaluation_report(gs_xgbc, train_sm[0], train_sm[1])"
   ]
  },
  {
   "cell_type": "code",
   "execution_count": 36,
   "metadata": {},
   "outputs": [
    {
     "name": "stdout",
     "output_type": "stream",
     "text": [
      "Testing\n",
      "F1 Score: 0.6793578047998373\n"
     ]
    },
    {
     "data": {
      "image/png": "[encoded data removed]",
      "text/plain": [
       "<Figure size 432x288 with 2 Axes>"
      ]
     },
     "metadata": {
      "needs_background": "light"
     },
     "output_type": "display_data"
    }
   ],
   "source": [
    "print('Testing')\n",
    "evaluation_report(gs_xgbc, test_ohe, y_test)"
   ]
  },
  {
   "cell_type": "markdown",
   "metadata": {},
   "source": [
    "**Model 4**"
   ]
  },
  {
   "cell_type": "code",
   "execution_count": 37,
   "metadata": {},
   "outputs": [
    {
     "name": "stdout",
     "output_type": "stream",
     "text": [
      "Fitting 5 folds for each of 32 candidates, totalling 160 fits\n"
     ]
    },
    {
     "name": "stderr",
     "output_type": "stream",
     "text": [
      "[Parallel(n_jobs=-1)]: Using backend LokyBackend with 4 concurrent workers.\n",
      "[Parallel(n_jobs=-1)]: Done  42 tasks      | elapsed:  1.0min\n",
      "[Parallel(n_jobs=-1)]: Done 160 out of 160 | elapsed:  3.9min finished\n"
     ]
    },
    {
     "data": {
      "text/plain": [
       "GridSearchCV(estimator=GradientBoostingClassifier(random_state=9), n_jobs=-1,\n",
       "             param_grid=[{'learning_rate': [0.05, 0.1, 0.15, 0.2],\n",
       "                          'max_depth': [1, 2],\n",
       "                          'n_estimators': [50, 75, 100, 125]}],\n",
       "             scoring='f1_macro', verbose=True)"
      ]
     },
     "execution_count": 37,
     "metadata": {},
     "output_type": "execute_result"
    }
   ],
   "source": [
    "gbclf = GradientBoostingClassifier(random_state = 9)\n",
    "\n",
    "param_grid = [\n",
    "    {\n",
    "     'n_estimators' : [50,75,100,125],\n",
    "     'learning_rate' : [.05, .1, .15, .2],\n",
    "     'max_depth': [1,2]\n",
    "    }, \n",
    "]\n",
    "\n",
    "gs_gbclf = GridSearchCV(gbclf, param_grid = param_grid, \n",
    "                        scoring = 'f1_macro', n_jobs=-1, verbose=True)\n",
    "gs_gbclf.fit(train_sm[0], train_sm[1])"
   ]
  },
  {
   "cell_type": "code",
   "execution_count": 38,
   "metadata": {},
   "outputs": [
    {
     "data": {
      "text/plain": [
       "{'learning_rate': 0.2, 'max_depth': 2, 'n_estimators': 125}"
      ]
     },
     "execution_count": 38,
     "metadata": {},
     "output_type": "execute_result"
    }
   ],
   "source": [
    "gs_gbclf.best_params_"
   ]
  },
  {
   "cell_type": "code",
   "execution_count": 39,
   "metadata": {},
   "outputs": [
    {
     "name": "stdout",
     "output_type": "stream",
     "text": [
      "Training\n",
      "F1 Score: 0.8267180681715205\n"
     ]
    },
    {
     "data": {
      "image/png": "[encoded data removed]",
      "text/plain": [
       "<Figure size 432x288 with 2 Axes>"
      ]
     },
     "metadata": {
      "needs_background": "light"
     },
     "output_type": "display_data"
    }
   ],
   "source": [
    "print('Training')\n",
    "evaluation_report(gs_gbclf, train_sm[0], train_sm[1])"
   ]
  },
  {
   "cell_type": "code",
   "execution_count": 40,
   "metadata": {
    "scrolled": true
   },
   "outputs": [
    {
     "name": "stdout",
     "output_type": "stream",
     "text": [
      "Testing\n",
      "F1 Score: 0.6899248415535542\n"
     ]
    },
    {
     "data": {
      "image/png": "[encoded data removed]",
      "text/plain": [
       "<Figure size 432x288 with 2 Axes>"
      ]
     },
     "metadata": {
      "needs_background": "light"
     },
     "output_type": "display_data"
    }
   ],
   "source": [
    "print('Testing')\n",
    "evaluation_report(gs_gbclf, test_ohe, y_test)"
   ]
  },
  {
   "cell_type": "markdown",
   "metadata": {},
   "source": [
    "**Model 5**"
   ]
  },
  {
   "cell_type": "code",
   "execution_count": 41,
   "metadata": {},
   "outputs": [],
   "source": [
    "lr_col_trans = ColumnTransformer(verbose=False,transformers=[\n",
    "    ('numerical', numerical_pipeline, numerical_columns),\n",
    "    ('categorical', categorical_pipeline, categorical_columns)\n",
    "])\n",
    "\n",
    "lr_train_transf = lr_col_trans.fit_transform(X_train)\n",
    "lr_test_transf = lr_col_trans.transform(X_test)"
   ]
  },
  {
   "cell_type": "code",
   "execution_count": 42,
   "metadata": {},
   "outputs": [
    {
     "name": "stdout",
     "output_type": "stream",
     "text": [
      "Fitting 5 folds for each of 18 candidates, totalling 90 fits\n"
     ]
    },
    {
     "name": "stderr",
     "output_type": "stream",
     "text": [
      "[Parallel(n_jobs=-1)]: Using backend LokyBackend with 4 concurrent workers.\n",
      "[Parallel(n_jobs=-1)]: Done  42 tasks      | elapsed:   24.9s\n",
      "[Parallel(n_jobs=-1)]: Done  90 out of  90 | elapsed:   43.1s finished\n"
     ]
    },
    {
     "data": {
      "text/plain": [
       "GridSearchCV(estimator=LogisticRegression(class_weight='balanced',\n",
       "                                          max_iter=10000, random_state=9),\n",
       "             n_jobs=-1,\n",
       "             param_grid=[{'C': [0.75, 0.5, 0.25], 'penalty': ['l1', 'l2'],\n",
       "                          'solver': ['saga', 'sag', 'lbfgs']}],\n",
       "             scoring='f1_macro', verbose=True)"
      ]
     },
     "execution_count": 42,
     "metadata": {},
     "output_type": "execute_result"
    }
   ],
   "source": [
    "lr2 = LogisticRegression(max_iter = 10000, random_state=9, class_weight='balanced')\n",
    "\n",
    "param_grid = [\n",
    "    {\n",
    "     'penalty' : ['l1','l2'],\n",
    "     'C' : [.75,.5,.25],\n",
    "     'solver' : ['saga','sag', 'lbfgs']\n",
    "    }, \n",
    "]\n",
    "\n",
    "gs_lr2 = GridSearchCV(lr2, param_grid = param_grid, \n",
    "                        scoring = 'f1_macro', n_jobs=-1, verbose=True)\n",
    "gs_lr2.fit(lr_train_transf, y_train)"
   ]
  },
  {
   "cell_type": "code",
   "execution_count": 43,
   "metadata": {},
   "outputs": [
    {
     "data": {
      "text/plain": [
       "{'C': 0.5, 'penalty': 'l1', 'solver': 'saga'}"
      ]
     },
     "execution_count": 43,
     "metadata": {},
     "output_type": "execute_result"
    }
   ],
   "source": [
    "gs_lr2.best_params_"
   ]
  },
  {
   "cell_type": "code",
   "execution_count": 44,
   "metadata": {},
   "outputs": [
    {
     "name": "stdout",
     "output_type": "stream",
     "text": [
      "Training\n",
      "F1 Score: 0.6458631282387632\n"
     ]
    },
    {
     "data": {
      "image/png": "[encoded data removed]",
      "text/plain": [
       "<Figure size 432x288 with 2 Axes>"
      ]
     },
     "metadata": {
      "needs_background": "light"
     },
     "output_type": "display_data"
    }
   ],
   "source": [
    "print('Training')\n",
    "evaluation_report(gs_lr2, lr_train_transf, y_train)"
   ]
  },
  {
   "cell_type": "code",
   "execution_count": 45,
   "metadata": {},
   "outputs": [
    {
     "name": "stdout",
     "output_type": "stream",
     "text": [
      "Testing\n",
      "F1 Score: 0.6480539045484064\n"
     ]
    },
    {
     "data": {
      "image/png": "[encoded data removed]",
      "text/plain": [
       "<Figure size 432x288 with 2 Axes>"
      ]
     },
     "metadata": {
      "needs_background": "light"
     },
     "output_type": "display_data"
    }
   ],
   "source": [
    "print('Testing')\n",
    "evaluation_report(gs_lr2, lr_test_transf, y_test)"
   ]
  },
  {
   "cell_type": "markdown",
   "metadata": {},
   "source": [
    "**Model 6**"
   ]
  },
  {
   "cell_type": "code",
   "execution_count": 46,
   "metadata": {},
   "outputs": [],
   "source": [
    "from sklearn.utils import class_weight\n",
    "classes_weights = class_weight.compute_sample_weight(\n",
    "    class_weight='balanced',\n",
    "    y=y_train\n",
    ")"
   ]
  },
  {
   "cell_type": "code",
   "execution_count": 47,
   "metadata": {},
   "outputs": [
    {
     "data": {
      "text/plain": [
       "array([0.59682779, 1.19293478, 1.19293478, ..., 0.59682779, 1.90685328,\n",
       "       0.59682779])"
      ]
     },
     "execution_count": 47,
     "metadata": {},
     "output_type": "execute_result"
    }
   ],
   "source": [
    "classes_weights"
   ]
  },
  {
   "cell_type": "code",
   "execution_count": 48,
   "metadata": {},
   "outputs": [
    {
     "data": {
      "text/plain": [
       "GridSearchCV(estimator=XGBClassifier(base_score=None, booster=None,\n",
       "                                     colsample_bylevel=None,\n",
       "                                     colsample_bynode=None,\n",
       "                                     colsample_bytree=None, gamma=None,\n",
       "                                     gpu_id=None, importance_type='gain',\n",
       "                                     interaction_constraints=None,\n",
       "                                     learning_rate=None, max_delta_step=None,\n",
       "                                     max_depth=None, min_child_weight=None,\n",
       "                                     missing=nan, monotone_constraints=None,\n",
       "                                     n_estimators=100, n_jobs=-1,\n",
       "                                     num_parallel_tree=None, random_state=9,\n",
       "                                     reg_alpha=None, reg_lambda=None,\n",
       "                                     scale_pos_weight=None, subsample=None,\n",
       "                                     tree_method=None, validate_parameters=None,\n",
       "                                     verbosity=None),\n",
       "             n_jobs=-1,\n",
       "             param_grid={'booster': ['gbtree', 'dart'],\n",
       "                         'learning_rate': [0.1, 0.05, 0.01, 0.005],\n",
       "                         'max_depth': [1, 2],\n",
       "                         'n_estimators': range(180, 220, 20)},\n",
       "             scoring='f1_macro')"
      ]
     },
     "execution_count": 48,
     "metadata": {},
     "output_type": "execute_result"
    }
   ],
   "source": [
    "xgbc2 = XGBClassifier(random_state = 9, n_jobs = -1)\n",
    "params = {\n",
    "    'max_depth': [1,2],\n",
    "    'learning_rate': [.1,.05,.01,.005],\n",
    "    'n_estimators': range(180,220,20),\n",
    "    'booster': ['gbtree','dart'],\n",
    "#     'weight': classes_weights\n",
    "}\n",
    "#Run gridsearch\n",
    "gs_xgbc2 = GridSearchCV(xgbc2, param_grid=params, scoring='f1_macro', n_jobs =-1 )\n",
    "gs_xgbc2.fit(train_ohe, y_train, sample_weight=classes_weights)"
   ]
  },
  {
   "cell_type": "code",
   "execution_count": 49,
   "metadata": {},
   "outputs": [
    {
     "data": {
      "text/plain": [
       "{'booster': 'gbtree',\n",
       " 'learning_rate': 0.1,\n",
       " 'max_depth': 2,\n",
       " 'n_estimators': 200}"
      ]
     },
     "execution_count": 49,
     "metadata": {},
     "output_type": "execute_result"
    }
   ],
   "source": [
    "gs_xgbc2.best_params_"
   ]
  },
  {
   "cell_type": "code",
   "execution_count": 50,
   "metadata": {},
   "outputs": [
    {
     "name": "stdout",
     "output_type": "stream",
     "text": [
      "Training\n",
      "F1 Score: 0.7466880871196648\n"
     ]
    },
    {
     "data": {
      "image/png": "[encoded data removed]",
      "text/plain": [
       "<Figure size 432x288 with 2 Axes>"
      ]
     },
     "metadata": {
      "needs_background": "light"
     },
     "output_type": "display_data"
    }
   ],
   "source": [
    "print('Training')\n",
    "evaluation_report(gs_xgbc2, train_ohe, y_train)"
   ]
  },
  {
   "cell_type": "code",
   "execution_count": 51,
   "metadata": {},
   "outputs": [
    {
     "name": "stdout",
     "output_type": "stream",
     "text": [
      "Testing\n",
      "F1 Score: 0.6893463359035795\n"
     ]
    },
    {
     "data": {
      "image/png": "[encoded data removed]",
      "text/plain": [
       "<Figure size 432x288 with 2 Axes>"
      ]
     },
     "metadata": {
      "needs_background": "light"
     },
     "output_type": "display_data"
    }
   ],
   "source": [
    "print('Testing')\n",
    "evaluation_report(gs_xgbc2, test_ohe, y_test)"
   ]
  },
  {
   "cell_type": "markdown",
   "metadata": {},
   "source": [
    "{'booster': 'gbtree',\n",
    " 'learning_rate': 0.1,\n",
    " 'max_depth': 2,\n",
    " 'n_estimators': 200}\n",
    "\n",
    "Training\n",
    "F1 Score: 0.7466880871196648\n",
    "\n",
    "Testing\n",
    "F1 Score: 0.6893463359035795"
   ]
  },
  {
   "cell_type": "code",
   "execution_count": 52,
   "metadata": {},
   "outputs": [],
   "source": [
    "best_model = gs_xgbc2"
   ]
  },
  {
   "cell_type": "code",
   "execution_count": 53,
   "metadata": {},
   "outputs": [],
   "source": [
    "X_final = df.drop('genre', axis = 1)\n",
    "y_final = df.genre"
   ]
  },
  {
   "cell_type": "code",
   "execution_count": 57,
   "metadata": {},
   "outputs": [],
   "source": [
    "final_ohe = ohe.transform(X_final[categorical_columns])\n",
    "final_ohe = X_final[numerical_columns].reset_index().join(pd.DataFrame(final_ohe)).set_index('id')"
   ]
  },
  {
   "cell_type": "code",
   "execution_count": 58,
   "metadata": {
    "scrolled": true
   },
   "outputs": [
    {
     "data": {
      "text/html": [
       "<div>\n",
       "<style scoped>\n",
       "    .dataframe tbody tr th:only-of-type {\n",
       "        vertical-align: middle;\n",
       "    }\n",
       "\n",
       "    .dataframe tbody tr th {\n",
       "        vertical-align: top;\n",
       "    }\n",
       "\n",
       "    .dataframe thead th {\n",
       "        text-align: right;\n",
       "    }\n",
       "</style>\n",
       "<table border=\"1\" class=\"dataframe\">\n",
       "  <thead>\n",
       "    <tr style=\"text-align: right;\">\n",
       "      <th></th>\n",
       "      <th>danceability</th>\n",
       "      <th>energy</th>\n",
       "      <th>loudness</th>\n",
       "      <th>speechiness</th>\n",
       "      <th>acousticness</th>\n",
       "      <th>instrumentalness</th>\n",
       "      <th>liveness</th>\n",
       "      <th>valence</th>\n",
       "      <th>tempo</th>\n",
       "      <th>duration_ms</th>\n",
       "      <th>...</th>\n",
       "      <th>6</th>\n",
       "      <th>7</th>\n",
       "      <th>8</th>\n",
       "      <th>9</th>\n",
       "      <th>10</th>\n",
       "      <th>11</th>\n",
       "      <th>12</th>\n",
       "      <th>13</th>\n",
       "      <th>14</th>\n",
       "      <th>15</th>\n",
       "    </tr>\n",
       "    <tr>\n",
       "      <th>id</th>\n",
       "      <th></th>\n",
       "      <th></th>\n",
       "      <th></th>\n",
       "      <th></th>\n",
       "      <th></th>\n",
       "      <th></th>\n",
       "      <th></th>\n",
       "      <th></th>\n",
       "      <th></th>\n",
       "      <th></th>\n",
       "      <th></th>\n",
       "      <th></th>\n",
       "      <th></th>\n",
       "      <th></th>\n",
       "      <th></th>\n",
       "      <th></th>\n",
       "      <th></th>\n",
       "      <th></th>\n",
       "      <th></th>\n",
       "      <th></th>\n",
       "      <th></th>\n",
       "    </tr>\n",
       "  </thead>\n",
       "  <tbody>\n",
       "    <tr>\n",
       "      <th>1gyee1JuFFiP476LQpRMYU</th>\n",
       "      <td>0.509</td>\n",
       "      <td>0.843</td>\n",
       "      <td>-3.318</td>\n",
       "      <td>0.0488</td>\n",
       "      <td>0.000671</td>\n",
       "      <td>0.000803</td>\n",
       "      <td>0.3480</td>\n",
       "      <td>0.332</td>\n",
       "      <td>140.055</td>\n",
       "      <td>238400.0</td>\n",
       "      <td>...</td>\n",
       "      <td>0.0</td>\n",
       "      <td>0.0</td>\n",
       "      <td>0.0</td>\n",
       "      <td>0.0</td>\n",
       "      <td>0.0</td>\n",
       "      <td>0.0</td>\n",
       "      <td>0.0</td>\n",
       "      <td>1.0</td>\n",
       "      <td>0.0</td>\n",
       "      <td>0.0</td>\n",
       "    </tr>\n",
       "    <tr>\n",
       "      <th>7HgQTacsIKMUiElM725aav</th>\n",
       "      <td>0.644</td>\n",
       "      <td>0.287</td>\n",
       "      <td>-14.072</td>\n",
       "      <td>0.0257</td>\n",
       "      <td>0.283000</td>\n",
       "      <td>0.005800</td>\n",
       "      <td>0.0705</td>\n",
       "      <td>0.315</td>\n",
       "      <td>103.983</td>\n",
       "      <td>218893.0</td>\n",
       "      <td>...</td>\n",
       "      <td>0.0</td>\n",
       "      <td>0.0</td>\n",
       "      <td>0.0</td>\n",
       "      <td>0.0</td>\n",
       "      <td>0.0</td>\n",
       "      <td>1.0</td>\n",
       "      <td>0.0</td>\n",
       "      <td>0.0</td>\n",
       "      <td>1.0</td>\n",
       "      <td>0.0</td>\n",
       "    </tr>\n",
       "    <tr>\n",
       "      <th>639p4iSG1S0lXJ6RJJ6jLN</th>\n",
       "      <td>0.478</td>\n",
       "      <td>0.940</td>\n",
       "      <td>-3.888</td>\n",
       "      <td>0.1250</td>\n",
       "      <td>0.000045</td>\n",
       "      <td>0.002530</td>\n",
       "      <td>0.1310</td>\n",
       "      <td>0.310</td>\n",
       "      <td>164.881</td>\n",
       "      <td>196133.0</td>\n",
       "      <td>...</td>\n",
       "      <td>0.0</td>\n",
       "      <td>0.0</td>\n",
       "      <td>0.0</td>\n",
       "      <td>0.0</td>\n",
       "      <td>0.0</td>\n",
       "      <td>1.0</td>\n",
       "      <td>0.0</td>\n",
       "      <td>0.0</td>\n",
       "      <td>1.0</td>\n",
       "      <td>0.0</td>\n",
       "    </tr>\n",
       "    <tr>\n",
       "      <th>64fzn2ewOdSH57wrxTPGov</th>\n",
       "      <td>0.533</td>\n",
       "      <td>0.320</td>\n",
       "      <td>-8.819</td>\n",
       "      <td>0.0316</td>\n",
       "      <td>0.731000</td>\n",
       "      <td>0.000017</td>\n",
       "      <td>0.1540</td>\n",
       "      <td>0.291</td>\n",
       "      <td>98.036</td>\n",
       "      <td>226160.0</td>\n",
       "      <td>...</td>\n",
       "      <td>0.0</td>\n",
       "      <td>1.0</td>\n",
       "      <td>0.0</td>\n",
       "      <td>0.0</td>\n",
       "      <td>0.0</td>\n",
       "      <td>1.0</td>\n",
       "      <td>0.0</td>\n",
       "      <td>0.0</td>\n",
       "      <td>1.0</td>\n",
       "      <td>0.0</td>\n",
       "    </tr>\n",
       "    <tr>\n",
       "      <th>3ivJymJnoceuUUe7wTP6m4</th>\n",
       "      <td>0.598</td>\n",
       "      <td>0.856</td>\n",
       "      <td>-6.204</td>\n",
       "      <td>0.3060</td>\n",
       "      <td>0.219000</td>\n",
       "      <td>0.000000</td>\n",
       "      <td>0.2910</td>\n",
       "      <td>0.779</td>\n",
       "      <td>173.929</td>\n",
       "      <td>272627.0</td>\n",
       "      <td>...</td>\n",
       "      <td>0.0</td>\n",
       "      <td>0.0</td>\n",
       "      <td>1.0</td>\n",
       "      <td>0.0</td>\n",
       "      <td>0.0</td>\n",
       "      <td>0.0</td>\n",
       "      <td>0.0</td>\n",
       "      <td>0.0</td>\n",
       "      <td>1.0</td>\n",
       "      <td>0.0</td>\n",
       "    </tr>\n",
       "    <tr>\n",
       "      <th>...</th>\n",
       "      <td>...</td>\n",
       "      <td>...</td>\n",
       "      <td>...</td>\n",
       "      <td>...</td>\n",
       "      <td>...</td>\n",
       "      <td>...</td>\n",
       "      <td>...</td>\n",
       "      <td>...</td>\n",
       "      <td>...</td>\n",
       "      <td>...</td>\n",
       "      <td>...</td>\n",
       "      <td>...</td>\n",
       "      <td>...</td>\n",
       "      <td>...</td>\n",
       "      <td>...</td>\n",
       "      <td>...</td>\n",
       "      <td>...</td>\n",
       "      <td>...</td>\n",
       "      <td>...</td>\n",
       "      <td>...</td>\n",
       "      <td>...</td>\n",
       "    </tr>\n",
       "    <tr>\n",
       "      <th>0pNMYo9MXmyyR9Fp9HwiBT</th>\n",
       "      <td>0.638</td>\n",
       "      <td>0.863</td>\n",
       "      <td>-5.891</td>\n",
       "      <td>0.3090</td>\n",
       "      <td>0.023000</td>\n",
       "      <td>0.000000</td>\n",
       "      <td>0.6280</td>\n",
       "      <td>0.516</td>\n",
       "      <td>153.954</td>\n",
       "      <td>247267.0</td>\n",
       "      <td>...</td>\n",
       "      <td>0.0</td>\n",
       "      <td>0.0</td>\n",
       "      <td>0.0</td>\n",
       "      <td>0.0</td>\n",
       "      <td>0.0</td>\n",
       "      <td>1.0</td>\n",
       "      <td>0.0</td>\n",
       "      <td>0.0</td>\n",
       "      <td>1.0</td>\n",
       "      <td>0.0</td>\n",
       "    </tr>\n",
       "    <tr>\n",
       "      <th>4MFCXniy7I8tj0GXtf3wgC</th>\n",
       "      <td>0.638</td>\n",
       "      <td>0.924</td>\n",
       "      <td>-3.887</td>\n",
       "      <td>0.0360</td>\n",
       "      <td>0.002050</td>\n",
       "      <td>0.000175</td>\n",
       "      <td>0.1490</td>\n",
       "      <td>0.530</td>\n",
       "      <td>111.995</td>\n",
       "      <td>263787.0</td>\n",
       "      <td>...</td>\n",
       "      <td>1.0</td>\n",
       "      <td>0.0</td>\n",
       "      <td>0.0</td>\n",
       "      <td>0.0</td>\n",
       "      <td>0.0</td>\n",
       "      <td>1.0</td>\n",
       "      <td>0.0</td>\n",
       "      <td>0.0</td>\n",
       "      <td>1.0</td>\n",
       "      <td>0.0</td>\n",
       "    </tr>\n",
       "    <tr>\n",
       "      <th>3tkbjyAmQnGsD52Rn8TCX8</th>\n",
       "      <td>0.772</td>\n",
       "      <td>0.861</td>\n",
       "      <td>-2.389</td>\n",
       "      <td>0.0898</td>\n",
       "      <td>0.135000</td>\n",
       "      <td>0.000742</td>\n",
       "      <td>0.0640</td>\n",
       "      <td>0.424</td>\n",
       "      <td>133.918</td>\n",
       "      <td>204160.0</td>\n",
       "      <td>...</td>\n",
       "      <td>1.0</td>\n",
       "      <td>0.0</td>\n",
       "      <td>0.0</td>\n",
       "      <td>0.0</td>\n",
       "      <td>0.0</td>\n",
       "      <td>1.0</td>\n",
       "      <td>0.0</td>\n",
       "      <td>0.0</td>\n",
       "      <td>1.0</td>\n",
       "      <td>0.0</td>\n",
       "    </tr>\n",
       "    <tr>\n",
       "      <th>1Ebp8tgreavAhAt76zxBST</th>\n",
       "      <td>0.749</td>\n",
       "      <td>0.620</td>\n",
       "      <td>-7.253</td>\n",
       "      <td>0.1660</td>\n",
       "      <td>0.046100</td>\n",
       "      <td>0.000000</td>\n",
       "      <td>0.0489</td>\n",
       "      <td>0.404</td>\n",
       "      <td>140.054</td>\n",
       "      <td>281225.0</td>\n",
       "      <td>...</td>\n",
       "      <td>0.0</td>\n",
       "      <td>0.0</td>\n",
       "      <td>1.0</td>\n",
       "      <td>0.0</td>\n",
       "      <td>0.0</td>\n",
       "      <td>1.0</td>\n",
       "      <td>0.0</td>\n",
       "      <td>0.0</td>\n",
       "      <td>1.0</td>\n",
       "      <td>0.0</td>\n",
       "    </tr>\n",
       "    <tr>\n",
       "      <th>0SfpnyHLyrUlBTgGxgmKVR</th>\n",
       "      <td>0.707</td>\n",
       "      <td>0.496</td>\n",
       "      <td>-7.905</td>\n",
       "      <td>0.0383</td>\n",
       "      <td>0.292000</td>\n",
       "      <td>0.000000</td>\n",
       "      <td>0.0654</td>\n",
       "      <td>0.459</td>\n",
       "      <td>93.983</td>\n",
       "      <td>295933.0</td>\n",
       "      <td>...</td>\n",
       "      <td>0.0</td>\n",
       "      <td>0.0</td>\n",
       "      <td>0.0</td>\n",
       "      <td>0.0</td>\n",
       "      <td>0.0</td>\n",
       "      <td>0.0</td>\n",
       "      <td>0.0</td>\n",
       "      <td>0.0</td>\n",
       "      <td>1.0</td>\n",
       "      <td>0.0</td>\n",
       "    </tr>\n",
       "  </tbody>\n",
       "</table>\n",
       "<p>5268 rows × 26 columns</p>\n",
       "</div>"
      ],
      "text/plain": [
       "                        danceability  energy  loudness  speechiness  \\\n",
       "id                                                                    \n",
       "1gyee1JuFFiP476LQpRMYU         0.509   0.843    -3.318       0.0488   \n",
       "7HgQTacsIKMUiElM725aav         0.644   0.287   -14.072       0.0257   \n",
       "639p4iSG1S0lXJ6RJJ6jLN         0.478   0.940    -3.888       0.1250   \n",
       "64fzn2ewOdSH57wrxTPGov         0.533   0.320    -8.819       0.0316   \n",
       "3ivJymJnoceuUUe7wTP6m4         0.598   0.856    -6.204       0.3060   \n",
       "...                              ...     ...       ...          ...   \n",
       "0pNMYo9MXmyyR9Fp9HwiBT         0.638   0.863    -5.891       0.3090   \n",
       "4MFCXniy7I8tj0GXtf3wgC         0.638   0.924    -3.887       0.0360   \n",
       "3tkbjyAmQnGsD52Rn8TCX8         0.772   0.861    -2.389       0.0898   \n",
       "1Ebp8tgreavAhAt76zxBST         0.749   0.620    -7.253       0.1660   \n",
       "0SfpnyHLyrUlBTgGxgmKVR         0.707   0.496    -7.905       0.0383   \n",
       "\n",
       "                        acousticness  instrumentalness  liveness  valence  \\\n",
       "id                                                                          \n",
       "1gyee1JuFFiP476LQpRMYU      0.000671          0.000803    0.3480    0.332   \n",
       "7HgQTacsIKMUiElM725aav      0.283000          0.005800    0.0705    0.315   \n",
       "639p4iSG1S0lXJ6RJJ6jLN      0.000045          0.002530    0.1310    0.310   \n",
       "64fzn2ewOdSH57wrxTPGov      0.731000          0.000017    0.1540    0.291   \n",
       "3ivJymJnoceuUUe7wTP6m4      0.219000          0.000000    0.2910    0.779   \n",
       "...                              ...               ...       ...      ...   \n",
       "0pNMYo9MXmyyR9Fp9HwiBT      0.023000          0.000000    0.6280    0.516   \n",
       "4MFCXniy7I8tj0GXtf3wgC      0.002050          0.000175    0.1490    0.530   \n",
       "3tkbjyAmQnGsD52Rn8TCX8      0.135000          0.000742    0.0640    0.424   \n",
       "1Ebp8tgreavAhAt76zxBST      0.046100          0.000000    0.0489    0.404   \n",
       "0SfpnyHLyrUlBTgGxgmKVR      0.292000          0.000000    0.0654    0.459   \n",
       "\n",
       "                          tempo  duration_ms  ...    6    7    8    9   10  \\\n",
       "id                                            ...                            \n",
       "1gyee1JuFFiP476LQpRMYU  140.055     238400.0  ...  0.0  0.0  0.0  0.0  0.0   \n",
       "7HgQTacsIKMUiElM725aav  103.983     218893.0  ...  0.0  0.0  0.0  0.0  0.0   \n",
       "639p4iSG1S0lXJ6RJJ6jLN  164.881     196133.0  ...  0.0  0.0  0.0  0.0  0.0   \n",
       "64fzn2ewOdSH57wrxTPGov   98.036     226160.0  ...  0.0  1.0  0.0  0.0  0.0   \n",
       "3ivJymJnoceuUUe7wTP6m4  173.929     272627.0  ...  0.0  0.0  1.0  0.0  0.0   \n",
       "...                         ...          ...  ...  ...  ...  ...  ...  ...   \n",
       "0pNMYo9MXmyyR9Fp9HwiBT  153.954     247267.0  ...  0.0  0.0  0.0  0.0  0.0   \n",
       "4MFCXniy7I8tj0GXtf3wgC  111.995     263787.0  ...  1.0  0.0  0.0  0.0  0.0   \n",
       "3tkbjyAmQnGsD52Rn8TCX8  133.918     204160.0  ...  1.0  0.0  0.0  0.0  0.0   \n",
       "1Ebp8tgreavAhAt76zxBST  140.054     281225.0  ...  0.0  0.0  1.0  0.0  0.0   \n",
       "0SfpnyHLyrUlBTgGxgmKVR   93.983     295933.0  ...  0.0  0.0  0.0  0.0  0.0   \n",
       "\n",
       "                         11   12   13   14   15  \n",
       "id                                               \n",
       "1gyee1JuFFiP476LQpRMYU  0.0  0.0  1.0  0.0  0.0  \n",
       "7HgQTacsIKMUiElM725aav  1.0  0.0  0.0  1.0  0.0  \n",
       "639p4iSG1S0lXJ6RJJ6jLN  1.0  0.0  0.0  1.0  0.0  \n",
       "64fzn2ewOdSH57wrxTPGov  1.0  0.0  0.0  1.0  0.0  \n",
       "3ivJymJnoceuUUe7wTP6m4  0.0  0.0  0.0  1.0  0.0  \n",
       "...                     ...  ...  ...  ...  ...  \n",
       "0pNMYo9MXmyyR9Fp9HwiBT  1.0  0.0  0.0  1.0  0.0  \n",
       "4MFCXniy7I8tj0GXtf3wgC  1.0  0.0  0.0  1.0  0.0  \n",
       "3tkbjyAmQnGsD52Rn8TCX8  1.0  0.0  0.0  1.0  0.0  \n",
       "1Ebp8tgreavAhAt76zxBST  1.0  0.0  0.0  1.0  0.0  \n",
       "0SfpnyHLyrUlBTgGxgmKVR  0.0  0.0  0.0  1.0  0.0  \n",
       "\n",
       "[5268 rows x 26 columns]"
      ]
     },
     "execution_count": 58,
     "metadata": {},
     "output_type": "execute_result"
    }
   ],
   "source": [
    "final_ohe"
   ]
  },
  {
   "cell_type": "code",
   "execution_count": 59,
   "metadata": {},
   "outputs": [
    {
     "data": {
      "text/plain": [
       "array(['alt-metal', 'rock', 'alt-metal', ..., 'pop', 'hip-hop', 'pop'],\n",
       "      dtype=object)"
      ]
     },
     "execution_count": 59,
     "metadata": {},
     "output_type": "execute_result"
    }
   ],
   "source": [
    "best_model.predict(final_ohe)"
   ]
  },
  {
   "cell_type": "code",
   "execution_count": 60,
   "metadata": {},
   "outputs": [
    {
     "name": "stdout",
     "output_type": "stream",
     "text": [
      "F1 Score: 0.7322209266783103\n"
     ]
    },
    {
     "data": {
      "image/png": "[encoded data removed]",
      "text/plain": [
       "<Figure size 432x288 with 2 Axes>"
      ]
     },
     "metadata": {
      "needs_background": "light"
     },
     "output_type": "display_data"
    }
   ],
   "source": [
    "evaluation_report(best_model, final_ohe, y_final)"
   ]
  },
  {
   "cell_type": "code",
   "execution_count": null,
   "metadata": {},
   "outputs": [],
   "source": []
  }
 ],
 "metadata": {
  "kernelspec": {
   "display_name": "learn-env",
   "language": "python",
   "name": "learn-env"
  },
  "language_info": {
   "codemirror_mode": {
    "name": "ipython",
    "version": 3
   },
   "file_extension": ".py",
   "mimetype": "text/x-python",
   "name": "python",
   "nbconvert_exporter": "python",
   "pygments_lexer": "ipython3",
   "version": "3.8.5"
  }
 },
 "nbformat": 4,
 "nbformat_minor": 4
}
