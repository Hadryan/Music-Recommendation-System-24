{
 "cells": [
  {
   "cell_type": "code",
   "execution_count": 1,
   "metadata": {},
   "outputs": [
    {
     "data": {
      "text/plain": [
       "True"
      ]
     },
     "execution_count": 1,
     "metadata": {},
     "output_type": "execute_result"
    }
   ],
   "source": [
    "import spotipy\n",
    "from spotipy.oauth2 import SpotifyClientCredentials\n",
    "from spotipy.oauth2 import SpotifyOAuth\n",
    "from dotenv import load_dotenv\n",
    "load_dotenv()"
   ]
  },
  {
   "cell_type": "code",
   "execution_count": 2,
   "metadata": {},
   "outputs": [],
   "source": [
    "scope = \"user-library-read\"\n",
    "sp = spotipy.Spotify(auth_manager=SpotifyOAuth(scope=scope))"
   ]
  },
  {
   "cell_type": "code",
   "execution_count": 3,
   "metadata": {},
   "outputs": [],
   "source": [
    "import pickle\n",
    "import pandas as pd\n",
    "import numpy as np\n",
    "from sklearn.model_selection import train_test_split\n",
    "from sklearn.linear_model import LogisticRegression\n",
    "from sklearn.metrics import accuracy_score, f1_score, recall_score, precision_score\n",
    "from sklearn.preprocessing import StandardScaler, OneHotEncoder\n",
    "from sklearn.metrics import plot_confusion_matrix\n",
    "from sklearn.preprocessing import MinMaxScaler\n",
    "from sklearn.compose import ColumnTransformer"
   ]
  },
  {
   "cell_type": "code",
   "execution_count": 4,
   "metadata": {},
   "outputs": [],
   "source": [
    "infile = open('pickled_files/df.pickle','rb')\n",
    "df = pickle.load(infile)\n",
    "infile.close()\n",
    "df.set_index('id', inplace = True)"
   ]
  },
  {
   "cell_type": "code",
   "execution_count": 5,
   "metadata": {},
   "outputs": [
    {
     "name": "stdout",
     "output_type": "stream",
     "text": [
      "<class 'pandas.core.frame.DataFrame'>\n",
      "Index: 5212 entries, 5Kv48EVPskG3pGImDZOP7j to 3o0a0VKaYQfppM2e89QuXE\n",
      "Data columns (total 14 columns):\n",
      " #   Column            Non-Null Count  Dtype  \n",
      "---  ------            --------------  -----  \n",
      " 0   danceability      5212 non-null   float64\n",
      " 1   energy            5212 non-null   float64\n",
      " 2   key               5212 non-null   object \n",
      " 3   loudness          5212 non-null   float64\n",
      " 4   mode              5212 non-null   object \n",
      " 5   speechiness       5212 non-null   float64\n",
      " 6   acousticness      5212 non-null   float64\n",
      " 7   instrumentalness  5212 non-null   float64\n",
      " 8   liveness          5212 non-null   float64\n",
      " 9   valence           5212 non-null   float64\n",
      " 10  tempo             5212 non-null   float64\n",
      " 11  duration_ms       5212 non-null   float64\n",
      " 12  time_signature    5212 non-null   object \n",
      " 13  genre             5212 non-null   object \n",
      "dtypes: float64(10), object(4)\n",
      "memory usage: 610.8+ KB\n"
     ]
    }
   ],
   "source": [
    "df.info()"
   ]
  },
  {
   "cell_type": "code",
   "execution_count": 6,
   "metadata": {},
   "outputs": [],
   "source": [
    "categorical_columns = list(df.drop('genre', axis = 1).select_dtypes('object').columns)\n",
    "numerical_columns = list(df.drop('genre', axis = 1).select_dtypes(exclude = 'object').columns)"
   ]
  },
  {
   "cell_type": "code",
   "execution_count": 7,
   "metadata": {},
   "outputs": [],
   "source": [
    "X_train, X_test, y_train, y_test = train_test_split(df.drop(['genre'], axis=1),\n",
    "                                                    df.genre,\n",
    "                                                   random_state=9)"
   ]
  },
  {
   "cell_type": "code",
   "execution_count": 8,
   "metadata": {
    "scrolled": true
   },
   "outputs": [
    {
     "data": {
      "text/plain": [
       "hip-hop      0.411870\n",
       "alt-metal    0.247889\n",
       "rock         0.205935\n",
       "pop          0.134305\n",
       "Name: genre, dtype: float64"
      ]
     },
     "execution_count": 8,
     "metadata": {},
     "output_type": "execute_result"
    }
   ],
   "source": [
    "y_train.value_counts(normalize=True)"
   ]
  },
  {
   "cell_type": "code",
   "execution_count": 9,
   "metadata": {},
   "outputs": [],
   "source": [
    "def evaluation_report(model, X_test, y_test):\n",
    "    y_pred = model.predict(X_test)\n",
    "    print(f\"F1 Score: {f1_score(y_test, model.predict(X_test), average = 'macro')}\")\n",
    "    plot_confusion_matrix(model, X_test, y_test, cmap='GnBu',xticks_rotation='vertical')"
   ]
  },
  {
   "cell_type": "markdown",
   "metadata": {},
   "source": [
    "**First Simple Model**"
   ]
  },
  {
   "cell_type": "code",
   "execution_count": 10,
   "metadata": {},
   "outputs": [
    {
     "data": {
      "text/plain": [
       "LogisticRegression(random_state=9)"
      ]
     },
     "execution_count": 10,
     "metadata": {},
     "output_type": "execute_result"
    }
   ],
   "source": [
    "lr = LogisticRegression(random_state=9)\n",
    "ss = StandardScaler()\n",
    "lr.fit(ss.fit_transform(X_train), y_train)"
   ]
  },
  {
   "cell_type": "code",
   "execution_count": 11,
   "metadata": {},
   "outputs": [
    {
     "data": {
      "text/plain": [
       "array(['alt-metal', 'hip-hop', 'pop', 'rock'], dtype=object)"
      ]
     },
     "execution_count": 11,
     "metadata": {},
     "output_type": "execute_result"
    }
   ],
   "source": [
    "lr.classes_"
   ]
  },
  {
   "cell_type": "code",
   "execution_count": 12,
   "metadata": {},
   "outputs": [
    {
     "name": "stdout",
     "output_type": "stream",
     "text": [
      "Training\n",
      "F1 Score: 0.6346041461333982\n"
     ]
    },
    {
     "data": {
      "image/png": "[encoded data removed]",
      "text/plain": [
       "<Figure size 432x288 with 2 Axes>"
      ]
     },
     "metadata": {
      "needs_background": "light"
     },
     "output_type": "display_data"
    }
   ],
   "source": [
    "print('Training')\n",
    "evaluation_report(lr, ss.fit_transform(X_train), y_train)"
   ]
  },
  {
   "cell_type": "code",
   "execution_count": 13,
   "metadata": {},
   "outputs": [
    {
     "name": "stdout",
     "output_type": "stream",
     "text": [
      "Testing\n",
      "F1 Score: 0.6334773819600249\n"
     ]
    },
    {
     "data": {
      "image/png": "[encoded data removed]",
      "text/plain": [
       "<Figure size 432x288 with 2 Axes>"
      ]
     },
     "metadata": {
      "needs_background": "light"
     },
     "output_type": "display_data"
    }
   ],
   "source": [
    "print('Testing')\n",
    "evaluation_report(lr, ss.transform(X_test), y_test)"
   ]
  },
  {
   "cell_type": "markdown",
   "metadata": {},
   "source": [
    "<hl>"
   ]
  },
  {
   "cell_type": "code",
   "execution_count": 14,
   "metadata": {},
   "outputs": [],
   "source": [
    "from imblearn.pipeline import Pipeline as imbpipeline\n",
    "from sklearn.model_selection import GridSearchCV"
   ]
  },
  {
   "cell_type": "code",
   "execution_count": 15,
   "metadata": {},
   "outputs": [],
   "source": [
    "#Create pipelines\n",
    "numerical_pipeline = imbpipeline(verbose=False,steps=[\n",
    "                                ('ss', StandardScaler())\n",
    "                            ])\n",
    "\n",
    "categorical_pipeline = imbpipeline(verbose=False,steps=[\n",
    "                            ('ohe', OneHotEncoder(drop='first',\n",
    "                                                 sparse=False,))\n",
    "                            ])\n",
    "\n",
    "col_trans = ColumnTransformer(verbose=False,transformers=[\n",
    "    ('numerical', numerical_pipeline, numerical_columns),\n",
    "    ('categorical', categorical_pipeline, categorical_columns)\n",
    "])\n",
    "\n",
    "col_ohe_solo = ColumnTransformer(verbose=False,transformers=[\n",
    "    ('categorical', categorical_pipeline, categorical_columns)\n",
    "])\n"
   ]
  },
  {
   "cell_type": "markdown",
   "metadata": {},
   "source": [
    "<hl>"
   ]
  },
  {
   "cell_type": "markdown",
   "metadata": {},
   "source": [
    "**Second Model**"
   ]
  },
  {
   "cell_type": "code",
   "execution_count": 16,
   "metadata": {},
   "outputs": [
    {
     "name": "stdout",
     "output_type": "stream",
     "text": [
      "Fitting 5 folds for each of 18 candidates, totalling 90 fits\n"
     ]
    },
    {
     "name": "stderr",
     "output_type": "stream",
     "text": [
      "[Parallel(n_jobs=-1)]: Using backend LokyBackend with 4 concurrent workers.\n",
      "[Parallel(n_jobs=-1)]: Done  42 tasks      | elapsed:   10.1s\n",
      "[Parallel(n_jobs=-1)]: Done  90 out of  90 | elapsed:   15.1s finished\n"
     ]
    },
    {
     "data": {
      "text/plain": [
       "GridSearchCV(estimator=Pipeline(steps=[('col_trans',\n",
       "                                        ColumnTransformer(transformers=[('numerical',\n",
       "                                                                         Pipeline(steps=[('ss',\n",
       "                                                                                          StandardScaler())]),\n",
       "                                                                         ['danceability',\n",
       "                                                                          'energy',\n",
       "                                                                          'loudness',\n",
       "                                                                          'speechiness',\n",
       "                                                                          'acousticness',\n",
       "                                                                          'instrumentalness',\n",
       "                                                                          'liveness',\n",
       "                                                                          'valence',\n",
       "                                                                          'tempo',\n",
       "                                                                          'duration_ms']),\n",
       "                                                                        ('categorical',\n",
       "                                                                         Pipeline(steps=[('ohe',\n",
       "                                                                                          OneHotEncoder(drop='first',\n",
       "                                                                                                        sparse=False))]),\n",
       "                                                                         ['key',\n",
       "                                                                          'mode',\n",
       "                                                                          'time_signature'])])),\n",
       "                                       ('lr',\n",
       "                                        LogisticRegression(class_weight='balanced',\n",
       "                                                           max_iter=10000,\n",
       "                                                           random_state=9))]),\n",
       "             n_jobs=-1,\n",
       "             param_grid=[{'lr__C': [0.75, 0.5, 0.25],\n",
       "                          'lr__penalty': ['l1', 'l2'],\n",
       "                          'lr__solver': ['saga', 'sag', 'lbfgs']}],\n",
       "             scoring='f1_macro', verbose=True)"
      ]
     },
     "execution_count": 16,
     "metadata": {},
     "output_type": "execute_result"
    }
   ],
   "source": [
    "pipe_log = imbpipeline(verbose=False, steps=[\n",
    "    ('col_trans', col_trans),\n",
    "    ('lr', LogisticRegression(max_iter = 10000, random_state=9, class_weight='balanced'))\n",
    "])\n",
    "\n",
    "param_grid = [\n",
    "    {\n",
    "     'lr__penalty' : ['l1','l2'],\n",
    "     'lr__C' : [.75,.5,.25],\n",
    "     'lr__solver' : ['saga','sag', 'lbfgs']\n",
    "    }, \n",
    "]\n",
    "\n",
    "gs_lr = GridSearchCV(pipe_log, param_grid = param_grid, \n",
    "                        scoring = 'f1_macro', n_jobs=-1, verbose=True)\n",
    "gs_lr.fit(X_train, y_train)"
   ]
  },
  {
   "cell_type": "code",
   "execution_count": 17,
   "metadata": {},
   "outputs": [
    {
     "data": {
      "text/plain": [
       "{'lr__C': 0.25, 'lr__penalty': 'l2', 'lr__solver': 'saga'}"
      ]
     },
     "execution_count": 17,
     "metadata": {},
     "output_type": "execute_result"
    }
   ],
   "source": [
    "gs_lr.best_params_"
   ]
  },
  {
   "cell_type": "code",
   "execution_count": 18,
   "metadata": {},
   "outputs": [
    {
     "name": "stdout",
     "output_type": "stream",
     "text": [
      "Training\n",
      "F1 Score: 0.6529462691105088\n"
     ]
    },
    {
     "data": {
      "image/png": "[encoded data removed]",
      "text/plain": [
       "<Figure size 432x288 with 2 Axes>"
      ]
     },
     "metadata": {
      "needs_background": "light"
     },
     "output_type": "display_data"
    }
   ],
   "source": [
    "print('Training')\n",
    "evaluation_report(gs_lr, X_train, y_train)"
   ]
  },
  {
   "cell_type": "code",
   "execution_count": 19,
   "metadata": {},
   "outputs": [
    {
     "name": "stdout",
     "output_type": "stream",
     "text": [
      "Testing\n",
      "F1 Score: 0.6400899134937353\n"
     ]
    },
    {
     "data": {
      "image/png": "[encoded data removed]",
      "text/plain": [
       "<Figure size 432x288 with 2 Axes>"
      ]
     },
     "metadata": {
      "needs_background": "light"
     },
     "output_type": "display_data"
    }
   ],
   "source": [
    "print('Testing')\n",
    "evaluation_report(gs_lr, X_test, y_test)"
   ]
  },
  {
   "cell_type": "code",
   "execution_count": 20,
   "metadata": {},
   "outputs": [],
   "source": [
    "from imblearn.over_sampling import SMOTE\n",
    "from sklearn.ensemble import GradientBoostingClassifier"
   ]
  },
  {
   "cell_type": "code",
   "execution_count": 21,
   "metadata": {},
   "outputs": [],
   "source": [
    "ohe = OneHotEncoder(drop='first', sparse=False)\n",
    "sm = SMOTE(random_state = 9)\n"
   ]
  },
  {
   "cell_type": "code",
   "execution_count": 22,
   "metadata": {},
   "outputs": [],
   "source": [
    "train_ohe = ohe.fit_transform(X_train[categorical_columns])\n",
    "test_ohe = ohe.transform(X_test[categorical_columns])\n",
    "train_ohe = X_train[numerical_columns].reset_index().join(pd.DataFrame(train_ohe)).set_index('id')\n",
    "\n",
    "train_sm = sm.fit_resample(train_ohe, y_train)\n",
    "test_ohe = X_test[numerical_columns].reset_index().join(pd.DataFrame(test_ohe)).set_index('id')"
   ]
  },
  {
   "cell_type": "markdown",
   "metadata": {},
   "source": [
    "**Model 3**"
   ]
  },
  {
   "cell_type": "code",
   "execution_count": 23,
   "metadata": {},
   "outputs": [],
   "source": [
    "from xgboost import XGBClassifier"
   ]
  },
  {
   "cell_type": "code",
   "execution_count": 24,
   "metadata": {},
   "outputs": [],
   "source": [
    "xgbc = XGBClassifier(random_state = 9, n_jobs = -1)\n",
    "params = {\n",
    "    'max_depth': [1,2],\n",
    "    'learning_rate': [.1,.05,.01,.005],\n",
    "    'n_estimators': range(180,220,20),\n",
    "    'booster': ['gbtree', 'dart']\n",
    "}\n",
    "#Run gridsearch\n",
    "gs_xgbc = GridSearchCV(xgbc, param_grid=params, scoring='f1_macro', n_jobs =-1 )"
   ]
  },
  {
   "cell_type": "code",
   "execution_count": 25,
   "metadata": {
    "scrolled": true
   },
   "outputs": [
    {
     "data": {
      "text/plain": [
       "GridSearchCV(estimator=XGBClassifier(base_score=None, booster=None,\n",
       "                                     colsample_bylevel=None,\n",
       "                                     colsample_bynode=None,\n",
       "                                     colsample_bytree=None, gamma=None,\n",
       "                                     gpu_id=None, importance_type='gain',\n",
       "                                     interaction_constraints=None,\n",
       "                                     learning_rate=None, max_delta_step=None,\n",
       "                                     max_depth=None, min_child_weight=None,\n",
       "                                     missing=nan, monotone_constraints=None,\n",
       "                                     n_estimators=100, n_jobs=-1,\n",
       "                                     num_parallel_tree=None, random_state=9,\n",
       "                                     reg_alpha=None, reg_lambda=None,\n",
       "                                     scale_pos_weight=None, subsample=None,\n",
       "                                     tree_method=None, validate_parameters=None,\n",
       "                                     verbosity=None),\n",
       "             n_jobs=-1,\n",
       "             param_grid={'booster': ['gbtree', 'dart'],\n",
       "                         'learning_rate': [0.1, 0.05, 0.01, 0.005],\n",
       "                         'max_depth': [1, 2],\n",
       "                         'n_estimators': range(180, 220, 20)},\n",
       "             scoring='f1_macro')"
      ]
     },
     "execution_count": 25,
     "metadata": {},
     "output_type": "execute_result"
    }
   ],
   "source": [
    "gs_xgbc.fit(train_sm[0], train_sm[1])"
   ]
  },
  {
   "cell_type": "code",
   "execution_count": 26,
   "metadata": {},
   "outputs": [
    {
     "data": {
      "text/plain": [
       "{'booster': 'gbtree',\n",
       " 'learning_rate': 0.1,\n",
       " 'max_depth': 2,\n",
       " 'n_estimators': 200}"
      ]
     },
     "execution_count": 26,
     "metadata": {},
     "output_type": "execute_result"
    }
   ],
   "source": [
    "gs_xgbc.best_params_"
   ]
  },
  {
   "cell_type": "code",
   "execution_count": 27,
   "metadata": {},
   "outputs": [
    {
     "name": "stdout",
     "output_type": "stream",
     "text": [
      "Training\n",
      "F1 Score: 0.7909953946283924\n"
     ]
    },
    {
     "data": {
      "image/png": "[encoded data removed]",
      "text/plain": [
       "<Figure size 432x288 with 2 Axes>"
      ]
     },
     "metadata": {
      "needs_background": "light"
     },
     "output_type": "display_data"
    }
   ],
   "source": [
    "print('Training')\n",
    "evaluation_report(gs_xgbc, train_sm[0], train_sm[1])"
   ]
  },
  {
   "cell_type": "code",
   "execution_count": 28,
   "metadata": {},
   "outputs": [
    {
     "name": "stdout",
     "output_type": "stream",
     "text": [
      "Testing\n",
      "F1 Score: 0.680734894226405\n"
     ]
    },
    {
     "data": {
      "image/png": "[encoded data removed]",
      "text/plain": [
       "<Figure size 432x288 with 2 Axes>"
      ]
     },
     "metadata": {
      "needs_background": "light"
     },
     "output_type": "display_data"
    }
   ],
   "source": [
    "print('Testing')\n",
    "evaluation_report(gs_xgbc, test_ohe, y_test)"
   ]
  },
  {
   "cell_type": "markdown",
   "metadata": {},
   "source": [
    "**Model 4**"
   ]
  },
  {
   "cell_type": "code",
   "execution_count": 29,
   "metadata": {},
   "outputs": [
    {
     "name": "stdout",
     "output_type": "stream",
     "text": [
      "Fitting 5 folds for each of 32 candidates, totalling 160 fits\n"
     ]
    },
    {
     "name": "stderr",
     "output_type": "stream",
     "text": [
      "[Parallel(n_jobs=-1)]: Using backend LokyBackend with 4 concurrent workers.\n",
      "[Parallel(n_jobs=-1)]: Done  42 tasks      | elapsed:   57.3s\n",
      "[Parallel(n_jobs=-1)]: Done 160 out of 160 | elapsed:  4.0min finished\n"
     ]
    },
    {
     "data": {
      "text/plain": [
       "GridSearchCV(estimator=GradientBoostingClassifier(random_state=9), n_jobs=-1,\n",
       "             param_grid=[{'learning_rate': [0.05, 0.1, 0.15, 0.2],\n",
       "                          'max_depth': [1, 2],\n",
       "                          'n_estimators': [50, 75, 100, 125]}],\n",
       "             scoring='f1_macro', verbose=True)"
      ]
     },
     "execution_count": 29,
     "metadata": {},
     "output_type": "execute_result"
    }
   ],
   "source": [
    "gbclf = GradientBoostingClassifier(random_state = 9)\n",
    "\n",
    "param_grid = [\n",
    "    {\n",
    "     'n_estimators' : [50,75,100,125],\n",
    "     'learning_rate' : [.05, .1, .15, .2],\n",
    "     'max_depth': [1,2]\n",
    "    }, \n",
    "]\n",
    "\n",
    "gs_gbclf = GridSearchCV(gbclf, param_grid = param_grid, \n",
    "                        scoring = 'f1_macro', n_jobs=-1, verbose=True)\n",
    "gs_gbclf.fit(train_sm[0], train_sm[1])"
   ]
  },
  {
   "cell_type": "code",
   "execution_count": 30,
   "metadata": {},
   "outputs": [
    {
     "data": {
      "text/plain": [
       "{'learning_rate': 0.2, 'max_depth': 2, 'n_estimators': 125}"
      ]
     },
     "execution_count": 30,
     "metadata": {},
     "output_type": "execute_result"
    }
   ],
   "source": [
    "gs_gbclf.best_params_"
   ]
  },
  {
   "cell_type": "code",
   "execution_count": 31,
   "metadata": {},
   "outputs": [
    {
     "name": "stdout",
     "output_type": "stream",
     "text": [
      "Training\n",
      "F1 Score: 0.8256657502452741\n"
     ]
    },
    {
     "data": {
      "image/png": "[encoded data removed]",
      "text/plain": [
       "<Figure size 432x288 with 2 Axes>"
      ]
     },
     "metadata": {
      "needs_background": "light"
     },
     "output_type": "display_data"
    }
   ],
   "source": [
    "print('Training')\n",
    "evaluation_report(gs_gbclf, train_sm[0], train_sm[1])"
   ]
  },
  {
   "cell_type": "code",
   "execution_count": 32,
   "metadata": {
    "scrolled": true
   },
   "outputs": [
    {
     "name": "stdout",
     "output_type": "stream",
     "text": [
      "Testing\n",
      "F1 Score: 0.6810136556413313\n"
     ]
    },
    {
     "data": {
      "image/png": "[encoded data removed]",
      "text/plain": [
       "<Figure size 432x288 with 2 Axes>"
      ]
     },
     "metadata": {
      "needs_background": "light"
     },
     "output_type": "display_data"
    }
   ],
   "source": [
    "print('Testing')\n",
    "evaluation_report(gs_gbclf, test_ohe, y_test)"
   ]
  },
  {
   "cell_type": "markdown",
   "metadata": {},
   "source": [
    "**Model 5**"
   ]
  },
  {
   "cell_type": "code",
   "execution_count": 33,
   "metadata": {},
   "outputs": [],
   "source": [
    "lr_col_trans = ColumnTransformer(verbose=False,transformers=[\n",
    "    ('numerical', numerical_pipeline, numerical_columns),\n",
    "    ('categorical', categorical_pipeline, categorical_columns)\n",
    "])\n",
    "\n",
    "lr_train_transf = lr_col_trans.fit_transform(X_train)\n",
    "lr_test_transf = lr_col_trans.transform(X_test)"
   ]
  },
  {
   "cell_type": "code",
   "execution_count": 34,
   "metadata": {},
   "outputs": [
    {
     "name": "stdout",
     "output_type": "stream",
     "text": [
      "Fitting 5 folds for each of 18 candidates, totalling 90 fits\n"
     ]
    },
    {
     "name": "stderr",
     "output_type": "stream",
     "text": [
      "[Parallel(n_jobs=-1)]: Using backend LokyBackend with 4 concurrent workers.\n",
      "[Parallel(n_jobs=-1)]: Done  42 tasks      | elapsed:    5.8s\n",
      "[Parallel(n_jobs=-1)]: Done  90 out of  90 | elapsed:    9.9s finished\n"
     ]
    },
    {
     "data": {
      "text/plain": [
       "GridSearchCV(estimator=LogisticRegression(class_weight='balanced',\n",
       "                                          max_iter=10000, random_state=9),\n",
       "             n_jobs=-1,\n",
       "             param_grid=[{'C': [0.75, 0.5, 0.25], 'penalty': ['l1', 'l2'],\n",
       "                          'solver': ['saga', 'sag', 'lbfgs']}],\n",
       "             scoring='f1_macro', verbose=True)"
      ]
     },
     "execution_count": 34,
     "metadata": {},
     "output_type": "execute_result"
    }
   ],
   "source": [
    "lr2 = LogisticRegression(max_iter = 10000, random_state=9, class_weight='balanced')\n",
    "\n",
    "param_grid = [\n",
    "    {\n",
    "     'penalty' : ['l1','l2'],\n",
    "     'C' : [.75,.5,.25],\n",
    "     'solver' : ['saga','sag', 'lbfgs']\n",
    "    }, \n",
    "]\n",
    "\n",
    "gs_lr2 = GridSearchCV(lr2, param_grid = param_grid, \n",
    "                        scoring = 'f1_macro', n_jobs=-1, verbose=True)\n",
    "gs_lr2.fit(lr_train_transf, y_train)"
   ]
  },
  {
   "cell_type": "code",
   "execution_count": 35,
   "metadata": {},
   "outputs": [
    {
     "data": {
      "text/plain": [
       "{'C': 0.25, 'penalty': 'l2', 'solver': 'saga'}"
      ]
     },
     "execution_count": 35,
     "metadata": {},
     "output_type": "execute_result"
    }
   ],
   "source": [
    "gs_lr2.best_params_"
   ]
  },
  {
   "cell_type": "code",
   "execution_count": 36,
   "metadata": {},
   "outputs": [
    {
     "name": "stdout",
     "output_type": "stream",
     "text": [
      "Training\n",
      "F1 Score: 0.6529462691105088\n"
     ]
    },
    {
     "data": {
      "image/png": "[encoded data removed]",
      "text/plain": [
       "<Figure size 432x288 with 2 Axes>"
      ]
     },
     "metadata": {
      "needs_background": "light"
     },
     "output_type": "display_data"
    }
   ],
   "source": [
    "print('Training')\n",
    "evaluation_report(gs_lr2, lr_train_transf, y_train)"
   ]
  },
  {
   "cell_type": "code",
   "execution_count": 37,
   "metadata": {},
   "outputs": [
    {
     "name": "stdout",
     "output_type": "stream",
     "text": [
      "Testing\n",
      "F1 Score: 0.6400899134937353\n"
     ]
    },
    {
     "data": {
      "image/png": "[encoded data removed]",
      "text/plain": [
       "<Figure size 432x288 with 2 Axes>"
      ]
     },
     "metadata": {
      "needs_background": "light"
     },
     "output_type": "display_data"
    }
   ],
   "source": [
    "print('Testing')\n",
    "evaluation_report(gs_lr2, lr_test_transf, y_test)"
   ]
  },
  {
   "cell_type": "markdown",
   "metadata": {},
   "source": [
    "**Model 6**"
   ]
  },
  {
   "cell_type": "code",
   "execution_count": 38,
   "metadata": {},
   "outputs": [],
   "source": [
    "from sklearn.utils import class_weight\n",
    "classes_weights = class_weight.compute_sample_weight(\n",
    "    class_weight='balanced',\n",
    "    y=y_train\n",
    ")"
   ]
  },
  {
   "cell_type": "code",
   "execution_count": 39,
   "metadata": {},
   "outputs": [
    {
     "data": {
      "text/plain": [
       "array([0.60698758, 0.60698758, 0.60698758, ..., 0.60698758, 1.21397516,\n",
       "       0.60698758])"
      ]
     },
     "execution_count": 39,
     "metadata": {},
     "output_type": "execute_result"
    }
   ],
   "source": [
    "classes_weights"
   ]
  },
  {
   "cell_type": "code",
   "execution_count": 40,
   "metadata": {},
   "outputs": [
    {
     "data": {
      "text/plain": [
       "GridSearchCV(estimator=XGBClassifier(base_score=None, booster=None,\n",
       "                                     colsample_bylevel=None,\n",
       "                                     colsample_bynode=None,\n",
       "                                     colsample_bytree=None, gamma=None,\n",
       "                                     gpu_id=None, importance_type='gain',\n",
       "                                     interaction_constraints=None,\n",
       "                                     learning_rate=None, max_delta_step=None,\n",
       "                                     max_depth=None, min_child_weight=None,\n",
       "                                     missing=nan, monotone_constraints=None,\n",
       "                                     n_estimators=100, n_jobs=-1,\n",
       "                                     num_parallel_tree=None, random_state=9,\n",
       "                                     reg_alpha=None, reg_lambda=None,\n",
       "                                     scale_pos_weight=None, subsample=None,\n",
       "                                     tree_method=None, validate_parameters=None,\n",
       "                                     verbosity=None),\n",
       "             n_jobs=-1,\n",
       "             param_grid={'booster': ['gbtree', 'dart'],\n",
       "                         'learning_rate': [0.1, 0.05, 0.01, 0.005],\n",
       "                         'max_depth': [1, 2],\n",
       "                         'n_estimators': range(180, 220, 20)},\n",
       "             scoring='f1_macro')"
      ]
     },
     "execution_count": 40,
     "metadata": {},
     "output_type": "execute_result"
    }
   ],
   "source": [
    "xgbc2 = XGBClassifier(random_state = 9, n_jobs = -1)\n",
    "params = {\n",
    "    'max_depth': [1,2],\n",
    "    'learning_rate': [.1,.05,.01,.005],\n",
    "    'n_estimators': range(180,220,20),\n",
    "    'booster': ['gbtree','dart'],\n",
    "#     'weight': classes_weights\n",
    "}\n",
    "#Run gridsearch\n",
    "gs_xgbc2 = GridSearchCV(xgbc2, param_grid=params, scoring='f1_macro', n_jobs =-1 )\n",
    "gs_xgbc2.fit(train_ohe, y_train, sample_weight=classes_weights)"
   ]
  },
  {
   "cell_type": "code",
   "execution_count": 41,
   "metadata": {},
   "outputs": [
    {
     "data": {
      "text/plain": [
       "{'booster': 'gbtree',\n",
       " 'learning_rate': 0.1,\n",
       " 'max_depth': 2,\n",
       " 'n_estimators': 200}"
      ]
     },
     "execution_count": 41,
     "metadata": {},
     "output_type": "execute_result"
    }
   ],
   "source": [
    "gs_xgbc2.best_params_"
   ]
  },
  {
   "cell_type": "code",
   "execution_count": 42,
   "metadata": {},
   "outputs": [
    {
     "name": "stdout",
     "output_type": "stream",
     "text": [
      "Training\n",
      "F1 Score: 0.741838650305498\n"
     ]
    },
    {
     "data": {
      "image/png": "[encoded data removed]",
      "text/plain": [
       "<Figure size 432x288 with 2 Axes>"
      ]
     },
     "metadata": {
      "needs_background": "light"
     },
     "output_type": "display_data"
    }
   ],
   "source": [
    "print('Training')\n",
    "evaluation_report(gs_xgbc2, train_ohe, y_train)"
   ]
  },
  {
   "cell_type": "code",
   "execution_count": 43,
   "metadata": {},
   "outputs": [
    {
     "name": "stdout",
     "output_type": "stream",
     "text": [
      "Testing\n",
      "F1 Score: 0.6830860885752068\n"
     ]
    },
    {
     "data": {
      "image/png": "[encoded data removed]",
      "text/plain": [
       "<Figure size 432x288 with 2 Axes>"
      ]
     },
     "metadata": {
      "needs_background": "light"
     },
     "output_type": "display_data"
    }
   ],
   "source": [
    "print('Testing')\n",
    "evaluation_report(gs_xgbc2, test_ohe, y_test)"
   ]
  },
  {
   "cell_type": "markdown",
   "metadata": {},
   "source": [
    "{'booster': 'gbtree',\n",
    " 'learning_rate': 0.1,\n",
    " 'max_depth': 2,\n",
    " 'n_estimators': 200}\n",
    "\n",
    "Training\n",
    "F1 Score: 0.741838650305498\n",
    "\n",
    "Testing\n",
    "F1 Score: 0.6830860885752068"
   ]
  },
  {
   "cell_type": "code",
   "execution_count": 44,
   "metadata": {},
   "outputs": [],
   "source": [
    "best_model = gs_xgbc2"
   ]
  },
  {
   "cell_type": "code",
   "execution_count": 45,
   "metadata": {},
   "outputs": [],
   "source": [
    "X_final = df.drop('genre', axis = 1)\n",
    "y_final = df.genre"
   ]
  },
  {
   "cell_type": "code",
   "execution_count": 46,
   "metadata": {},
   "outputs": [],
   "source": [
    "final_ohe = ohe.transform(X_final[categorical_columns])\n",
    "final_ohe = X_final[numerical_columns].reset_index().join(pd.DataFrame(final_ohe)).set_index('id')"
   ]
  },
  {
   "cell_type": "code",
   "execution_count": 47,
   "metadata": {
    "scrolled": true
   },
   "outputs": [
    {
     "data": {
      "text/html": [
       "<div>\n",
       "<style scoped>\n",
       "    .dataframe tbody tr th:only-of-type {\n",
       "        vertical-align: middle;\n",
       "    }\n",
       "\n",
       "    .dataframe tbody tr th {\n",
       "        vertical-align: top;\n",
       "    }\n",
       "\n",
       "    .dataframe thead th {\n",
       "        text-align: right;\n",
       "    }\n",
       "</style>\n",
       "<table border=\"1\" class=\"dataframe\">\n",
       "  <thead>\n",
       "    <tr style=\"text-align: right;\">\n",
       "      <th></th>\n",
       "      <th>danceability</th>\n",
       "      <th>energy</th>\n",
       "      <th>loudness</th>\n",
       "      <th>speechiness</th>\n",
       "      <th>acousticness</th>\n",
       "      <th>instrumentalness</th>\n",
       "      <th>liveness</th>\n",
       "      <th>valence</th>\n",
       "      <th>tempo</th>\n",
       "      <th>duration_ms</th>\n",
       "      <th>...</th>\n",
       "      <th>6</th>\n",
       "      <th>7</th>\n",
       "      <th>8</th>\n",
       "      <th>9</th>\n",
       "      <th>10</th>\n",
       "      <th>11</th>\n",
       "      <th>12</th>\n",
       "      <th>13</th>\n",
       "      <th>14</th>\n",
       "      <th>15</th>\n",
       "    </tr>\n",
       "    <tr>\n",
       "      <th>id</th>\n",
       "      <th></th>\n",
       "      <th></th>\n",
       "      <th></th>\n",
       "      <th></th>\n",
       "      <th></th>\n",
       "      <th></th>\n",
       "      <th></th>\n",
       "      <th></th>\n",
       "      <th></th>\n",
       "      <th></th>\n",
       "      <th></th>\n",
       "      <th></th>\n",
       "      <th></th>\n",
       "      <th></th>\n",
       "      <th></th>\n",
       "      <th></th>\n",
       "      <th></th>\n",
       "      <th></th>\n",
       "      <th></th>\n",
       "      <th></th>\n",
       "      <th></th>\n",
       "    </tr>\n",
       "  </thead>\n",
       "  <tbody>\n",
       "    <tr>\n",
       "      <th>5Kv48EVPskG3pGImDZOP7j</th>\n",
       "      <td>0.449</td>\n",
       "      <td>0.866</td>\n",
       "      <td>-6.436</td>\n",
       "      <td>0.0656</td>\n",
       "      <td>0.000345</td>\n",
       "      <td>0.1720</td>\n",
       "      <td>0.1750</td>\n",
       "      <td>0.0875</td>\n",
       "      <td>119.979</td>\n",
       "      <td>208213.0</td>\n",
       "      <td>...</td>\n",
       "      <td>0.0</td>\n",
       "      <td>0.0</td>\n",
       "      <td>0.0</td>\n",
       "      <td>0.0</td>\n",
       "      <td>1.0</td>\n",
       "      <td>1.0</td>\n",
       "      <td>0.0</td>\n",
       "      <td>1.0</td>\n",
       "      <td>0.0</td>\n",
       "      <td>0.0</td>\n",
       "    </tr>\n",
       "    <tr>\n",
       "      <th>4dfvPFbLEa6JzZV4dZTWt7</th>\n",
       "      <td>0.263</td>\n",
       "      <td>0.925</td>\n",
       "      <td>-5.299</td>\n",
       "      <td>0.1180</td>\n",
       "      <td>0.000503</td>\n",
       "      <td>0.6310</td>\n",
       "      <td>0.1700</td>\n",
       "      <td>0.0722</td>\n",
       "      <td>105.253</td>\n",
       "      <td>372973.0</td>\n",
       "      <td>...</td>\n",
       "      <td>0.0</td>\n",
       "      <td>0.0</td>\n",
       "      <td>0.0</td>\n",
       "      <td>0.0</td>\n",
       "      <td>0.0</td>\n",
       "      <td>1.0</td>\n",
       "      <td>0.0</td>\n",
       "      <td>0.0</td>\n",
       "      <td>1.0</td>\n",
       "      <td>0.0</td>\n",
       "    </tr>\n",
       "    <tr>\n",
       "      <th>6iXcPsToMyTheci6e1L2ya</th>\n",
       "      <td>0.778</td>\n",
       "      <td>0.568</td>\n",
       "      <td>-6.096</td>\n",
       "      <td>0.0740</td>\n",
       "      <td>0.368000</td>\n",
       "      <td>0.0000</td>\n",
       "      <td>0.1150</td>\n",
       "      <td>0.3400</td>\n",
       "      <td>84.121</td>\n",
       "      <td>278733.0</td>\n",
       "      <td>...</td>\n",
       "      <td>0.0</td>\n",
       "      <td>0.0</td>\n",
       "      <td>0.0</td>\n",
       "      <td>0.0</td>\n",
       "      <td>0.0</td>\n",
       "      <td>1.0</td>\n",
       "      <td>0.0</td>\n",
       "      <td>0.0</td>\n",
       "      <td>1.0</td>\n",
       "      <td>0.0</td>\n",
       "    </tr>\n",
       "    <tr>\n",
       "      <th>5uHFiBRcIMDNv7sWWnBoAE</th>\n",
       "      <td>0.484</td>\n",
       "      <td>0.738</td>\n",
       "      <td>-3.180</td>\n",
       "      <td>0.0390</td>\n",
       "      <td>0.105000</td>\n",
       "      <td>0.0000</td>\n",
       "      <td>0.3840</td>\n",
       "      <td>0.7610</td>\n",
       "      <td>83.261</td>\n",
       "      <td>209112.0</td>\n",
       "      <td>...</td>\n",
       "      <td>1.0</td>\n",
       "      <td>0.0</td>\n",
       "      <td>0.0</td>\n",
       "      <td>0.0</td>\n",
       "      <td>0.0</td>\n",
       "      <td>1.0</td>\n",
       "      <td>0.0</td>\n",
       "      <td>0.0</td>\n",
       "      <td>1.0</td>\n",
       "      <td>0.0</td>\n",
       "    </tr>\n",
       "    <tr>\n",
       "      <th>4jtyUzZm9WLc2AdaJ1dso7</th>\n",
       "      <td>0.559</td>\n",
       "      <td>0.716</td>\n",
       "      <td>-3.964</td>\n",
       "      <td>0.3900</td>\n",
       "      <td>0.737000</td>\n",
       "      <td>0.0000</td>\n",
       "      <td>0.2520</td>\n",
       "      <td>0.5040</td>\n",
       "      <td>176.618</td>\n",
       "      <td>275227.0</td>\n",
       "      <td>...</td>\n",
       "      <td>0.0</td>\n",
       "      <td>0.0</td>\n",
       "      <td>0.0</td>\n",
       "      <td>0.0</td>\n",
       "      <td>1.0</td>\n",
       "      <td>0.0</td>\n",
       "      <td>0.0</td>\n",
       "      <td>0.0</td>\n",
       "      <td>1.0</td>\n",
       "      <td>0.0</td>\n",
       "    </tr>\n",
       "    <tr>\n",
       "      <th>...</th>\n",
       "      <td>...</td>\n",
       "      <td>...</td>\n",
       "      <td>...</td>\n",
       "      <td>...</td>\n",
       "      <td>...</td>\n",
       "      <td>...</td>\n",
       "      <td>...</td>\n",
       "      <td>...</td>\n",
       "      <td>...</td>\n",
       "      <td>...</td>\n",
       "      <td>...</td>\n",
       "      <td>...</td>\n",
       "      <td>...</td>\n",
       "      <td>...</td>\n",
       "      <td>...</td>\n",
       "      <td>...</td>\n",
       "      <td>...</td>\n",
       "      <td>...</td>\n",
       "      <td>...</td>\n",
       "      <td>...</td>\n",
       "      <td>...</td>\n",
       "    </tr>\n",
       "    <tr>\n",
       "      <th>2jfjFfmTXQGiEJiPnAZm0Y</th>\n",
       "      <td>0.450</td>\n",
       "      <td>0.801</td>\n",
       "      <td>-5.282</td>\n",
       "      <td>0.0449</td>\n",
       "      <td>0.000031</td>\n",
       "      <td>0.0745</td>\n",
       "      <td>0.5100</td>\n",
       "      <td>0.3310</td>\n",
       "      <td>105.516</td>\n",
       "      <td>212373.0</td>\n",
       "      <td>...</td>\n",
       "      <td>0.0</td>\n",
       "      <td>0.0</td>\n",
       "      <td>0.0</td>\n",
       "      <td>0.0</td>\n",
       "      <td>0.0</td>\n",
       "      <td>0.0</td>\n",
       "      <td>0.0</td>\n",
       "      <td>0.0</td>\n",
       "      <td>1.0</td>\n",
       "      <td>0.0</td>\n",
       "    </tr>\n",
       "    <tr>\n",
       "      <th>6lXGIJbyM4YBjK6CzIce25</th>\n",
       "      <td>0.459</td>\n",
       "      <td>0.469</td>\n",
       "      <td>-12.600</td>\n",
       "      <td>0.2830</td>\n",
       "      <td>0.119000</td>\n",
       "      <td>0.0000</td>\n",
       "      <td>0.3560</td>\n",
       "      <td>0.5040</td>\n",
       "      <td>88.738</td>\n",
       "      <td>513733.0</td>\n",
       "      <td>...</td>\n",
       "      <td>0.0</td>\n",
       "      <td>0.0</td>\n",
       "      <td>0.0</td>\n",
       "      <td>0.0</td>\n",
       "      <td>0.0</td>\n",
       "      <td>1.0</td>\n",
       "      <td>0.0</td>\n",
       "      <td>0.0</td>\n",
       "      <td>1.0</td>\n",
       "      <td>0.0</td>\n",
       "    </tr>\n",
       "    <tr>\n",
       "      <th>2AO4J6Moo7fULnHnzVxqjG</th>\n",
       "      <td>0.785</td>\n",
       "      <td>0.869</td>\n",
       "      <td>-5.746</td>\n",
       "      <td>0.2890</td>\n",
       "      <td>0.004080</td>\n",
       "      <td>0.0000</td>\n",
       "      <td>0.3270</td>\n",
       "      <td>0.4740</td>\n",
       "      <td>87.336</td>\n",
       "      <td>226067.0</td>\n",
       "      <td>...</td>\n",
       "      <td>0.0</td>\n",
       "      <td>0.0</td>\n",
       "      <td>0.0</td>\n",
       "      <td>0.0</td>\n",
       "      <td>0.0</td>\n",
       "      <td>1.0</td>\n",
       "      <td>0.0</td>\n",
       "      <td>0.0</td>\n",
       "      <td>1.0</td>\n",
       "      <td>0.0</td>\n",
       "    </tr>\n",
       "    <tr>\n",
       "      <th>2uqlwjcvCfuyWkafQ1412j</th>\n",
       "      <td>0.557</td>\n",
       "      <td>0.815</td>\n",
       "      <td>-4.881</td>\n",
       "      <td>0.0815</td>\n",
       "      <td>0.008590</td>\n",
       "      <td>0.1700</td>\n",
       "      <td>0.1050</td>\n",
       "      <td>0.6870</td>\n",
       "      <td>93.842</td>\n",
       "      <td>254947.0</td>\n",
       "      <td>...</td>\n",
       "      <td>0.0</td>\n",
       "      <td>0.0</td>\n",
       "      <td>0.0</td>\n",
       "      <td>0.0</td>\n",
       "      <td>0.0</td>\n",
       "      <td>1.0</td>\n",
       "      <td>0.0</td>\n",
       "      <td>0.0</td>\n",
       "      <td>1.0</td>\n",
       "      <td>0.0</td>\n",
       "    </tr>\n",
       "    <tr>\n",
       "      <th>3o0a0VKaYQfppM2e89QuXE</th>\n",
       "      <td>0.549</td>\n",
       "      <td>0.604</td>\n",
       "      <td>-5.251</td>\n",
       "      <td>0.1980</td>\n",
       "      <td>0.045900</td>\n",
       "      <td>0.0000</td>\n",
       "      <td>0.0979</td>\n",
       "      <td>0.5110</td>\n",
       "      <td>173.707</td>\n",
       "      <td>227160.0</td>\n",
       "      <td>...</td>\n",
       "      <td>0.0</td>\n",
       "      <td>0.0</td>\n",
       "      <td>0.0</td>\n",
       "      <td>0.0</td>\n",
       "      <td>0.0</td>\n",
       "      <td>0.0</td>\n",
       "      <td>0.0</td>\n",
       "      <td>0.0</td>\n",
       "      <td>1.0</td>\n",
       "      <td>0.0</td>\n",
       "    </tr>\n",
       "  </tbody>\n",
       "</table>\n",
       "<p>5212 rows × 26 columns</p>\n",
       "</div>"
      ],
      "text/plain": [
       "                        danceability  energy  loudness  speechiness  \\\n",
       "id                                                                    \n",
       "5Kv48EVPskG3pGImDZOP7j         0.449   0.866    -6.436       0.0656   \n",
       "4dfvPFbLEa6JzZV4dZTWt7         0.263   0.925    -5.299       0.1180   \n",
       "6iXcPsToMyTheci6e1L2ya         0.778   0.568    -6.096       0.0740   \n",
       "5uHFiBRcIMDNv7sWWnBoAE         0.484   0.738    -3.180       0.0390   \n",
       "4jtyUzZm9WLc2AdaJ1dso7         0.559   0.716    -3.964       0.3900   \n",
       "...                              ...     ...       ...          ...   \n",
       "2jfjFfmTXQGiEJiPnAZm0Y         0.450   0.801    -5.282       0.0449   \n",
       "6lXGIJbyM4YBjK6CzIce25         0.459   0.469   -12.600       0.2830   \n",
       "2AO4J6Moo7fULnHnzVxqjG         0.785   0.869    -5.746       0.2890   \n",
       "2uqlwjcvCfuyWkafQ1412j         0.557   0.815    -4.881       0.0815   \n",
       "3o0a0VKaYQfppM2e89QuXE         0.549   0.604    -5.251       0.1980   \n",
       "\n",
       "                        acousticness  instrumentalness  liveness  valence  \\\n",
       "id                                                                          \n",
       "5Kv48EVPskG3pGImDZOP7j      0.000345            0.1720    0.1750   0.0875   \n",
       "4dfvPFbLEa6JzZV4dZTWt7      0.000503            0.6310    0.1700   0.0722   \n",
       "6iXcPsToMyTheci6e1L2ya      0.368000            0.0000    0.1150   0.3400   \n",
       "5uHFiBRcIMDNv7sWWnBoAE      0.105000            0.0000    0.3840   0.7610   \n",
       "4jtyUzZm9WLc2AdaJ1dso7      0.737000            0.0000    0.2520   0.5040   \n",
       "...                              ...               ...       ...      ...   \n",
       "2jfjFfmTXQGiEJiPnAZm0Y      0.000031            0.0745    0.5100   0.3310   \n",
       "6lXGIJbyM4YBjK6CzIce25      0.119000            0.0000    0.3560   0.5040   \n",
       "2AO4J6Moo7fULnHnzVxqjG      0.004080            0.0000    0.3270   0.4740   \n",
       "2uqlwjcvCfuyWkafQ1412j      0.008590            0.1700    0.1050   0.6870   \n",
       "3o0a0VKaYQfppM2e89QuXE      0.045900            0.0000    0.0979   0.5110   \n",
       "\n",
       "                          tempo  duration_ms  ...    6    7    8    9   10  \\\n",
       "id                                            ...                            \n",
       "5Kv48EVPskG3pGImDZOP7j  119.979     208213.0  ...  0.0  0.0  0.0  0.0  1.0   \n",
       "4dfvPFbLEa6JzZV4dZTWt7  105.253     372973.0  ...  0.0  0.0  0.0  0.0  0.0   \n",
       "6iXcPsToMyTheci6e1L2ya   84.121     278733.0  ...  0.0  0.0  0.0  0.0  0.0   \n",
       "5uHFiBRcIMDNv7sWWnBoAE   83.261     209112.0  ...  1.0  0.0  0.0  0.0  0.0   \n",
       "4jtyUzZm9WLc2AdaJ1dso7  176.618     275227.0  ...  0.0  0.0  0.0  0.0  1.0   \n",
       "...                         ...          ...  ...  ...  ...  ...  ...  ...   \n",
       "2jfjFfmTXQGiEJiPnAZm0Y  105.516     212373.0  ...  0.0  0.0  0.0  0.0  0.0   \n",
       "6lXGIJbyM4YBjK6CzIce25   88.738     513733.0  ...  0.0  0.0  0.0  0.0  0.0   \n",
       "2AO4J6Moo7fULnHnzVxqjG   87.336     226067.0  ...  0.0  0.0  0.0  0.0  0.0   \n",
       "2uqlwjcvCfuyWkafQ1412j   93.842     254947.0  ...  0.0  0.0  0.0  0.0  0.0   \n",
       "3o0a0VKaYQfppM2e89QuXE  173.707     227160.0  ...  0.0  0.0  0.0  0.0  0.0   \n",
       "\n",
       "                         11   12   13   14   15  \n",
       "id                                               \n",
       "5Kv48EVPskG3pGImDZOP7j  1.0  0.0  1.0  0.0  0.0  \n",
       "4dfvPFbLEa6JzZV4dZTWt7  1.0  0.0  0.0  1.0  0.0  \n",
       "6iXcPsToMyTheci6e1L2ya  1.0  0.0  0.0  1.0  0.0  \n",
       "5uHFiBRcIMDNv7sWWnBoAE  1.0  0.0  0.0  1.0  0.0  \n",
       "4jtyUzZm9WLc2AdaJ1dso7  0.0  0.0  0.0  1.0  0.0  \n",
       "...                     ...  ...  ...  ...  ...  \n",
       "2jfjFfmTXQGiEJiPnAZm0Y  0.0  0.0  0.0  1.0  0.0  \n",
       "6lXGIJbyM4YBjK6CzIce25  1.0  0.0  0.0  1.0  0.0  \n",
       "2AO4J6Moo7fULnHnzVxqjG  1.0  0.0  0.0  1.0  0.0  \n",
       "2uqlwjcvCfuyWkafQ1412j  1.0  0.0  0.0  1.0  0.0  \n",
       "3o0a0VKaYQfppM2e89QuXE  0.0  0.0  0.0  1.0  0.0  \n",
       "\n",
       "[5212 rows x 26 columns]"
      ]
     },
     "execution_count": 47,
     "metadata": {},
     "output_type": "execute_result"
    }
   ],
   "source": [
    "final_ohe"
   ]
  },
  {
   "cell_type": "code",
   "execution_count": 48,
   "metadata": {
    "scrolled": true
   },
   "outputs": [
    {
     "data": {
      "text/plain": [
       "array(['alt-metal', 'alt-metal', 'hip-hop', ..., 'hip-hop', 'rock',\n",
       "       'hip-hop'], dtype=object)"
      ]
     },
     "execution_count": 48,
     "metadata": {},
     "output_type": "execute_result"
    }
   ],
   "source": [
    "best_model.predict(final_ohe)"
   ]
  },
  {
   "cell_type": "code",
   "execution_count": 49,
   "metadata": {},
   "outputs": [
    {
     "name": "stdout",
     "output_type": "stream",
     "text": [
      "F1 Score: 0.7272298564363114\n"
     ]
    },
    {
     "data": {
      "image/png": "[encoded data removed]",
      "text/plain": [
       "<Figure size 432x288 with 2 Axes>"
      ]
     },
     "metadata": {
      "needs_background": "light"
     },
     "output_type": "display_data"
    }
   ],
   "source": [
    "evaluation_report(best_model, final_ohe, y_final)"
   ]
  },
  {
   "cell_type": "code",
   "execution_count": 58,
   "metadata": {},
   "outputs": [],
   "source": [
    "def make_genre_prediction(sp,key, ohe, model):\n",
    "    cat_cols = ['key', 'mode', 'time_signature']\n",
    "    num_cols = ['danceability','energy','loudness','speechiness','acousticness',\n",
    "                'instrumentalness','liveness','valence','tempo','duration_ms']\n",
    "    \n",
    "    row = pd.DataFrame(sp.audio_features(key)).drop(['type','uri',\n",
    "                                               'track_href','analysis_url'], axis=1).set_index('id')\n",
    "    temp_ohe = ohe.transform(row[cat_cols])\n",
    "    returning_obj = row[num_cols].reset_index().join(pd.DataFrame(temp_ohe)).set_index('id')\n",
    "    return model.predict(returning_obj)"
   ]
  },
  {
   "cell_type": "code",
   "execution_count": 75,
   "metadata": {},
   "outputs": [
    {
     "data": {
      "text/plain": [
       "array(['rock'], dtype=object)"
      ]
     },
     "execution_count": 75,
     "metadata": {},
     "output_type": "execute_result"
    }
   ],
   "source": [
    "make_genre_prediction(sp,'44AyOl4qVkzS48vBsbNXaC', ohe, best_model)"
   ]
  },
  {
   "cell_type": "code",
   "execution_count": 56,
   "metadata": {},
   "outputs": [],
   "source": [
    "def song_name_artist(sp,key):\n",
    "    theTrack = sp.track(key)\n",
    "    song_title = theTrack['name']\n",
    "    artist_title = theTrack['artists'][0]['name']\n",
    "    print (f\"{song_title} - {artist_title}\")"
   ]
  },
  {
   "cell_type": "code",
   "execution_count": 76,
   "metadata": {},
   "outputs": [
    {
     "name": "stdout",
     "output_type": "stream",
     "text": [
      "Can't Help Falling in Love - Elvis Presley\n"
     ]
    }
   ],
   "source": [
    "song_name_artist(sp,'44AyOl4qVkzS48vBsbNXaC')"
   ]
  },
  {
   "cell_type": "code",
   "execution_count": null,
   "metadata": {},
   "outputs": [],
   "source": []
  }
 ],
 "metadata": {
  "kernelspec": {
   "display_name": "learn-env",
   "language": "python",
   "name": "learn-env"
  },
  "language_info": {
   "codemirror_mode": {
    "name": "ipython",
    "version": 3
   },
   "file_extension": ".py",
   "mimetype": "text/x-python",
   "name": "python",
   "nbconvert_exporter": "python",
   "pygments_lexer": "ipython3",
   "version": "3.8.5"
  }
 },
 "nbformat": 4,
 "nbformat_minor": 4
}
