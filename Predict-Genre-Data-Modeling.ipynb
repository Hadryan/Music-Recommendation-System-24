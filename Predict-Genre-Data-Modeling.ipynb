{
 "cells": [
  {
   "cell_type": "markdown",
   "metadata": {},
   "source": [
    "### Notebook 2"
   ]
  },
  {
   "cell_type": "code",
   "execution_count": 1,
   "metadata": {},
   "outputs": [
    {
     "data": {
      "text/plain": [
       "True"
      ]
     },
     "execution_count": 1,
     "metadata": {},
     "output_type": "execute_result"
    }
   ],
   "source": [
    "import spotipy\n",
    "from spotipy.oauth2 import SpotifyClientCredentials\n",
    "from spotipy.oauth2 import SpotifyOAuth\n",
    "from dotenv import load_dotenv\n",
    "load_dotenv()"
   ]
  },
  {
   "cell_type": "code",
   "execution_count": 2,
   "metadata": {},
   "outputs": [],
   "source": [
    "scope = \"user-library-read\"\n",
    "sp = spotipy.Spotify(auth_manager=SpotifyOAuth(scope=scope))"
   ]
  },
  {
   "cell_type": "code",
   "execution_count": 3,
   "metadata": {},
   "outputs": [],
   "source": [
    "import pickle\n",
    "import pandas as pd\n",
    "import numpy as np\n",
    "from sklearn.model_selection import train_test_split\n",
    "from sklearn.linear_model import LogisticRegression\n",
    "from sklearn.metrics import accuracy_score, f1_score, recall_score, precision_score\n",
    "from sklearn.preprocessing import StandardScaler, OneHotEncoder\n",
    "from sklearn.metrics import plot_confusion_matrix\n",
    "from sklearn.preprocessing import MinMaxScaler\n",
    "from sklearn.compose import ColumnTransformer"
   ]
  },
  {
   "cell_type": "code",
   "execution_count": 4,
   "metadata": {},
   "outputs": [],
   "source": [
    "infile = open('pickled_files/df.pickle','rb')\n",
    "df = pickle.load(infile)\n",
    "infile.close()\n",
    "df.set_index('id', inplace = True)"
   ]
  },
  {
   "cell_type": "code",
   "execution_count": 5,
   "metadata": {
    "scrolled": true
   },
   "outputs": [
    {
     "name": "stdout",
     "output_type": "stream",
     "text": [
      "<class 'pandas.core.frame.DataFrame'>\n",
      "Index: 5212 entries, 2JCHrnxgfagUZQeJRAx7Hc to 5DJTYOAHZEKjNqXpOwnomi\n",
      "Data columns (total 14 columns):\n",
      " #   Column            Non-Null Count  Dtype  \n",
      "---  ------            --------------  -----  \n",
      " 0   danceability      5212 non-null   float64\n",
      " 1   energy            5212 non-null   float64\n",
      " 2   key               5212 non-null   object \n",
      " 3   loudness          5212 non-null   float64\n",
      " 4   mode              5212 non-null   object \n",
      " 5   speechiness       5212 non-null   float64\n",
      " 6   acousticness      5212 non-null   float64\n",
      " 7   instrumentalness  5212 non-null   float64\n",
      " 8   liveness          5212 non-null   float64\n",
      " 9   valence           5212 non-null   float64\n",
      " 10  tempo             5212 non-null   float64\n",
      " 11  duration_ms       5212 non-null   float64\n",
      " 12  time_signature    5212 non-null   object \n",
      " 13  genre             5212 non-null   object \n",
      "dtypes: float64(10), object(4)\n",
      "memory usage: 610.8+ KB\n"
     ]
    }
   ],
   "source": [
    "df.info()"
   ]
  },
  {
   "cell_type": "code",
   "execution_count": 6,
   "metadata": {},
   "outputs": [
    {
     "data": {
      "text/plain": [
       "95"
      ]
     },
     "execution_count": 6,
     "metadata": {},
     "output_type": "execute_result"
    }
   ],
   "source": [
    "df.duplicated().sum()"
   ]
  },
  {
   "cell_type": "code",
   "execution_count": 7,
   "metadata": {},
   "outputs": [],
   "source": [
    "df.drop_duplicates(inplace=True)"
   ]
  },
  {
   "cell_type": "code",
   "execution_count": 8,
   "metadata": {},
   "outputs": [
    {
     "data": {
      "text/plain": [
       "0"
      ]
     },
     "execution_count": 8,
     "metadata": {},
     "output_type": "execute_result"
    }
   ],
   "source": [
    "df.duplicated().sum()"
   ]
  },
  {
   "cell_type": "code",
   "execution_count": 9,
   "metadata": {},
   "outputs": [],
   "source": [
    "categorical_columns = list(df.drop('genre', axis = 1).select_dtypes('object').columns)\n",
    "numerical_columns = list(df.drop('genre', axis = 1).select_dtypes(exclude = 'object').columns)"
   ]
  },
  {
   "cell_type": "code",
   "execution_count": 10,
   "metadata": {},
   "outputs": [],
   "source": [
    "X_train, X_test, y_train, y_test = train_test_split(df.drop(['genre'], axis=1),\n",
    "                                                    df.genre,\n",
    "                                                   random_state=9)"
   ]
  },
  {
   "cell_type": "code",
   "execution_count": 11,
   "metadata": {
    "scrolled": true
   },
   "outputs": [
    {
     "data": {
      "text/plain": [
       "hip-hop      0.419077\n",
       "alt-metal    0.240553\n",
       "rock         0.204848\n",
       "pop          0.135523\n",
       "Name: genre, dtype: float64"
      ]
     },
     "execution_count": 11,
     "metadata": {},
     "output_type": "execute_result"
    }
   ],
   "source": [
    "y_train.value_counts(normalize=True)"
   ]
  },
  {
   "cell_type": "code",
   "execution_count": 12,
   "metadata": {},
   "outputs": [],
   "source": [
    "def evaluation_report(model, X_test, y_test):\n",
    "    y_pred = model.predict(X_test)\n",
    "    print(f\"F1 Score: {f1_score(y_test, model.predict(X_test), average = 'macro')}\")\n",
    "    plot_confusion_matrix(model, X_test, y_test, cmap='GnBu',xticks_rotation='vertical')"
   ]
  },
  {
   "cell_type": "markdown",
   "metadata": {},
   "source": [
    "**First Simple Model**"
   ]
  },
  {
   "cell_type": "code",
   "execution_count": 13,
   "metadata": {},
   "outputs": [
    {
     "data": {
      "text/plain": [
       "LogisticRegression(random_state=9)"
      ]
     },
     "execution_count": 13,
     "metadata": {},
     "output_type": "execute_result"
    }
   ],
   "source": [
    "lr = LogisticRegression(random_state=9)\n",
    "ss = StandardScaler()\n",
    "lr.fit(ss.fit_transform(X_train), y_train)"
   ]
  },
  {
   "cell_type": "code",
   "execution_count": 14,
   "metadata": {},
   "outputs": [
    {
     "data": {
      "text/plain": [
       "array(['alt-metal', 'hip-hop', 'pop', 'rock'], dtype=object)"
      ]
     },
     "execution_count": 14,
     "metadata": {},
     "output_type": "execute_result"
    }
   ],
   "source": [
    "lr.classes_"
   ]
  },
  {
   "cell_type": "code",
   "execution_count": 15,
   "metadata": {},
   "outputs": [
    {
     "name": "stdout",
     "output_type": "stream",
     "text": [
      "Training\n",
      "F1 Score: 0.640475517840108\n"
     ]
    },
    {
     "data": {
      "image/png": "[encoded data removed]",
      "text/plain": [
       "<Figure size 432x288 with 2 Axes>"
      ]
     },
     "metadata": {
      "needs_background": "light"
     },
     "output_type": "display_data"
    }
   ],
   "source": [
    "print('Training')\n",
    "evaluation_report(lr, ss.fit_transform(X_train), y_train)"
   ]
  },
  {
   "cell_type": "code",
   "execution_count": 16,
   "metadata": {},
   "outputs": [
    {
     "name": "stdout",
     "output_type": "stream",
     "text": [
      "Testing\n",
      "F1 Score: 0.6295437496074139\n"
     ]
    },
    {
     "data": {
      "image/png": "[encoded data removed]",
      "text/plain": [
       "<Figure size 432x288 with 2 Axes>"
      ]
     },
     "metadata": {
      "needs_background": "light"
     },
     "output_type": "display_data"
    }
   ],
   "source": [
    "print('Testing')\n",
    "evaluation_report(lr, ss.transform(X_test), y_test)"
   ]
  },
  {
   "cell_type": "markdown",
   "metadata": {},
   "source": [
    "<hl>"
   ]
  },
  {
   "cell_type": "code",
   "execution_count": 17,
   "metadata": {},
   "outputs": [],
   "source": [
    "from imblearn.pipeline import Pipeline as imbpipeline\n",
    "from sklearn.model_selection import GridSearchCV"
   ]
  },
  {
   "cell_type": "code",
   "execution_count": 18,
   "metadata": {},
   "outputs": [],
   "source": [
    "#Create pipelines\n",
    "numerical_pipeline = imbpipeline(verbose=False,steps=[\n",
    "                                ('ss', StandardScaler())\n",
    "                            ])\n",
    "\n",
    "categorical_pipeline = imbpipeline(verbose=False,steps=[\n",
    "                            ('ohe', OneHotEncoder(drop='first',\n",
    "                                                 sparse=False,))\n",
    "                            ])\n",
    "\n",
    "col_trans = ColumnTransformer(verbose=False,transformers=[\n",
    "    ('numerical', numerical_pipeline, numerical_columns),\n",
    "    ('categorical', categorical_pipeline, categorical_columns)\n",
    "])\n",
    "\n",
    "col_ohe_solo = ColumnTransformer(verbose=False,transformers=[\n",
    "    ('categorical', categorical_pipeline, categorical_columns)\n",
    "])\n"
   ]
  },
  {
   "cell_type": "markdown",
   "metadata": {},
   "source": [
    "<hl>"
   ]
  },
  {
   "cell_type": "markdown",
   "metadata": {},
   "source": [
    "**Second Model**"
   ]
  },
  {
   "cell_type": "code",
   "execution_count": 19,
   "metadata": {},
   "outputs": [
    {
     "name": "stdout",
     "output_type": "stream",
     "text": [
      "Fitting 5 folds for each of 18 candidates, totalling 90 fits\n"
     ]
    },
    {
     "name": "stderr",
     "output_type": "stream",
     "text": [
      "[Parallel(n_jobs=-1)]: Using backend LokyBackend with 4 concurrent workers.\n",
      "[Parallel(n_jobs=-1)]: Done  42 tasks      | elapsed:   11.1s\n",
      "[Parallel(n_jobs=-1)]: Done  90 out of  90 | elapsed:   16.9s finished\n"
     ]
    },
    {
     "data": {
      "text/plain": [
       "GridSearchCV(estimator=Pipeline(steps=[('col_trans',\n",
       "                                        ColumnTransformer(transformers=[('numerical',\n",
       "                                                                         Pipeline(steps=[('ss',\n",
       "                                                                                          StandardScaler())]),\n",
       "                                                                         ['danceability',\n",
       "                                                                          'energy',\n",
       "                                                                          'loudness',\n",
       "                                                                          'speechiness',\n",
       "                                                                          'acousticness',\n",
       "                                                                          'instrumentalness',\n",
       "                                                                          'liveness',\n",
       "                                                                          'valence',\n",
       "                                                                          'tempo',\n",
       "                                                                          'duration_ms']),\n",
       "                                                                        ('categorical',\n",
       "                                                                         Pipeline(steps=[('ohe',\n",
       "                                                                                          OneHotEncoder(drop='first',\n",
       "                                                                                                        sparse=False))]),\n",
       "                                                                         ['key',\n",
       "                                                                          'mode',\n",
       "                                                                          'time_signature'])])),\n",
       "                                       ('lr',\n",
       "                                        LogisticRegression(class_weight='balanced',\n",
       "                                                           max_iter=10000,\n",
       "                                                           random_state=9))]),\n",
       "             n_jobs=-1,\n",
       "             param_grid=[{'lr__C': [0.75, 0.5, 0.25],\n",
       "                          'lr__penalty': ['l1', 'l2'],\n",
       "                          'lr__solver': ['saga', 'sag', 'lbfgs']}],\n",
       "             scoring='f1_macro', verbose=True)"
      ]
     },
     "execution_count": 19,
     "metadata": {},
     "output_type": "execute_result"
    }
   ],
   "source": [
    "pipe_log = imbpipeline(verbose=False, steps=[\n",
    "    ('col_trans', col_trans),\n",
    "    ('lr', LogisticRegression(max_iter = 10000, random_state=9, class_weight='balanced'))\n",
    "])\n",
    "\n",
    "param_grid = [\n",
    "    {\n",
    "     'lr__penalty' : ['l1','l2'],\n",
    "     'lr__C' : [.75,.5,.25],\n",
    "     'lr__solver' : ['saga','sag', 'lbfgs']\n",
    "    }, \n",
    "]\n",
    "\n",
    "gs_lr = GridSearchCV(pipe_log, param_grid = param_grid, \n",
    "                        scoring = 'f1_macro', n_jobs=-1, verbose=True)\n",
    "gs_lr.fit(X_train, y_train)"
   ]
  },
  {
   "cell_type": "code",
   "execution_count": 20,
   "metadata": {},
   "outputs": [
    {
     "data": {
      "text/plain": [
       "{'lr__C': 0.5, 'lr__penalty': 'l1', 'lr__solver': 'saga'}"
      ]
     },
     "execution_count": 20,
     "metadata": {},
     "output_type": "execute_result"
    }
   ],
   "source": [
    "gs_lr.best_params_"
   ]
  },
  {
   "cell_type": "code",
   "execution_count": 21,
   "metadata": {},
   "outputs": [
    {
     "name": "stdout",
     "output_type": "stream",
     "text": [
      "Training\n",
      "F1 Score: 0.6596171418304271\n"
     ]
    },
    {
     "data": {
      "image/png": "[encoded data removed]",
      "text/plain": [
       "<Figure size 432x288 with 2 Axes>"
      ]
     },
     "metadata": {
      "needs_background": "light"
     },
     "output_type": "display_data"
    }
   ],
   "source": [
    "print('Training')\n",
    "evaluation_report(gs_lr, X_train, y_train)"
   ]
  },
  {
   "cell_type": "code",
   "execution_count": 22,
   "metadata": {},
   "outputs": [
    {
     "name": "stdout",
     "output_type": "stream",
     "text": [
      "Testing\n",
      "F1 Score: 0.6270777655846966\n"
     ]
    },
    {
     "data": {
      "image/png": "[encoded data removed]",
      "text/plain": [
       "<Figure size 432x288 with 2 Axes>"
      ]
     },
     "metadata": {
      "needs_background": "light"
     },
     "output_type": "display_data"
    }
   ],
   "source": [
    "print('Testing')\n",
    "evaluation_report(gs_lr, X_test, y_test)"
   ]
  },
  {
   "cell_type": "code",
   "execution_count": 23,
   "metadata": {},
   "outputs": [],
   "source": [
    "from imblearn.over_sampling import SMOTE\n",
    "from sklearn.ensemble import GradientBoostingClassifier"
   ]
  },
  {
   "cell_type": "code",
   "execution_count": 24,
   "metadata": {},
   "outputs": [],
   "source": [
    "ohe = OneHotEncoder(drop='first', sparse=False)\n",
    "sm = SMOTE(random_state = 9)\n"
   ]
  },
  {
   "cell_type": "code",
   "execution_count": 25,
   "metadata": {},
   "outputs": [],
   "source": [
    "train_ohe = ohe.fit_transform(X_train[categorical_columns])\n",
    "test_ohe = ohe.transform(X_test[categorical_columns])\n",
    "train_ohe = X_train[numerical_columns].reset_index().join(pd.DataFrame(train_ohe)).set_index('id')\n",
    "\n",
    "train_sm = sm.fit_resample(train_ohe, y_train)\n",
    "test_ohe = X_test[numerical_columns].reset_index().join(pd.DataFrame(test_ohe)).set_index('id')"
   ]
  },
  {
   "cell_type": "markdown",
   "metadata": {},
   "source": [
    "**Model 3**"
   ]
  },
  {
   "cell_type": "code",
   "execution_count": 26,
   "metadata": {},
   "outputs": [],
   "source": [
    "from xgboost import XGBClassifier"
   ]
  },
  {
   "cell_type": "code",
   "execution_count": 27,
   "metadata": {},
   "outputs": [],
   "source": [
    "xgbc = XGBClassifier(random_state = 9, n_jobs = -1)\n",
    "params = {\n",
    "    'max_depth': [1,2],\n",
    "    'learning_rate': [.1,.05,.01,.005],\n",
    "    'n_estimators': range(180,220,20),\n",
    "    'booster': ['gbtree', 'dart']\n",
    "}\n",
    "#Run gridsearch\n",
    "gs_xgbc = GridSearchCV(xgbc, param_grid=params, scoring='f1_macro', n_jobs =-1 )"
   ]
  },
  {
   "cell_type": "code",
   "execution_count": 28,
   "metadata": {
    "scrolled": true
   },
   "outputs": [
    {
     "data": {
      "text/plain": [
       "GridSearchCV(estimator=XGBClassifier(base_score=None, booster=None,\n",
       "                                     colsample_bylevel=None,\n",
       "                                     colsample_bynode=None,\n",
       "                                     colsample_bytree=None, gamma=None,\n",
       "                                     gpu_id=None, importance_type='gain',\n",
       "                                     interaction_constraints=None,\n",
       "                                     learning_rate=None, max_delta_step=None,\n",
       "                                     max_depth=None, min_child_weight=None,\n",
       "                                     missing=nan, monotone_constraints=None,\n",
       "                                     n_estimators=100, n_jobs=-1,\n",
       "                                     num_parallel_tree=None, random_state=9,\n",
       "                                     reg_alpha=None, reg_lambda=None,\n",
       "                                     scale_pos_weight=None, subsample=None,\n",
       "                                     tree_method=None, validate_parameters=None,\n",
       "                                     verbosity=None),\n",
       "             n_jobs=-1,\n",
       "             param_grid={'booster': ['gbtree', 'dart'],\n",
       "                         'learning_rate': [0.1, 0.05, 0.01, 0.005],\n",
       "                         'max_depth': [1, 2],\n",
       "                         'n_estimators': range(180, 220, 20)},\n",
       "             scoring='f1_macro')"
      ]
     },
     "execution_count": 28,
     "metadata": {},
     "output_type": "execute_result"
    }
   ],
   "source": [
    "gs_xgbc.fit(train_sm[0], train_sm[1])"
   ]
  },
  {
   "cell_type": "code",
   "execution_count": 29,
   "metadata": {},
   "outputs": [
    {
     "data": {
      "text/plain": [
       "{'booster': 'gbtree',\n",
       " 'learning_rate': 0.1,\n",
       " 'max_depth': 2,\n",
       " 'n_estimators': 200}"
      ]
     },
     "execution_count": 29,
     "metadata": {},
     "output_type": "execute_result"
    }
   ],
   "source": [
    "gs_xgbc.best_params_"
   ]
  },
  {
   "cell_type": "code",
   "execution_count": 30,
   "metadata": {},
   "outputs": [
    {
     "name": "stdout",
     "output_type": "stream",
     "text": [
      "Training\n",
      "F1 Score: 0.7883429960828473\n"
     ]
    },
    {
     "data": {
      "image/png": "[encoded data removed]",
      "text/plain": [
       "<Figure size 432x288 with 2 Axes>"
      ]
     },
     "metadata": {
      "needs_background": "light"
     },
     "output_type": "display_data"
    }
   ],
   "source": [
    "print('Training')\n",
    "evaluation_report(gs_xgbc, train_sm[0], train_sm[1])"
   ]
  },
  {
   "cell_type": "code",
   "execution_count": 31,
   "metadata": {},
   "outputs": [
    {
     "name": "stdout",
     "output_type": "stream",
     "text": [
      "Testing\n",
      "F1 Score: 0.6717344941308453\n"
     ]
    },
    {
     "data": {
      "image/png": "[encoded data removed]",
      "text/plain": [
       "<Figure size 432x288 with 2 Axes>"
      ]
     },
     "metadata": {
      "needs_background": "light"
     },
     "output_type": "display_data"
    }
   ],
   "source": [
    "print('Testing')\n",
    "evaluation_report(gs_xgbc, test_ohe, y_test)"
   ]
  },
  {
   "cell_type": "markdown",
   "metadata": {},
   "source": [
    "**Model 4**"
   ]
  },
  {
   "cell_type": "code",
   "execution_count": 32,
   "metadata": {},
   "outputs": [
    {
     "name": "stdout",
     "output_type": "stream",
     "text": [
      "Fitting 5 folds for each of 32 candidates, totalling 160 fits\n"
     ]
    },
    {
     "name": "stderr",
     "output_type": "stream",
     "text": [
      "[Parallel(n_jobs=-1)]: Using backend LokyBackend with 4 concurrent workers.\n",
      "[Parallel(n_jobs=-1)]: Done  42 tasks      | elapsed:  1.3min\n",
      "[Parallel(n_jobs=-1)]: Done 160 out of 160 | elapsed:  5.3min finished\n"
     ]
    },
    {
     "data": {
      "text/plain": [
       "GridSearchCV(estimator=GradientBoostingClassifier(random_state=9), n_jobs=-1,\n",
       "             param_grid=[{'learning_rate': [0.05, 0.1, 0.15, 0.2],\n",
       "                          'max_depth': [1, 2],\n",
       "                          'n_estimators': [50, 75, 100, 125]}],\n",
       "             scoring='f1_macro', verbose=True)"
      ]
     },
     "execution_count": 32,
     "metadata": {},
     "output_type": "execute_result"
    }
   ],
   "source": [
    "gbclf = GradientBoostingClassifier(random_state = 9)\n",
    "\n",
    "param_grid = [\n",
    "    {\n",
    "     'n_estimators' : [50,75,100,125],\n",
    "     'learning_rate' : [.05, .1, .15, .2],\n",
    "     'max_depth': [1,2]\n",
    "    }, \n",
    "]\n",
    "\n",
    "gs_gbclf = GridSearchCV(gbclf, param_grid = param_grid, \n",
    "                        scoring = 'f1_macro', n_jobs=-1, verbose=True)\n",
    "gs_gbclf.fit(train_sm[0], train_sm[1])"
   ]
  },
  {
   "cell_type": "code",
   "execution_count": 33,
   "metadata": {},
   "outputs": [
    {
     "data": {
      "text/plain": [
       "{'learning_rate': 0.2, 'max_depth': 2, 'n_estimators': 100}"
      ]
     },
     "execution_count": 33,
     "metadata": {},
     "output_type": "execute_result"
    }
   ],
   "source": [
    "gs_gbclf.best_params_"
   ]
  },
  {
   "cell_type": "code",
   "execution_count": 34,
   "metadata": {},
   "outputs": [
    {
     "name": "stdout",
     "output_type": "stream",
     "text": [
      "Training\n",
      "F1 Score: 0.8124586182474374\n"
     ]
    },
    {
     "data": {
      "image/png": "[encoded data removed]",
      "text/plain": [
       "<Figure size 432x288 with 2 Axes>"
      ]
     },
     "metadata": {
      "needs_background": "light"
     },
     "output_type": "display_data"
    }
   ],
   "source": [
    "print('Training')\n",
    "evaluation_report(gs_gbclf, train_sm[0], train_sm[1])"
   ]
  },
  {
   "cell_type": "code",
   "execution_count": 35,
   "metadata": {
    "scrolled": true
   },
   "outputs": [
    {
     "name": "stdout",
     "output_type": "stream",
     "text": [
      "Testing\n",
      "F1 Score: 0.6769068933090084\n"
     ]
    },
    {
     "data": {
      "image/png": "[encoded data removed]",
      "text/plain": [
       "<Figure size 432x288 with 2 Axes>"
      ]
     },
     "metadata": {
      "needs_background": "light"
     },
     "output_type": "display_data"
    }
   ],
   "source": [
    "print('Testing')\n",
    "evaluation_report(gs_gbclf, test_ohe, y_test)"
   ]
  },
  {
   "cell_type": "markdown",
   "metadata": {},
   "source": [
    "**Model 5**"
   ]
  },
  {
   "cell_type": "code",
   "execution_count": 36,
   "metadata": {},
   "outputs": [],
   "source": [
    "lr_col_trans = ColumnTransformer(verbose=False,transformers=[\n",
    "    ('numerical', numerical_pipeline, numerical_columns),\n",
    "    ('categorical', categorical_pipeline, categorical_columns)\n",
    "])\n",
    "\n",
    "lr_train_transf = lr_col_trans.fit_transform(X_train)\n",
    "lr_test_transf = lr_col_trans.transform(X_test)"
   ]
  },
  {
   "cell_type": "code",
   "execution_count": 37,
   "metadata": {},
   "outputs": [
    {
     "name": "stdout",
     "output_type": "stream",
     "text": [
      "Fitting 5 folds for each of 18 candidates, totalling 90 fits\n"
     ]
    },
    {
     "name": "stderr",
     "output_type": "stream",
     "text": [
      "[Parallel(n_jobs=-1)]: Using backend LokyBackend with 4 concurrent workers.\n",
      "[Parallel(n_jobs=-1)]: Done  42 tasks      | elapsed:    8.2s\n",
      "[Parallel(n_jobs=-1)]: Done  90 out of  90 | elapsed:   14.3s finished\n"
     ]
    },
    {
     "data": {
      "text/plain": [
       "GridSearchCV(estimator=LogisticRegression(class_weight='balanced',\n",
       "                                          max_iter=10000, random_state=9),\n",
       "             n_jobs=-1,\n",
       "             param_grid=[{'C': [0.75, 0.5, 0.25], 'penalty': ['l1', 'l2'],\n",
       "                          'solver': ['saga', 'sag', 'lbfgs']}],\n",
       "             scoring='f1_macro', verbose=True)"
      ]
     },
     "execution_count": 37,
     "metadata": {},
     "output_type": "execute_result"
    }
   ],
   "source": [
    "lr2 = LogisticRegression(max_iter = 10000, random_state=9, class_weight='balanced')\n",
    "\n",
    "param_grid = [\n",
    "    {\n",
    "     'penalty' : ['l1','l2'],\n",
    "     'C' : [.75,.5,.25],\n",
    "     'solver' : ['saga','sag', 'lbfgs']\n",
    "    }, \n",
    "]\n",
    "\n",
    "gs_lr2 = GridSearchCV(lr2, param_grid = param_grid, \n",
    "                        scoring = 'f1_macro', n_jobs=-1, verbose=True)\n",
    "gs_lr2.fit(lr_train_transf, y_train)"
   ]
  },
  {
   "cell_type": "code",
   "execution_count": 38,
   "metadata": {},
   "outputs": [
    {
     "data": {
      "text/plain": [
       "{'C': 0.5, 'penalty': 'l1', 'solver': 'saga'}"
      ]
     },
     "execution_count": 38,
     "metadata": {},
     "output_type": "execute_result"
    }
   ],
   "source": [
    "gs_lr2.best_params_"
   ]
  },
  {
   "cell_type": "code",
   "execution_count": 39,
   "metadata": {},
   "outputs": [
    {
     "name": "stdout",
     "output_type": "stream",
     "text": [
      "Training\n",
      "F1 Score: 0.6596171418304271\n"
     ]
    },
    {
     "data": {
      "image/png": "[encoded data removed]",
      "text/plain": [
       "<Figure size 432x288 with 2 Axes>"
      ]
     },
     "metadata": {
      "needs_background": "light"
     },
     "output_type": "display_data"
    }
   ],
   "source": [
    "print('Training')\n",
    "evaluation_report(gs_lr2, lr_train_transf, y_train)"
   ]
  },
  {
   "cell_type": "code",
   "execution_count": 40,
   "metadata": {},
   "outputs": [
    {
     "name": "stdout",
     "output_type": "stream",
     "text": [
      "Testing\n",
      "F1 Score: 0.6270777655846966\n"
     ]
    },
    {
     "data": {
      "image/png": "[encoded data removed]",
      "text/plain": [
       "<Figure size 432x288 with 2 Axes>"
      ]
     },
     "metadata": {
      "needs_background": "light"
     },
     "output_type": "display_data"
    }
   ],
   "source": [
    "print('Testing')\n",
    "evaluation_report(gs_lr2, lr_test_transf, y_test)"
   ]
  },
  {
   "cell_type": "markdown",
   "metadata": {},
   "source": [
    "**Model 6**"
   ]
  },
  {
   "cell_type": "code",
   "execution_count": 41,
   "metadata": {},
   "outputs": [],
   "source": [
    "from sklearn.utils import class_weight\n",
    "classes_weights = class_weight.compute_sample_weight(\n",
    "    class_weight='balanced',\n",
    "    y=y_train\n",
    ")"
   ]
  },
  {
   "cell_type": "code",
   "execution_count": 42,
   "metadata": {},
   "outputs": [
    {
     "data": {
      "text/plain": [
       "array([1.22041985, 0.59654851, 0.59654851, ..., 0.59654851, 1.03927411,\n",
       "       0.59654851])"
      ]
     },
     "execution_count": 42,
     "metadata": {},
     "output_type": "execute_result"
    }
   ],
   "source": [
    "classes_weights"
   ]
  },
  {
   "cell_type": "code",
   "execution_count": 43,
   "metadata": {},
   "outputs": [
    {
     "data": {
      "text/plain": [
       "GridSearchCV(estimator=XGBClassifier(base_score=None, booster=None,\n",
       "                                     colsample_bylevel=None,\n",
       "                                     colsample_bynode=None,\n",
       "                                     colsample_bytree=None, gamma=None,\n",
       "                                     gpu_id=None, importance_type='gain',\n",
       "                                     interaction_constraints=None,\n",
       "                                     learning_rate=None, max_delta_step=None,\n",
       "                                     max_depth=None, min_child_weight=None,\n",
       "                                     missing=nan, monotone_constraints=None,\n",
       "                                     n_estimators=100, n_jobs=-1,\n",
       "                                     num_parallel_tree=None, random_state=9,\n",
       "                                     reg_alpha=None, reg_lambda=None,\n",
       "                                     scale_pos_weight=None, subsample=None,\n",
       "                                     tree_method=None, validate_parameters=None,\n",
       "                                     verbosity=None),\n",
       "             n_jobs=-1,\n",
       "             param_grid={'booster': ['gbtree', 'dart'],\n",
       "                         'learning_rate': [0.1, 0.05, 0.01, 0.005],\n",
       "                         'max_depth': [1, 2],\n",
       "                         'n_estimators': range(180, 220, 20)},\n",
       "             scoring='f1_macro')"
      ]
     },
     "execution_count": 43,
     "metadata": {},
     "output_type": "execute_result"
    }
   ],
   "source": [
    "xgbc2 = XGBClassifier(random_state = 9, n_jobs = -1)\n",
    "params = {\n",
    "    'max_depth': [1,2],\n",
    "    'learning_rate': [.1,.05,.01,.005],\n",
    "    'n_estimators': range(180,220,20),\n",
    "    'booster': ['gbtree','dart'],\n",
    "#     'weight': classes_weights\n",
    "}\n",
    "#Run gridsearch\n",
    "gs_xgbc2 = GridSearchCV(xgbc2, param_grid=params, scoring='f1_macro', n_jobs =-1 )\n",
    "gs_xgbc2.fit(train_ohe, y_train, sample_weight=classes_weights)"
   ]
  },
  {
   "cell_type": "code",
   "execution_count": 44,
   "metadata": {},
   "outputs": [
    {
     "data": {
      "text/plain": [
       "{'booster': 'gbtree',\n",
       " 'learning_rate': 0.1,\n",
       " 'max_depth': 2,\n",
       " 'n_estimators': 180}"
      ]
     },
     "execution_count": 44,
     "metadata": {},
     "output_type": "execute_result"
    }
   ],
   "source": [
    "gs_xgbc2.best_params_"
   ]
  },
  {
   "cell_type": "code",
   "execution_count": 45,
   "metadata": {},
   "outputs": [
    {
     "name": "stdout",
     "output_type": "stream",
     "text": [
      "Training\n",
      "F1 Score: 0.7392680786078925\n"
     ]
    },
    {
     "data": {
      "image/png": "[encoded data removed]",
      "text/plain": [
       "<Figure size 432x288 with 2 Axes>"
      ]
     },
     "metadata": {
      "needs_background": "light"
     },
     "output_type": "display_data"
    }
   ],
   "source": [
    "print('Training')\n",
    "evaluation_report(gs_xgbc2, train_ohe, y_train)"
   ]
  },
  {
   "cell_type": "code",
   "execution_count": 46,
   "metadata": {},
   "outputs": [
    {
     "name": "stdout",
     "output_type": "stream",
     "text": [
      "Testing\n",
      "F1 Score: 0.678436540462416\n"
     ]
    },
    {
     "data": {
      "image/png": "[encoded data removed]",
      "text/plain": [
       "<Figure size 432x288 with 2 Axes>"
      ]
     },
     "metadata": {
      "needs_background": "light"
     },
     "output_type": "display_data"
    }
   ],
   "source": [
    "print('Testing')\n",
    "evaluation_report(gs_xgbc2, test_ohe, y_test)"
   ]
  },
  {
   "cell_type": "markdown",
   "metadata": {},
   "source": [
    "{'booster': 'gbtree',\n",
    " 'learning_rate': 0.1,\n",
    " 'max_depth': 2,\n",
    " 'n_estimators': 180}\n",
    "\n",
    "Training\n",
    "F1 Score: 0.7392680786078925\n",
    "\n",
    "Testing\n",
    "F1 Score: 0.678436540462416"
   ]
  },
  {
   "cell_type": "code",
   "execution_count": 74,
   "metadata": {},
   "outputs": [],
   "source": [
    "best_model = gs_xgbc2.best_estimator_"
   ]
  },
  {
   "cell_type": "code",
   "execution_count": 48,
   "metadata": {},
   "outputs": [],
   "source": [
    "X_final = df.drop('genre', axis = 1)\n",
    "y_final = df.genre"
   ]
  },
  {
   "cell_type": "code",
   "execution_count": 49,
   "metadata": {},
   "outputs": [],
   "source": [
    "final_ohe = ohe.transform(X_final[categorical_columns])\n",
    "final_ohe = X_final[numerical_columns].reset_index().join(pd.DataFrame(final_ohe)).set_index('id')"
   ]
  },
  {
   "cell_type": "code",
   "execution_count": 50,
   "metadata": {
    "scrolled": true
   },
   "outputs": [
    {
     "data": {
      "text/html": [
       "<div>\n",
       "<style scoped>\n",
       "    .dataframe tbody tr th:only-of-type {\n",
       "        vertical-align: middle;\n",
       "    }\n",
       "\n",
       "    .dataframe tbody tr th {\n",
       "        vertical-align: top;\n",
       "    }\n",
       "\n",
       "    .dataframe thead th {\n",
       "        text-align: right;\n",
       "    }\n",
       "</style>\n",
       "<table border=\"1\" class=\"dataframe\">\n",
       "  <thead>\n",
       "    <tr style=\"text-align: right;\">\n",
       "      <th></th>\n",
       "      <th>danceability</th>\n",
       "      <th>energy</th>\n",
       "      <th>loudness</th>\n",
       "      <th>speechiness</th>\n",
       "      <th>acousticness</th>\n",
       "      <th>instrumentalness</th>\n",
       "      <th>liveness</th>\n",
       "      <th>valence</th>\n",
       "      <th>tempo</th>\n",
       "      <th>duration_ms</th>\n",
       "      <th>...</th>\n",
       "      <th>6</th>\n",
       "      <th>7</th>\n",
       "      <th>8</th>\n",
       "      <th>9</th>\n",
       "      <th>10</th>\n",
       "      <th>11</th>\n",
       "      <th>12</th>\n",
       "      <th>13</th>\n",
       "      <th>14</th>\n",
       "      <th>15</th>\n",
       "    </tr>\n",
       "    <tr>\n",
       "      <th>id</th>\n",
       "      <th></th>\n",
       "      <th></th>\n",
       "      <th></th>\n",
       "      <th></th>\n",
       "      <th></th>\n",
       "      <th></th>\n",
       "      <th></th>\n",
       "      <th></th>\n",
       "      <th></th>\n",
       "      <th></th>\n",
       "      <th></th>\n",
       "      <th></th>\n",
       "      <th></th>\n",
       "      <th></th>\n",
       "      <th></th>\n",
       "      <th></th>\n",
       "      <th></th>\n",
       "      <th></th>\n",
       "      <th></th>\n",
       "      <th></th>\n",
       "      <th></th>\n",
       "    </tr>\n",
       "  </thead>\n",
       "  <tbody>\n",
       "    <tr>\n",
       "      <th>2JCHrnxgfagUZQeJRAx7Hc</th>\n",
       "      <td>0.671</td>\n",
       "      <td>0.522</td>\n",
       "      <td>-8.144</td>\n",
       "      <td>0.0779</td>\n",
       "      <td>0.542000</td>\n",
       "      <td>0.000278</td>\n",
       "      <td>0.3350</td>\n",
       "      <td>0.134</td>\n",
       "      <td>79.975</td>\n",
       "      <td>262533.0</td>\n",
       "      <td>...</td>\n",
       "      <td>0.0</td>\n",
       "      <td>0.0</td>\n",
       "      <td>0.0</td>\n",
       "      <td>0.0</td>\n",
       "      <td>0.0</td>\n",
       "      <td>0.0</td>\n",
       "      <td>0.0</td>\n",
       "      <td>0.0</td>\n",
       "      <td>1.0</td>\n",
       "      <td>0.0</td>\n",
       "    </tr>\n",
       "    <tr>\n",
       "      <th>2G7woUgHMt6QBU7esQ5rsL</th>\n",
       "      <td>0.564</td>\n",
       "      <td>0.932</td>\n",
       "      <td>-10.068</td>\n",
       "      <td>0.0554</td>\n",
       "      <td>0.013000</td>\n",
       "      <td>0.169000</td>\n",
       "      <td>0.3490</td>\n",
       "      <td>0.619</td>\n",
       "      <td>112.937</td>\n",
       "      <td>146250.0</td>\n",
       "      <td>...</td>\n",
       "      <td>0.0</td>\n",
       "      <td>0.0</td>\n",
       "      <td>0.0</td>\n",
       "      <td>0.0</td>\n",
       "      <td>1.0</td>\n",
       "      <td>1.0</td>\n",
       "      <td>0.0</td>\n",
       "      <td>0.0</td>\n",
       "      <td>1.0</td>\n",
       "      <td>0.0</td>\n",
       "    </tr>\n",
       "    <tr>\n",
       "      <th>4eqrNsKy9Mvg1fvfsTVIAE</th>\n",
       "      <td>0.791</td>\n",
       "      <td>0.583</td>\n",
       "      <td>-5.247</td>\n",
       "      <td>0.3690</td>\n",
       "      <td>0.039300</td>\n",
       "      <td>0.000000</td>\n",
       "      <td>0.0577</td>\n",
       "      <td>0.694</td>\n",
       "      <td>149.693</td>\n",
       "      <td>169147.0</td>\n",
       "      <td>...</td>\n",
       "      <td>0.0</td>\n",
       "      <td>0.0</td>\n",
       "      <td>0.0</td>\n",
       "      <td>0.0</td>\n",
       "      <td>0.0</td>\n",
       "      <td>1.0</td>\n",
       "      <td>0.0</td>\n",
       "      <td>0.0</td>\n",
       "      <td>1.0</td>\n",
       "      <td>0.0</td>\n",
       "    </tr>\n",
       "    <tr>\n",
       "      <th>5PU9EPOh36Cw0f5VGcAacw</th>\n",
       "      <td>0.458</td>\n",
       "      <td>0.819</td>\n",
       "      <td>-5.957</td>\n",
       "      <td>0.2630</td>\n",
       "      <td>0.174000</td>\n",
       "      <td>0.000000</td>\n",
       "      <td>0.4070</td>\n",
       "      <td>0.712</td>\n",
       "      <td>83.326</td>\n",
       "      <td>281053.0</td>\n",
       "      <td>...</td>\n",
       "      <td>0.0</td>\n",
       "      <td>0.0</td>\n",
       "      <td>0.0</td>\n",
       "      <td>0.0</td>\n",
       "      <td>0.0</td>\n",
       "      <td>0.0</td>\n",
       "      <td>0.0</td>\n",
       "      <td>0.0</td>\n",
       "      <td>1.0</td>\n",
       "      <td>0.0</td>\n",
       "    </tr>\n",
       "    <tr>\n",
       "      <th>66ace8nbTVjgHTed107cDn</th>\n",
       "      <td>0.431</td>\n",
       "      <td>0.947</td>\n",
       "      <td>-5.067</td>\n",
       "      <td>0.0649</td>\n",
       "      <td>0.000027</td>\n",
       "      <td>0.794000</td>\n",
       "      <td>0.3490</td>\n",
       "      <td>0.422</td>\n",
       "      <td>96.243</td>\n",
       "      <td>215627.0</td>\n",
       "      <td>...</td>\n",
       "      <td>0.0</td>\n",
       "      <td>0.0</td>\n",
       "      <td>0.0</td>\n",
       "      <td>0.0</td>\n",
       "      <td>1.0</td>\n",
       "      <td>1.0</td>\n",
       "      <td>0.0</td>\n",
       "      <td>0.0</td>\n",
       "      <td>1.0</td>\n",
       "      <td>0.0</td>\n",
       "    </tr>\n",
       "    <tr>\n",
       "      <th>...</th>\n",
       "      <td>...</td>\n",
       "      <td>...</td>\n",
       "      <td>...</td>\n",
       "      <td>...</td>\n",
       "      <td>...</td>\n",
       "      <td>...</td>\n",
       "      <td>...</td>\n",
       "      <td>...</td>\n",
       "      <td>...</td>\n",
       "      <td>...</td>\n",
       "      <td>...</td>\n",
       "      <td>...</td>\n",
       "      <td>...</td>\n",
       "      <td>...</td>\n",
       "      <td>...</td>\n",
       "      <td>...</td>\n",
       "      <td>...</td>\n",
       "      <td>...</td>\n",
       "      <td>...</td>\n",
       "      <td>...</td>\n",
       "      <td>...</td>\n",
       "    </tr>\n",
       "    <tr>\n",
       "      <th>619hpcXgBy1EOwOT27cn5s</th>\n",
       "      <td>0.581</td>\n",
       "      <td>0.903</td>\n",
       "      <td>-5.013</td>\n",
       "      <td>0.0786</td>\n",
       "      <td>0.000091</td>\n",
       "      <td>0.124000</td>\n",
       "      <td>0.1870</td>\n",
       "      <td>0.177</td>\n",
       "      <td>107.028</td>\n",
       "      <td>220881.0</td>\n",
       "      <td>...</td>\n",
       "      <td>0.0</td>\n",
       "      <td>1.0</td>\n",
       "      <td>0.0</td>\n",
       "      <td>0.0</td>\n",
       "      <td>0.0</td>\n",
       "      <td>1.0</td>\n",
       "      <td>0.0</td>\n",
       "      <td>0.0</td>\n",
       "      <td>1.0</td>\n",
       "      <td>0.0</td>\n",
       "    </tr>\n",
       "    <tr>\n",
       "      <th>111vcyMmjOkizNXpHmJXLp</th>\n",
       "      <td>0.776</td>\n",
       "      <td>0.736</td>\n",
       "      <td>-10.137</td>\n",
       "      <td>0.2250</td>\n",
       "      <td>0.618000</td>\n",
       "      <td>0.001520</td>\n",
       "      <td>0.3470</td>\n",
       "      <td>0.418</td>\n",
       "      <td>87.798</td>\n",
       "      <td>243879.0</td>\n",
       "      <td>...</td>\n",
       "      <td>0.0</td>\n",
       "      <td>0.0</td>\n",
       "      <td>0.0</td>\n",
       "      <td>0.0</td>\n",
       "      <td>0.0</td>\n",
       "      <td>0.0</td>\n",
       "      <td>0.0</td>\n",
       "      <td>0.0</td>\n",
       "      <td>1.0</td>\n",
       "      <td>0.0</td>\n",
       "    </tr>\n",
       "    <tr>\n",
       "      <th>4k6ktr10Hczmh55NY3LfJy</th>\n",
       "      <td>0.854</td>\n",
       "      <td>0.796</td>\n",
       "      <td>-5.567</td>\n",
       "      <td>0.0399</td>\n",
       "      <td>0.054200</td>\n",
       "      <td>0.001840</td>\n",
       "      <td>0.1510</td>\n",
       "      <td>0.946</td>\n",
       "      <td>115.625</td>\n",
       "      <td>368280.0</td>\n",
       "      <td>...</td>\n",
       "      <td>0.0</td>\n",
       "      <td>0.0</td>\n",
       "      <td>0.0</td>\n",
       "      <td>0.0</td>\n",
       "      <td>1.0</td>\n",
       "      <td>0.0</td>\n",
       "      <td>0.0</td>\n",
       "      <td>0.0</td>\n",
       "      <td>1.0</td>\n",
       "      <td>0.0</td>\n",
       "    </tr>\n",
       "    <tr>\n",
       "      <th>3eJtDZjB6cJx5RaEVeT7Pd</th>\n",
       "      <td>0.378</td>\n",
       "      <td>0.862</td>\n",
       "      <td>-3.941</td>\n",
       "      <td>0.0447</td>\n",
       "      <td>0.000339</td>\n",
       "      <td>0.000007</td>\n",
       "      <td>0.2040</td>\n",
       "      <td>0.284</td>\n",
       "      <td>180.042</td>\n",
       "      <td>211342.0</td>\n",
       "      <td>...</td>\n",
       "      <td>0.0</td>\n",
       "      <td>0.0</td>\n",
       "      <td>0.0</td>\n",
       "      <td>0.0</td>\n",
       "      <td>1.0</td>\n",
       "      <td>0.0</td>\n",
       "      <td>0.0</td>\n",
       "      <td>1.0</td>\n",
       "      <td>0.0</td>\n",
       "      <td>0.0</td>\n",
       "    </tr>\n",
       "    <tr>\n",
       "      <th>5DJTYOAHZEKjNqXpOwnomi</th>\n",
       "      <td>0.707</td>\n",
       "      <td>0.683</td>\n",
       "      <td>-8.728</td>\n",
       "      <td>0.0683</td>\n",
       "      <td>0.184000</td>\n",
       "      <td>0.001080</td>\n",
       "      <td>0.1080</td>\n",
       "      <td>0.567</td>\n",
       "      <td>116.009</td>\n",
       "      <td>243627.0</td>\n",
       "      <td>...</td>\n",
       "      <td>0.0</td>\n",
       "      <td>0.0</td>\n",
       "      <td>0.0</td>\n",
       "      <td>0.0</td>\n",
       "      <td>0.0</td>\n",
       "      <td>1.0</td>\n",
       "      <td>0.0</td>\n",
       "      <td>0.0</td>\n",
       "      <td>1.0</td>\n",
       "      <td>0.0</td>\n",
       "    </tr>\n",
       "  </tbody>\n",
       "</table>\n",
       "<p>5117 rows × 26 columns</p>\n",
       "</div>"
      ],
      "text/plain": [
       "                        danceability  energy  loudness  speechiness  \\\n",
       "id                                                                    \n",
       "2JCHrnxgfagUZQeJRAx7Hc         0.671   0.522    -8.144       0.0779   \n",
       "2G7woUgHMt6QBU7esQ5rsL         0.564   0.932   -10.068       0.0554   \n",
       "4eqrNsKy9Mvg1fvfsTVIAE         0.791   0.583    -5.247       0.3690   \n",
       "5PU9EPOh36Cw0f5VGcAacw         0.458   0.819    -5.957       0.2630   \n",
       "66ace8nbTVjgHTed107cDn         0.431   0.947    -5.067       0.0649   \n",
       "...                              ...     ...       ...          ...   \n",
       "619hpcXgBy1EOwOT27cn5s         0.581   0.903    -5.013       0.0786   \n",
       "111vcyMmjOkizNXpHmJXLp         0.776   0.736   -10.137       0.2250   \n",
       "4k6ktr10Hczmh55NY3LfJy         0.854   0.796    -5.567       0.0399   \n",
       "3eJtDZjB6cJx5RaEVeT7Pd         0.378   0.862    -3.941       0.0447   \n",
       "5DJTYOAHZEKjNqXpOwnomi         0.707   0.683    -8.728       0.0683   \n",
       "\n",
       "                        acousticness  instrumentalness  liveness  valence  \\\n",
       "id                                                                          \n",
       "2JCHrnxgfagUZQeJRAx7Hc      0.542000          0.000278    0.3350    0.134   \n",
       "2G7woUgHMt6QBU7esQ5rsL      0.013000          0.169000    0.3490    0.619   \n",
       "4eqrNsKy9Mvg1fvfsTVIAE      0.039300          0.000000    0.0577    0.694   \n",
       "5PU9EPOh36Cw0f5VGcAacw      0.174000          0.000000    0.4070    0.712   \n",
       "66ace8nbTVjgHTed107cDn      0.000027          0.794000    0.3490    0.422   \n",
       "...                              ...               ...       ...      ...   \n",
       "619hpcXgBy1EOwOT27cn5s      0.000091          0.124000    0.1870    0.177   \n",
       "111vcyMmjOkizNXpHmJXLp      0.618000          0.001520    0.3470    0.418   \n",
       "4k6ktr10Hczmh55NY3LfJy      0.054200          0.001840    0.1510    0.946   \n",
       "3eJtDZjB6cJx5RaEVeT7Pd      0.000339          0.000007    0.2040    0.284   \n",
       "5DJTYOAHZEKjNqXpOwnomi      0.184000          0.001080    0.1080    0.567   \n",
       "\n",
       "                          tempo  duration_ms  ...    6    7    8    9   10  \\\n",
       "id                                            ...                            \n",
       "2JCHrnxgfagUZQeJRAx7Hc   79.975     262533.0  ...  0.0  0.0  0.0  0.0  0.0   \n",
       "2G7woUgHMt6QBU7esQ5rsL  112.937     146250.0  ...  0.0  0.0  0.0  0.0  1.0   \n",
       "4eqrNsKy9Mvg1fvfsTVIAE  149.693     169147.0  ...  0.0  0.0  0.0  0.0  0.0   \n",
       "5PU9EPOh36Cw0f5VGcAacw   83.326     281053.0  ...  0.0  0.0  0.0  0.0  0.0   \n",
       "66ace8nbTVjgHTed107cDn   96.243     215627.0  ...  0.0  0.0  0.0  0.0  1.0   \n",
       "...                         ...          ...  ...  ...  ...  ...  ...  ...   \n",
       "619hpcXgBy1EOwOT27cn5s  107.028     220881.0  ...  0.0  1.0  0.0  0.0  0.0   \n",
       "111vcyMmjOkizNXpHmJXLp   87.798     243879.0  ...  0.0  0.0  0.0  0.0  0.0   \n",
       "4k6ktr10Hczmh55NY3LfJy  115.625     368280.0  ...  0.0  0.0  0.0  0.0  1.0   \n",
       "3eJtDZjB6cJx5RaEVeT7Pd  180.042     211342.0  ...  0.0  0.0  0.0  0.0  1.0   \n",
       "5DJTYOAHZEKjNqXpOwnomi  116.009     243627.0  ...  0.0  0.0  0.0  0.0  0.0   \n",
       "\n",
       "                         11   12   13   14   15  \n",
       "id                                               \n",
       "2JCHrnxgfagUZQeJRAx7Hc  0.0  0.0  0.0  1.0  0.0  \n",
       "2G7woUgHMt6QBU7esQ5rsL  1.0  0.0  0.0  1.0  0.0  \n",
       "4eqrNsKy9Mvg1fvfsTVIAE  1.0  0.0  0.0  1.0  0.0  \n",
       "5PU9EPOh36Cw0f5VGcAacw  0.0  0.0  0.0  1.0  0.0  \n",
       "66ace8nbTVjgHTed107cDn  1.0  0.0  0.0  1.0  0.0  \n",
       "...                     ...  ...  ...  ...  ...  \n",
       "619hpcXgBy1EOwOT27cn5s  1.0  0.0  0.0  1.0  0.0  \n",
       "111vcyMmjOkizNXpHmJXLp  0.0  0.0  0.0  1.0  0.0  \n",
       "4k6ktr10Hczmh55NY3LfJy  0.0  0.0  0.0  1.0  0.0  \n",
       "3eJtDZjB6cJx5RaEVeT7Pd  0.0  0.0  1.0  0.0  0.0  \n",
       "5DJTYOAHZEKjNqXpOwnomi  1.0  0.0  0.0  1.0  0.0  \n",
       "\n",
       "[5117 rows x 26 columns]"
      ]
     },
     "execution_count": 50,
     "metadata": {},
     "output_type": "execute_result"
    }
   ],
   "source": [
    "final_ohe"
   ]
  },
  {
   "cell_type": "code",
   "execution_count": 75,
   "metadata": {},
   "outputs": [
    {
     "data": {
      "text/plain": [
       "XGBClassifier(base_score=0.5, booster='gbtree', colsample_bylevel=1,\n",
       "              colsample_bynode=1, colsample_bytree=1, gamma=0, gpu_id=-1,\n",
       "              importance_type='gain', interaction_constraints='',\n",
       "              learning_rate=0.1, max_delta_step=0, max_depth=2,\n",
       "              min_child_weight=1, missing=nan, monotone_constraints='()',\n",
       "              n_estimators=180, n_jobs=-1, num_parallel_tree=1,\n",
       "              objective='multi:softprob', random_state=9, reg_alpha=0,\n",
       "              reg_lambda=1, scale_pos_weight=None, subsample=1,\n",
       "              tree_method='exact', validate_parameters=1, verbosity=None)"
      ]
     },
     "execution_count": 75,
     "metadata": {},
     "output_type": "execute_result"
    }
   ],
   "source": [
    "best_model.fit(final_ohe, y_final)"
   ]
  },
  {
   "cell_type": "code",
   "execution_count": 76,
   "metadata": {
    "scrolled": true
   },
   "outputs": [
    {
     "data": {
      "text/plain": [
       "array(['hip-hop', 'rock', 'hip-hop', ..., 'pop', 'alt-metal', 'hip-hop'],\n",
       "      dtype=object)"
      ]
     },
     "execution_count": 76,
     "metadata": {},
     "output_type": "execute_result"
    }
   ],
   "source": [
    "best_model.predict(final_ohe)"
   ]
  },
  {
   "cell_type": "code",
   "execution_count": 77,
   "metadata": {
    "scrolled": true
   },
   "outputs": [
    {
     "name": "stdout",
     "output_type": "stream",
     "text": [
      "F1 Score: 0.7382551129572266\n"
     ]
    },
    {
     "data": {
      "image/png": "[encoded data removed]",
      "text/plain": [
       "<Figure size 432x288 with 2 Axes>"
      ]
     },
     "metadata": {
      "needs_background": "light"
     },
     "output_type": "display_data"
    }
   ],
   "source": [
    "evaluation_report(best_model, final_ohe, y_final)"
   ]
  },
  {
   "cell_type": "code",
   "execution_count": 88,
   "metadata": {},
   "outputs": [
    {
     "data": {
      "text/plain": [
       "<AxesSubplot:title={'center':'Feature importance'}, xlabel='F score', ylabel='Features'>"
      ]
     },
     "execution_count": 88,
     "metadata": {},
     "output_type": "execute_result"
    },
    {
     "data": {
      "image/png": "[encoded data removed]",
      "text/plain": [
       "<Figure size 432x288 with 1 Axes>"
      ]
     },
     "metadata": {
      "needs_background": "light"
     },
     "output_type": "display_data"
    }
   ],
   "source": [
    "from xgboost import plot_importance\n",
    "plot_importance(best_model, max_num_features=10)"
   ]
  },
  {
   "cell_type": "code",
   "execution_count": 80,
   "metadata": {},
   "outputs": [],
   "source": [
    "all_songs = df"
   ]
  },
  {
   "cell_type": "code",
   "execution_count": 83,
   "metadata": {},
   "outputs": [],
   "source": [
    "all_songs['predicted_genre'] = best_model.predict(final_ohe)\n",
    "all_songs.drop(['genre'], axis = 1, inplace = True)"
   ]
  },
  {
   "cell_type": "code",
   "execution_count": 84,
   "metadata": {},
   "outputs": [],
   "source": [
    "#Export the model to be used in the other notebooks.\n",
    "pickle_out = open('pickled_files/all_songs_genre_predicted.pickle',\"wb\")\n",
    "pickle.dump([all_songs, best_model, ohe], pickle_out)\n",
    "pickle_out.close()"
   ]
  },
  {
   "cell_type": "code",
   "execution_count": 85,
   "metadata": {},
   "outputs": [
    {
     "data": {
      "text/html": [
       "<div>\n",
       "<style scoped>\n",
       "    .dataframe tbody tr th:only-of-type {\n",
       "        vertical-align: middle;\n",
       "    }\n",
       "\n",
       "    .dataframe tbody tr th {\n",
       "        vertical-align: top;\n",
       "    }\n",
       "\n",
       "    .dataframe thead th {\n",
       "        text-align: right;\n",
       "    }\n",
       "</style>\n",
       "<table border=\"1\" class=\"dataframe\">\n",
       "  <thead>\n",
       "    <tr style=\"text-align: right;\">\n",
       "      <th></th>\n",
       "      <th>danceability</th>\n",
       "      <th>energy</th>\n",
       "      <th>key</th>\n",
       "      <th>loudness</th>\n",
       "      <th>mode</th>\n",
       "      <th>speechiness</th>\n",
       "      <th>acousticness</th>\n",
       "      <th>instrumentalness</th>\n",
       "      <th>liveness</th>\n",
       "      <th>valence</th>\n",
       "      <th>tempo</th>\n",
       "      <th>duration_ms</th>\n",
       "      <th>time_signature</th>\n",
       "      <th>predicted_genre</th>\n",
       "    </tr>\n",
       "    <tr>\n",
       "      <th>id</th>\n",
       "      <th></th>\n",
       "      <th></th>\n",
       "      <th></th>\n",
       "      <th></th>\n",
       "      <th></th>\n",
       "      <th></th>\n",
       "      <th></th>\n",
       "      <th></th>\n",
       "      <th></th>\n",
       "      <th></th>\n",
       "      <th></th>\n",
       "      <th></th>\n",
       "      <th></th>\n",
       "      <th></th>\n",
       "    </tr>\n",
       "  </thead>\n",
       "  <tbody>\n",
       "    <tr>\n",
       "      <th>2JCHrnxgfagUZQeJRAx7Hc</th>\n",
       "      <td>0.671</td>\n",
       "      <td>0.522</td>\n",
       "      <td>0</td>\n",
       "      <td>-8.144</td>\n",
       "      <td>0</td>\n",
       "      <td>0.0779</td>\n",
       "      <td>0.542000</td>\n",
       "      <td>0.000278</td>\n",
       "      <td>0.3350</td>\n",
       "      <td>0.134</td>\n",
       "      <td>79.975</td>\n",
       "      <td>262533.0</td>\n",
       "      <td>4</td>\n",
       "      <td>hip-hop</td>\n",
       "    </tr>\n",
       "    <tr>\n",
       "      <th>2G7woUgHMt6QBU7esQ5rsL</th>\n",
       "      <td>0.564</td>\n",
       "      <td>0.932</td>\n",
       "      <td>11</td>\n",
       "      <td>-10.068</td>\n",
       "      <td>1</td>\n",
       "      <td>0.0554</td>\n",
       "      <td>0.013000</td>\n",
       "      <td>0.169000</td>\n",
       "      <td>0.3490</td>\n",
       "      <td>0.619</td>\n",
       "      <td>112.937</td>\n",
       "      <td>146250.0</td>\n",
       "      <td>4</td>\n",
       "      <td>rock</td>\n",
       "    </tr>\n",
       "    <tr>\n",
       "      <th>4eqrNsKy9Mvg1fvfsTVIAE</th>\n",
       "      <td>0.791</td>\n",
       "      <td>0.583</td>\n",
       "      <td>1</td>\n",
       "      <td>-5.247</td>\n",
       "      <td>1</td>\n",
       "      <td>0.3690</td>\n",
       "      <td>0.039300</td>\n",
       "      <td>0.000000</td>\n",
       "      <td>0.0577</td>\n",
       "      <td>0.694</td>\n",
       "      <td>149.693</td>\n",
       "      <td>169147.0</td>\n",
       "      <td>4</td>\n",
       "      <td>hip-hop</td>\n",
       "    </tr>\n",
       "    <tr>\n",
       "      <th>5PU9EPOh36Cw0f5VGcAacw</th>\n",
       "      <td>0.458</td>\n",
       "      <td>0.819</td>\n",
       "      <td>0</td>\n",
       "      <td>-5.957</td>\n",
       "      <td>0</td>\n",
       "      <td>0.2630</td>\n",
       "      <td>0.174000</td>\n",
       "      <td>0.000000</td>\n",
       "      <td>0.4070</td>\n",
       "      <td>0.712</td>\n",
       "      <td>83.326</td>\n",
       "      <td>281053.0</td>\n",
       "      <td>4</td>\n",
       "      <td>hip-hop</td>\n",
       "    </tr>\n",
       "    <tr>\n",
       "      <th>66ace8nbTVjgHTed107cDn</th>\n",
       "      <td>0.431</td>\n",
       "      <td>0.947</td>\n",
       "      <td>11</td>\n",
       "      <td>-5.067</td>\n",
       "      <td>1</td>\n",
       "      <td>0.0649</td>\n",
       "      <td>0.000027</td>\n",
       "      <td>0.794000</td>\n",
       "      <td>0.3490</td>\n",
       "      <td>0.422</td>\n",
       "      <td>96.243</td>\n",
       "      <td>215627.0</td>\n",
       "      <td>4</td>\n",
       "      <td>alt-metal</td>\n",
       "    </tr>\n",
       "  </tbody>\n",
       "</table>\n",
       "</div>"
      ],
      "text/plain": [
       "                        danceability  energy key  loudness mode  speechiness  \\\n",
       "id                                                                             \n",
       "2JCHrnxgfagUZQeJRAx7Hc         0.671   0.522   0    -8.144    0       0.0779   \n",
       "2G7woUgHMt6QBU7esQ5rsL         0.564   0.932  11   -10.068    1       0.0554   \n",
       "4eqrNsKy9Mvg1fvfsTVIAE         0.791   0.583   1    -5.247    1       0.3690   \n",
       "5PU9EPOh36Cw0f5VGcAacw         0.458   0.819   0    -5.957    0       0.2630   \n",
       "66ace8nbTVjgHTed107cDn         0.431   0.947  11    -5.067    1       0.0649   \n",
       "\n",
       "                        acousticness  instrumentalness  liveness  valence  \\\n",
       "id                                                                          \n",
       "2JCHrnxgfagUZQeJRAx7Hc      0.542000          0.000278    0.3350    0.134   \n",
       "2G7woUgHMt6QBU7esQ5rsL      0.013000          0.169000    0.3490    0.619   \n",
       "4eqrNsKy9Mvg1fvfsTVIAE      0.039300          0.000000    0.0577    0.694   \n",
       "5PU9EPOh36Cw0f5VGcAacw      0.174000          0.000000    0.4070    0.712   \n",
       "66ace8nbTVjgHTed107cDn      0.000027          0.794000    0.3490    0.422   \n",
       "\n",
       "                          tempo  duration_ms time_signature predicted_genre  \n",
       "id                                                                           \n",
       "2JCHrnxgfagUZQeJRAx7Hc   79.975     262533.0              4         hip-hop  \n",
       "2G7woUgHMt6QBU7esQ5rsL  112.937     146250.0              4            rock  \n",
       "4eqrNsKy9Mvg1fvfsTVIAE  149.693     169147.0              4         hip-hop  \n",
       "5PU9EPOh36Cw0f5VGcAacw   83.326     281053.0              4         hip-hop  \n",
       "66ace8nbTVjgHTed107cDn   96.243     215627.0              4       alt-metal  "
      ]
     },
     "execution_count": 85,
     "metadata": {},
     "output_type": "execute_result"
    }
   ],
   "source": [
    "all_songs.head()"
   ]
  },
  {
   "cell_type": "code",
   "execution_count": null,
   "metadata": {},
   "outputs": [],
   "source": []
  }
 ],
 "metadata": {
  "kernelspec": {
   "display_name": "learn-env",
   "language": "python",
   "name": "learn-env"
  },
  "language_info": {
   "codemirror_mode": {
    "name": "ipython",
    "version": 3
   },
   "file_extension": ".py",
   "mimetype": "text/x-python",
   "name": "python",
   "nbconvert_exporter": "python",
   "pygments_lexer": "ipython3",
   "version": "3.8.5"
  }
 },
 "nbformat": 4,
 "nbformat_minor": 4
}
